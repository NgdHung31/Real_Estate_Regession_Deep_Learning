{
  "cells": [
    {
      "cell_type": "markdown",
      "metadata": {
        "colab_type": "text",
        "id": "view-in-github"
      },
      "source": [
        "<a href=\"https://colab.research.google.com/github/NgdHung31/Real_Estate_Regession_Deep_Learning/blob/main/Kaggle_KerassRegression.ipynb\" target=\"_parent\"><img src=\"https://colab.research.google.com/assets/colab-badge.svg\" alt=\"Open In Colab\"/></a>"
      ]
    },
    {
      "cell_type": "markdown",
      "metadata": {
        "id": "1SiwLKBaJ72J"
      },
      "source": [
        "# Hose Sales Prediction (Keras-Regression vs Multiple Regression)"
      ]
    },
    {
      "cell_type": "markdown",
      "metadata": {
        "id": "WDgiapOsJ72L"
      },
      "source": [
        "#### Feature Columns\n",
        "    \n",
        "* id - Unique ID for each home sold\n",
        "* date - Date of the home sale\n",
        "* price - Price of each home sold\n",
        "* bedrooms - Number of bedrooms\n",
        "* bathrooms - Number of bathrooms, where .5 accounts for a room with a toilet but no shower\n",
        "* sqft_living - Square footage of the apartments interior living space\n",
        "* sqft_lot - Square footage of the land space\n",
        "* floors - Number of floors\n",
        "* waterfront - A dummy variable for whether the apartment was overlooking the waterfront or not\n",
        "* view - An index from 0 to 4 of how good the view of the property was\n",
        "* condition - An index from 1 to 5 on the condition of the apartment,\n",
        "* grade - An index from 1 to 13, where 1-3 falls short of building construction and design, 7 has an average level of construction and design, and 11-13 have a high quality level of construction and design.\n",
        "* sqft_above - The square footage of the interior housing space that is above ground level\n",
        "* sqft_basement - The square footage of the interior housing space that is below ground level\n",
        "* yr_built - The year the house was initially built\n",
        "* yr_renovated - The year of the house’s last renovation\n",
        "* zipcode - What zipcode area the house is in\n",
        "* lat - Lattitude\n",
        "* long - Longitude\n",
        "* sqft_living15 - The square footage of interior housing living space for the nearest 15 neighbors\n",
        "* sqft_lot15 - The square footage of the land lots of the nearest 15 neighbors\n",
        "\n",
        "\n",
        "Data used: https://www.kaggle.com/harlfoxem/housesalesprediction"
      ]
    },
    {
      "cell_type": "code",
      "execution_count": 1,
      "metadata": {
        "colab": {
          "base_uri": "https://localhost:8080/"
        },
        "id": "dGChnkOCFNLo",
        "outputId": "c3a05d40-6c05-498f-f450-dc428da8a2cf"
      },
      "outputs": [
        {
          "name": "stdout",
          "output_type": "stream",
          "text": [
            "\u001b[33mWARNING: Error parsing requirements for typing-extensions: [Errno 2] No such file or directory: '/home/dev_ai/miniconda/envs/lightning/lib/python3.8/site-packages/typing_extensions-4.11.0.dist-info/METADATA'\u001b[0m\u001b[33m\n",
            "\u001b[0mNote: you may need to restart the kernel to use updated packages.\n",
            "\u001b[33mWARNING: Error parsing requirements for typing-extensions: [Errno 2] No such file or directory: '/home/dev_ai/miniconda/envs/lightning/lib/python3.8/site-packages/typing_extensions-4.11.0.dist-info/METADATA'\u001b[0m\u001b[33m\n",
            "\u001b[0mNote: you may need to restart the kernel to use updated packages.\n",
            "/home/dev_ai/miniconda/envs/lightning/lib/python3.8/site-packages/gdown/__main__.py:132: FutureWarning: Option `--id` was deprecated in version 4.3.1 and will be removed in 5.0. You don't need to pass it anymore to use a file ID.\n",
            "  warnings.warn(\n",
            "Downloading...\n",
            "From: https://drive.google.com/uc?id=1H98Xv24pGw9jTQO5sJsp6X8xRPfrxiHG\n",
            "To: /media/dev_ai/Artist_Cache/Real_Estate_Regession_Deep_Learning/content/dataset_non_outliers_Price_Area.csv\n",
            "100%|██████████████████████████████████████| 9.23M/9.23M [00:00<00:00, 12.8MB/s]\n"
          ]
        }
      ],
      "source": [
        "%pip install gdown -U -q\n",
        "%pip install scikit-learn -U -q\n",
        "# %pip install tensorflow -U -q\n",
        "!gdown --id 1H98Xv24pGw9jTQO5sJsp6X8xRPfrxiHG --output \"./content/dataset_non_outliers_Price_Area.csv\""
      ]
    },
    {
      "cell_type": "code",
      "execution_count": 2,
      "metadata": {
        "colab": {
          "base_uri": "https://localhost:8080/"
        },
        "id": "mQ-aKfIaJ72M",
        "outputId": "63febee5-7d26-4e88-a97c-35d1aa875323"
      },
      "outputs": [],
      "source": [
        "# import required libraries\n",
        "import pandas as pd\n",
        "import numpy as np\n",
        "import seaborn as sns\n",
        "sns.set_theme()\n",
        "import matplotlib.pyplot as plt"
      ]
    },
    {
      "cell_type": "code",
      "execution_count": 3,
      "metadata": {
        "colab": {
          "base_uri": "https://localhost:8080/"
        },
        "id": "oSsqJH6RJ72N",
        "outputId": "6f82e258-ebc2-4f91-c82d-8fdc418cfb7b"
      },
      "outputs": [],
      "source": [
        "# read the csv file\n",
        "Data = pd.read_csv(\n",
        "    './content/dataset_non_outliers_Price_Area.csv', low_memory=False)"
      ]
    },
    {
      "cell_type": "markdown",
      "metadata": {
        "id": "EX04sc2jJ72N"
      },
      "source": [
        "# Exploratory Data Analysis"
      ]
    },
    {
      "cell_type": "code",
      "execution_count": 4,
      "metadata": {
        "colab": {
          "base_uri": "https://localhost:8080/",
          "height": 464
        },
        "id": "76Pd4PKFJ72O",
        "outputId": "0ccfd36b-334f-4c75-ad10-6c5bc22a1451"
      },
      "outputs": [
        {
          "data": {
            "text/html": [
              "<div>\n",
              "<style scoped>\n",
              "    .dataframe tbody tr th:only-of-type {\n",
              "        vertical-align: middle;\n",
              "    }\n",
              "\n",
              "    .dataframe tbody tr th {\n",
              "        vertical-align: top;\n",
              "    }\n",
              "\n",
              "    .dataframe thead th {\n",
              "        text-align: right;\n",
              "    }\n",
              "</style>\n",
              "<table border=\"1\" class=\"dataframe\">\n",
              "  <thead>\n",
              "    <tr style=\"text-align: right;\">\n",
              "      <th></th>\n",
              "      <th>Property_type</th>\n",
              "      <th>Area</th>\n",
              "      <th>Width</th>\n",
              "      <th>Length</th>\n",
              "      <th>Frontage</th>\n",
              "      <th>Number_of_floors</th>\n",
              "      <th>Number_of_bedrooms</th>\n",
              "      <th>Number_of_toilets</th>\n",
              "      <th>Legal_status</th>\n",
              "      <th>Furniture</th>\n",
              "      <th>...</th>\n",
              "      <th>Posting_date</th>\n",
              "      <th>Expiry_date</th>\n",
              "      <th>Type_of_listing</th>\n",
              "      <th>Project_name</th>\n",
              "      <th>Street</th>\n",
              "      <th>Ward</th>\n",
              "      <th>District</th>\n",
              "      <th>Province</th>\n",
              "      <th>Distance</th>\n",
              "      <th>Price</th>\n",
              "    </tr>\n",
              "  </thead>\n",
              "  <tbody>\n",
              "    <tr>\n",
              "      <th>0</th>\n",
              "      <td>Nhà biệt thự</td>\n",
              "      <td>80.0</td>\n",
              "      <td>NaN</td>\n",
              "      <td>NaN</td>\n",
              "      <td>NaN</td>\n",
              "      <td>3.0</td>\n",
              "      <td>4.0</td>\n",
              "      <td>3</td>\n",
              "      <td>Đã có sổ</td>\n",
              "      <td>Có nội thất</td>\n",
              "      <td>...</td>\n",
              "      <td>1/11/2023</td>\n",
              "      <td>16/11/2023</td>\n",
              "      <td>Tin thường</td>\n",
              "      <td>Dự án Lovera Park</td>\n",
              "      <td>Đường Trịnh Quang Nghị</td>\n",
              "      <td>Xã Phong Phú</td>\n",
              "      <td>Bình Chánh</td>\n",
              "      <td>TP Hồ Chí Minh</td>\n",
              "      <td>9.623252</td>\n",
              "      <td>6.5</td>\n",
              "    </tr>\n",
              "    <tr>\n",
              "      <th>1</th>\n",
              "      <td>Nhà biệt thự</td>\n",
              "      <td>80.0</td>\n",
              "      <td>NaN</td>\n",
              "      <td>NaN</td>\n",
              "      <td>6.0</td>\n",
              "      <td>3.0</td>\n",
              "      <td>3.0</td>\n",
              "      <td>3</td>\n",
              "      <td>Đã có sổ</td>\n",
              "      <td>Có nội thất</td>\n",
              "      <td>...</td>\n",
              "      <td>31/10/2023</td>\n",
              "      <td>7/11/2023</td>\n",
              "      <td>Tin VIP Bạc</td>\n",
              "      <td>Dự án Khang Điền Bình Chánh</td>\n",
              "      <td>Đường Trịnh Quang Nghị</td>\n",
              "      <td>Xã Phong Phú</td>\n",
              "      <td>Bình Chánh</td>\n",
              "      <td>TP Hồ Chí Minh</td>\n",
              "      <td>9.623252</td>\n",
              "      <td>7.9</td>\n",
              "    </tr>\n",
              "    <tr>\n",
              "      <th>2</th>\n",
              "      <td>Nhà biệt thự</td>\n",
              "      <td>136.5</td>\n",
              "      <td>NaN</td>\n",
              "      <td>NaN</td>\n",
              "      <td>7.0</td>\n",
              "      <td>3.0</td>\n",
              "      <td>4.0</td>\n",
              "      <td>4</td>\n",
              "      <td>Đã có sổ</td>\n",
              "      <td>Có nội thất</td>\n",
              "      <td>...</td>\n",
              "      <td>30/10/2023</td>\n",
              "      <td>14/11/2023</td>\n",
              "      <td>Tin VIP Bạc</td>\n",
              "      <td>Dự án KDC Phong Phú 5</td>\n",
              "      <td>Đường Số 5</td>\n",
              "      <td>Xã Phong Phú</td>\n",
              "      <td>Bình Chánh</td>\n",
              "      <td>TP Hồ Chí Minh</td>\n",
              "      <td>9.623252</td>\n",
              "      <td>10.8</td>\n",
              "    </tr>\n",
              "    <tr>\n",
              "      <th>3</th>\n",
              "      <td>Nhà biệt thự</td>\n",
              "      <td>95.0</td>\n",
              "      <td>NaN</td>\n",
              "      <td>NaN</td>\n",
              "      <td>NaN</td>\n",
              "      <td>5.0</td>\n",
              "      <td>5.0</td>\n",
              "      <td>4</td>\n",
              "      <td>Đã có sổ</td>\n",
              "      <td>Không có nội thất</td>\n",
              "      <td>...</td>\n",
              "      <td>20/10/2023</td>\n",
              "      <td>4/11/2023</td>\n",
              "      <td>Tin thường</td>\n",
              "      <td>Unknown</td>\n",
              "      <td>Đường Quách Điêu</td>\n",
              "      <td>Xã Vĩnh Lộc A</td>\n",
              "      <td>Bình Chánh</td>\n",
              "      <td>TP Hồ Chí Minh</td>\n",
              "      <td>14.245030</td>\n",
              "      <td>7.6</td>\n",
              "    </tr>\n",
              "    <tr>\n",
              "      <th>4</th>\n",
              "      <td>Nhà biệt thự</td>\n",
              "      <td>90.0</td>\n",
              "      <td>NaN</td>\n",
              "      <td>NaN</td>\n",
              "      <td>NaN</td>\n",
              "      <td>5.0</td>\n",
              "      <td>5.0</td>\n",
              "      <td>4</td>\n",
              "      <td>Đã có sổ</td>\n",
              "      <td>Không có nội thất</td>\n",
              "      <td>...</td>\n",
              "      <td>30/10/2023</td>\n",
              "      <td>14/11/2023</td>\n",
              "      <td>Tin thường</td>\n",
              "      <td>Unknown</td>\n",
              "      <td>Đường Quách Điêu</td>\n",
              "      <td>Xã Vĩnh Lộc A</td>\n",
              "      <td>Bình Chánh</td>\n",
              "      <td>TP Hồ Chí Minh</td>\n",
              "      <td>14.245030</td>\n",
              "      <td>7.6</td>\n",
              "    </tr>\n",
              "  </tbody>\n",
              "</table>\n",
              "<p>5 rows × 23 columns</p>\n",
              "</div>"
            ],
            "text/plain": [
              "  Property_type   Area  Width  Length  Frontage  Number_of_floors  \\\n",
              "0  Nhà biệt thự   80.0    NaN     NaN       NaN               3.0   \n",
              "1  Nhà biệt thự   80.0    NaN     NaN       6.0               3.0   \n",
              "2  Nhà biệt thự  136.5    NaN     NaN       7.0               3.0   \n",
              "3  Nhà biệt thự   95.0    NaN     NaN       NaN               5.0   \n",
              "4  Nhà biệt thự   90.0    NaN     NaN       NaN               5.0   \n",
              "\n",
              "   Number_of_bedrooms Number_of_toilets Legal_status          Furniture  ...  \\\n",
              "0                 4.0                 3     Đã có sổ        Có nội thất  ...   \n",
              "1                 3.0                 3     Đã có sổ        Có nội thất  ...   \n",
              "2                 4.0                 4     Đã có sổ        Có nội thất  ...   \n",
              "3                 5.0                 4     Đã có sổ  Không có nội thất  ...   \n",
              "4                 5.0                 4     Đã có sổ  Không có nội thất  ...   \n",
              "\n",
              "  Posting_date Expiry_date  Type_of_listing                 Project_name  \\\n",
              "0    1/11/2023  16/11/2023       Tin thường            Dự án Lovera Park   \n",
              "1   31/10/2023   7/11/2023     Tin VIP Bạc  Dự án Khang Điền Bình Chánh   \n",
              "2   30/10/2023  14/11/2023     Tin VIP Bạc        Dự án KDC Phong Phú 5   \n",
              "3   20/10/2023   4/11/2023       Tin thường                      Unknown   \n",
              "4   30/10/2023  14/11/2023       Tin thường                      Unknown   \n",
              "\n",
              "                   Street           Ward    District        Province  \\\n",
              "0  Đường Trịnh Quang Nghị   Xã Phong Phú  Bình Chánh  TP Hồ Chí Minh   \n",
              "1  Đường Trịnh Quang Nghị   Xã Phong Phú  Bình Chánh  TP Hồ Chí Minh   \n",
              "2              Đường Số 5   Xã Phong Phú  Bình Chánh  TP Hồ Chí Minh   \n",
              "3        Đường Quách Điêu  Xã Vĩnh Lộc A  Bình Chánh  TP Hồ Chí Minh   \n",
              "4        Đường Quách Điêu  Xã Vĩnh Lộc A  Bình Chánh  TP Hồ Chí Minh   \n",
              "\n",
              "    Distance Price  \n",
              "0   9.623252   6.5  \n",
              "1   9.623252   7.9  \n",
              "2   9.623252  10.8  \n",
              "3  14.245030   7.6  \n",
              "4  14.245030   7.6  \n",
              "\n",
              "[5 rows x 23 columns]"
            ]
          },
          "execution_count": 4,
          "metadata": {},
          "output_type": "execute_result"
        }
      ],
      "source": [
        "Data.head(5)"
      ]
    },
    {
      "cell_type": "code",
      "execution_count": 5,
      "metadata": {
        "colab": {
          "base_uri": "https://localhost:8080/",
          "height": 852
        },
        "id": "Dh2eYA5VJ72P",
        "outputId": "9caa18d9-67be-40d8-a10d-37952ab937da"
      },
      "outputs": [
        {
          "name": "stdout",
          "output_type": "stream",
          "text": [
            "<class 'pandas.core.frame.DataFrame'>\n",
            "RangeIndex: 47637 entries, 0 to 47636\n",
            "Data columns (total 23 columns):\n",
            " #   Column               Non-Null Count  Dtype  \n",
            "---  ------               --------------  -----  \n",
            " 0   Property_type        47637 non-null  object \n",
            " 1   Area                 47637 non-null  float64\n",
            " 2   Width                3205 non-null   float64\n",
            " 3   Length               1648 non-null   float64\n",
            " 4   Frontage             8695 non-null   float64\n",
            " 5   Number_of_floors     20686 non-null  float64\n",
            " 6   Number_of_bedrooms   41687 non-null  float64\n",
            " 7   Number_of_toilets    36947 non-null  object \n",
            " 8   Legal_status         47637 non-null  object \n",
            " 9   Furniture            47637 non-null  object \n",
            " 10  House_orientation    11611 non-null  object \n",
            " 11  Balcony_orientation  6539 non-null   object \n",
            " 12  Access_road          8451 non-null   float64\n",
            " 13  Posting_date         47637 non-null  object \n",
            " 14  Expiry_date          26859 non-null  object \n",
            " 15  Type_of_listing      26898 non-null  object \n",
            " 16  Project_name         22423 non-null  object \n",
            " 17  Street               46176 non-null  object \n",
            " 18  Ward                 47637 non-null  object \n",
            " 19  District             47637 non-null  object \n",
            " 20  Province             47637 non-null  object \n",
            " 21  Distance             47637 non-null  float64\n",
            " 22  Price                47637 non-null  float64\n",
            "dtypes: float64(9), object(14)\n",
            "memory usage: 8.4+ MB\n"
          ]
        },
        {
          "data": {
            "text/html": [
              "<div>\n",
              "<style scoped>\n",
              "    .dataframe tbody tr th:only-of-type {\n",
              "        vertical-align: middle;\n",
              "    }\n",
              "\n",
              "    .dataframe tbody tr th {\n",
              "        vertical-align: top;\n",
              "    }\n",
              "\n",
              "    .dataframe thead th {\n",
              "        text-align: right;\n",
              "    }\n",
              "</style>\n",
              "<table border=\"1\" class=\"dataframe\">\n",
              "  <thead>\n",
              "    <tr style=\"text-align: right;\">\n",
              "      <th></th>\n",
              "      <th>count</th>\n",
              "      <th>mean</th>\n",
              "      <th>std</th>\n",
              "      <th>min</th>\n",
              "      <th>25%</th>\n",
              "      <th>50%</th>\n",
              "      <th>75%</th>\n",
              "      <th>max</th>\n",
              "    </tr>\n",
              "  </thead>\n",
              "  <tbody>\n",
              "    <tr>\n",
              "      <th>Area</th>\n",
              "      <td>47637.0</td>\n",
              "      <td>74.756512</td>\n",
              "      <td>28.897334</td>\n",
              "      <td>7.000000</td>\n",
              "      <td>55.000000</td>\n",
              "      <td>70.000000</td>\n",
              "      <td>90.000000</td>\n",
              "      <td>161.000000</td>\n",
              "    </tr>\n",
              "    <tr>\n",
              "      <th>Width</th>\n",
              "      <td>3205.0</td>\n",
              "      <td>4.931357</td>\n",
              "      <td>7.158506</td>\n",
              "      <td>2.000000</td>\n",
              "      <td>4.000000</td>\n",
              "      <td>4.000000</td>\n",
              "      <td>5.000000</td>\n",
              "      <td>350.000000</td>\n",
              "    </tr>\n",
              "    <tr>\n",
              "      <th>Length</th>\n",
              "      <td>1648.0</td>\n",
              "      <td>15.070631</td>\n",
              "      <td>9.356820</td>\n",
              "      <td>1.000000</td>\n",
              "      <td>11.000000</td>\n",
              "      <td>14.000000</td>\n",
              "      <td>18.000000</td>\n",
              "      <td>222.500000</td>\n",
              "    </tr>\n",
              "    <tr>\n",
              "      <th>Frontage</th>\n",
              "      <td>8695.0</td>\n",
              "      <td>5.570094</td>\n",
              "      <td>12.226474</td>\n",
              "      <td>1.000000</td>\n",
              "      <td>4.000000</td>\n",
              "      <td>4.800000</td>\n",
              "      <td>6.000000</td>\n",
              "      <td>980.000000</td>\n",
              "    </tr>\n",
              "    <tr>\n",
              "      <th>Number_of_floors</th>\n",
              "      <td>20686.0</td>\n",
              "      <td>3.145702</td>\n",
              "      <td>1.314078</td>\n",
              "      <td>1.000000</td>\n",
              "      <td>2.000000</td>\n",
              "      <td>3.000000</td>\n",
              "      <td>4.000000</td>\n",
              "      <td>9.000000</td>\n",
              "    </tr>\n",
              "    <tr>\n",
              "      <th>Number_of_bedrooms</th>\n",
              "      <td>41687.0</td>\n",
              "      <td>3.038117</td>\n",
              "      <td>2.118783</td>\n",
              "      <td>1.000000</td>\n",
              "      <td>2.000000</td>\n",
              "      <td>2.000000</td>\n",
              "      <td>4.000000</td>\n",
              "      <td>57.000000</td>\n",
              "    </tr>\n",
              "    <tr>\n",
              "      <th>Access_road</th>\n",
              "      <td>8451.0</td>\n",
              "      <td>10.108733</td>\n",
              "      <td>9.184272</td>\n",
              "      <td>1.050000</td>\n",
              "      <td>5.000000</td>\n",
              "      <td>8.000000</td>\n",
              "      <td>12.000000</td>\n",
              "      <td>322.000000</td>\n",
              "    </tr>\n",
              "    <tr>\n",
              "      <th>Distance</th>\n",
              "      <td>47637.0</td>\n",
              "      <td>7.362353</td>\n",
              "      <td>3.917916</td>\n",
              "      <td>0.449674</td>\n",
              "      <td>4.274879</td>\n",
              "      <td>6.949138</td>\n",
              "      <td>9.636417</td>\n",
              "      <td>49.613941</td>\n",
              "    </tr>\n",
              "    <tr>\n",
              "      <th>Price</th>\n",
              "      <td>47637.0</td>\n",
              "      <td>7.174582</td>\n",
              "      <td>6.590799</td>\n",
              "      <td>0.010000</td>\n",
              "      <td>2.600000</td>\n",
              "      <td>4.700000</td>\n",
              "      <td>9.000000</td>\n",
              "      <td>33.000000</td>\n",
              "    </tr>\n",
              "  </tbody>\n",
              "</table>\n",
              "</div>"
            ],
            "text/plain": [
              "                      count       mean        std       min        25%  \\\n",
              "Area                47637.0  74.756512  28.897334  7.000000  55.000000   \n",
              "Width                3205.0   4.931357   7.158506  2.000000   4.000000   \n",
              "Length               1648.0  15.070631   9.356820  1.000000  11.000000   \n",
              "Frontage             8695.0   5.570094  12.226474  1.000000   4.000000   \n",
              "Number_of_floors    20686.0   3.145702   1.314078  1.000000   2.000000   \n",
              "Number_of_bedrooms  41687.0   3.038117   2.118783  1.000000   2.000000   \n",
              "Access_road          8451.0  10.108733   9.184272  1.050000   5.000000   \n",
              "Distance            47637.0   7.362353   3.917916  0.449674   4.274879   \n",
              "Price               47637.0   7.174582   6.590799  0.010000   2.600000   \n",
              "\n",
              "                          50%        75%         max  \n",
              "Area                70.000000  90.000000  161.000000  \n",
              "Width                4.000000   5.000000  350.000000  \n",
              "Length              14.000000  18.000000  222.500000  \n",
              "Frontage             4.800000   6.000000  980.000000  \n",
              "Number_of_floors     3.000000   4.000000    9.000000  \n",
              "Number_of_bedrooms   2.000000   4.000000   57.000000  \n",
              "Access_road          8.000000  12.000000  322.000000  \n",
              "Distance             6.949138   9.636417   49.613941  \n",
              "Price                4.700000   9.000000   33.000000  "
            ]
          },
          "execution_count": 5,
          "metadata": {},
          "output_type": "execute_result"
        }
      ],
      "source": [
        "#get some information about our DataSet\n",
        "Data.info()\n",
        "Data.describe().transpose()"
      ]
    },
    {
      "cell_type": "code",
      "execution_count": 6,
      "metadata": {
        "id": "6WAohgdDJ72P"
      },
      "outputs": [],
      "source": [
        "#let's drop unnecessory featurs\n",
        "#Data = Data.drop('id',axis=1)\n",
        "#Data = Data.drop('zipcode',axis=1)"
      ]
    },
    {
      "cell_type": "code",
      "execution_count": 7,
      "metadata": {
        "colab": {
          "base_uri": "https://localhost:8080/"
        },
        "id": "dW76p0HJJ72Q",
        "outputId": "0826487a-6f59-40bf-bfae-6eeb4a67f8cd"
      },
      "outputs": [
        {
          "data": {
            "text/plain": [
              "Property_type              0\n",
              "Area                       0\n",
              "Width                  44432\n",
              "Length                 45989\n",
              "Frontage               38942\n",
              "Number_of_floors       26951\n",
              "Number_of_bedrooms      5950\n",
              "Number_of_toilets      10690\n",
              "Legal_status               0\n",
              "Furniture                  0\n",
              "House_orientation      36026\n",
              "Balcony_orientation    41098\n",
              "Access_road            39186\n",
              "Posting_date               0\n",
              "Expiry_date            20778\n",
              "Type_of_listing        20739\n",
              "Project_name           25214\n",
              "Street                  1461\n",
              "Ward                       0\n",
              "District                   0\n",
              "Province                   0\n",
              "Distance                   0\n",
              "Price                      0\n",
              "dtype: int64"
            ]
          },
          "execution_count": 7,
          "metadata": {},
          "output_type": "execute_result"
        }
      ],
      "source": [
        "# check if there are any Null values\n",
        "Data.isnull().sum()"
      ]
    },
    {
      "cell_type": "code",
      "execution_count": 8,
      "metadata": {
        "colab": {
          "base_uri": "https://localhost:8080/",
          "height": 898
        },
        "id": "r_SyTcIMJ72Q",
        "outputId": "4f78be11-6895-4f45-adfe-ec10fe5b9571"
      },
      "outputs": [
        {
          "data": {
            "image/png": "[encoded data removed]",
            "text/plain": [
              "<Figure size 1000x700 with 2 Axes>"
            ]
          },
          "metadata": {},
          "output_type": "display_data"
        }
      ],
      "source": [
        "#visualizing house prices\n",
        "fig = plt.figure(figsize=(10,7))\n",
        "fig.add_subplot(2,1,1)\n",
        "sns.histplot(Data['Price'], kde=True, bins=20)\n",
        "fig.add_subplot(2,1,2)\n",
        "sns.boxplot(Data['Price'])\n",
        "plt.tight_layout()"
      ]
    },
    {
      "cell_type": "markdown",
      "metadata": {},
      "source": [
        "## Feature Engineer"
      ]
    },
    {
      "cell_type": "code",
      "execution_count": 9,
      "metadata": {
        "id": "qvZUZj7fX11l"
      },
      "outputs": [
        {
          "data": {
            "text/plain": [
              "Property_type             0\n",
              "Area                      0\n",
              "Number_of_floors       7146\n",
              "Number_of_bedrooms     5950\n",
              "Number_of_toilets     10690\n",
              "Legal_status              0\n",
              "Furniture                 0\n",
              "Project_name              0\n",
              "District                  0\n",
              "Distance                  0\n",
              "Price                     0\n",
              "dtype: int64"
            ]
          },
          "execution_count": 9,
          "metadata": {},
          "output_type": "execute_result"
        }
      ],
      "source": [
        "Data = Data.drop(labels=['Frontage','Street', 'Ward', 'Province', 'Width', 'Length', 'House_orientation', 'Balcony_orientation', 'Access_road', 'Posting_date', 'Expiry_date', 'Type_of_listing'], axis=1)\n",
        "\n",
        "Data.loc[Data[\"Property_type\"] == \"Chung cư\", \"Number_of_floors\"] = 1\n",
        "Data.loc[pd.isnull(Data[\"Project_name\"]), \"Project_name\"] = \"Other\"\n",
        "\n",
        "Data.isnull().sum()"
      ]
    },
    {
      "cell_type": "code",
      "execution_count": 10,
      "metadata": {},
      "outputs": [],
      "source": [
        "Data = Data.rename(columns={'Number_of_floors': 'Floors',\n",
        "                   'Number_of_bedrooms': 'Bedrooms', \n",
        "                   'Number_of_toilets': 'Toilets'})\n",
        "\n",
        "# Convert object value to numeric value\n",
        "Data['Toilets'] = Data['Toilets'].replace('Nhiều hơn 6 phòng', 7)\n",
        "Data['Toilets'] = pd.to_numeric(Data['Toilets'], errors='coerce')"
      ]
    },
    {
      "cell_type": "code",
      "execution_count": 11,
      "metadata": {
        "colab": {
          "base_uri": "https://localhost:8080/",
          "height": 858
        },
        "id": "9VOL7PWXJ72Q",
        "outputId": "c8e3efd8-1e0c-43df-d7a9-03487df2c9d6"
      },
      "outputs": [
        {
          "name": "stderr",
          "output_type": "stream",
          "text": [
            "/tmp/ipykernel_803484/2360245049.py:10: UserWarning: The figure layout has changed to tight\n",
            "  plt.tight_layout()\n"
          ]
        },
        {
          "data": {
            "image/png": "[encoded data removed]",
            "text/plain": [
              "<Figure size 1500x700 with 3 Axes>"
            ]
          },
          "metadata": {},
          "output_type": "display_data"
        }
      ],
      "source": [
        "#visualizing bedrooms, bathrooms, floors,grades\n",
        "fig = plt.figure(figsize=(15,7),constrained_layout=True)\n",
        "fig.add_subplot(3,1,1)\n",
        "sns.countplot(x='Bedrooms', hue='Bedrooms', data=Data,\n",
        "              palette='Greens_d', legend=True)\n",
        "fig.add_subplot(3,1,2)\n",
        "sns.countplot(x='Floors', hue='Floors', data=Data)\n",
        "fig.add_subplot(3,1,3)\n",
        "sns.countplot(x='Toilets', hue='Toilets', data=Data)\n",
        "plt.tight_layout()"
      ]
    },
    {
      "cell_type": "markdown",
      "metadata": {},
      "source": [
        "# Encoding the values"
      ]
    },
    {
      "cell_type": "code",
      "execution_count": 12,
      "metadata": {},
      "outputs": [
        {
          "name": "stdout",
          "output_type": "stream",
          "text": [
            "<class 'pandas.core.frame.DataFrame'>\n",
            "RangeIndex: 47637 entries, 0 to 47636\n",
            "Data columns (total 11 columns):\n",
            " #   Column         Non-Null Count  Dtype  \n",
            "---  ------         --------------  -----  \n",
            " 0   Property_type  47637 non-null  object \n",
            " 1   Area           47637 non-null  float64\n",
            " 2   Floors         40491 non-null  float64\n",
            " 3   Bedrooms       41687 non-null  float64\n",
            " 4   Toilets        36947 non-null  float64\n",
            " 5   Legal_status   47637 non-null  object \n",
            " 6   Furniture      47637 non-null  object \n",
            " 7   Project_name   47637 non-null  object \n",
            " 8   District       47637 non-null  object \n",
            " 9   Distance       47637 non-null  float64\n",
            " 10  Price          47637 non-null  float64\n",
            "dtypes: float64(6), object(5)\n",
            "memory usage: 4.0+ MB\n"
          ]
        },
        {
          "data": {
            "text/html": [
              "<div>\n",
              "<style scoped>\n",
              "    .dataframe tbody tr th:only-of-type {\n",
              "        vertical-align: middle;\n",
              "    }\n",
              "\n",
              "    .dataframe tbody tr th {\n",
              "        vertical-align: top;\n",
              "    }\n",
              "\n",
              "    .dataframe thead th {\n",
              "        text-align: right;\n",
              "    }\n",
              "</style>\n",
              "<table border=\"1\" class=\"dataframe\">\n",
              "  <thead>\n",
              "    <tr style=\"text-align: right;\">\n",
              "      <th></th>\n",
              "      <th>count</th>\n",
              "      <th>mean</th>\n",
              "      <th>std</th>\n",
              "      <th>min</th>\n",
              "      <th>25%</th>\n",
              "      <th>50%</th>\n",
              "      <th>75%</th>\n",
              "      <th>max</th>\n",
              "    </tr>\n",
              "  </thead>\n",
              "  <tbody>\n",
              "    <tr>\n",
              "      <th>Area</th>\n",
              "      <td>47637.0</td>\n",
              "      <td>74.756512</td>\n",
              "      <td>28.897334</td>\n",
              "      <td>7.000000</td>\n",
              "      <td>55.000000</td>\n",
              "      <td>70.000000</td>\n",
              "      <td>90.000000</td>\n",
              "      <td>161.000000</td>\n",
              "    </tr>\n",
              "    <tr>\n",
              "      <th>Floors</th>\n",
              "      <td>40491.0</td>\n",
              "      <td>2.096194</td>\n",
              "      <td>1.425713</td>\n",
              "      <td>1.000000</td>\n",
              "      <td>1.000000</td>\n",
              "      <td>1.000000</td>\n",
              "      <td>3.000000</td>\n",
              "      <td>9.000000</td>\n",
              "    </tr>\n",
              "    <tr>\n",
              "      <th>Bedrooms</th>\n",
              "      <td>41687.0</td>\n",
              "      <td>3.038117</td>\n",
              "      <td>2.118783</td>\n",
              "      <td>1.000000</td>\n",
              "      <td>2.000000</td>\n",
              "      <td>2.000000</td>\n",
              "      <td>4.000000</td>\n",
              "      <td>57.000000</td>\n",
              "    </tr>\n",
              "    <tr>\n",
              "      <th>Toilets</th>\n",
              "      <td>36947.0</td>\n",
              "      <td>2.739627</td>\n",
              "      <td>1.534666</td>\n",
              "      <td>1.000000</td>\n",
              "      <td>2.000000</td>\n",
              "      <td>2.000000</td>\n",
              "      <td>3.000000</td>\n",
              "      <td>7.000000</td>\n",
              "    </tr>\n",
              "    <tr>\n",
              "      <th>Distance</th>\n",
              "      <td>47637.0</td>\n",
              "      <td>7.362353</td>\n",
              "      <td>3.917916</td>\n",
              "      <td>0.449674</td>\n",
              "      <td>4.274879</td>\n",
              "      <td>6.949138</td>\n",
              "      <td>9.636417</td>\n",
              "      <td>49.613941</td>\n",
              "    </tr>\n",
              "    <tr>\n",
              "      <th>Price</th>\n",
              "      <td>47637.0</td>\n",
              "      <td>7.174582</td>\n",
              "      <td>6.590799</td>\n",
              "      <td>0.010000</td>\n",
              "      <td>2.600000</td>\n",
              "      <td>4.700000</td>\n",
              "      <td>9.000000</td>\n",
              "      <td>33.000000</td>\n",
              "    </tr>\n",
              "  </tbody>\n",
              "</table>\n",
              "</div>"
            ],
            "text/plain": [
              "            count       mean        std       min        25%        50%  \\\n",
              "Area      47637.0  74.756512  28.897334  7.000000  55.000000  70.000000   \n",
              "Floors    40491.0   2.096194   1.425713  1.000000   1.000000   1.000000   \n",
              "Bedrooms  41687.0   3.038117   2.118783  1.000000   2.000000   2.000000   \n",
              "Toilets   36947.0   2.739627   1.534666  1.000000   2.000000   2.000000   \n",
              "Distance  47637.0   7.362353   3.917916  0.449674   4.274879   6.949138   \n",
              "Price     47637.0   7.174582   6.590799  0.010000   2.600000   4.700000   \n",
              "\n",
              "                75%         max  \n",
              "Area      90.000000  161.000000  \n",
              "Floors     3.000000    9.000000  \n",
              "Bedrooms   4.000000   57.000000  \n",
              "Toilets    3.000000    7.000000  \n",
              "Distance   9.636417   49.613941  \n",
              "Price      9.000000   33.000000  "
            ]
          },
          "execution_count": 12,
          "metadata": {},
          "output_type": "execute_result"
        }
      ],
      "source": [
        "Data.info()\n",
        "Data.describe().transpose()"
      ]
    },
    {
      "cell_type": "code",
      "execution_count": 13,
      "metadata": {},
      "outputs": [
        {
          "data": {
            "text/html": [
              "<div>\n",
              "<style scoped>\n",
              "    .dataframe tbody tr th:only-of-type {\n",
              "        vertical-align: middle;\n",
              "    }\n",
              "\n",
              "    .dataframe tbody tr th {\n",
              "        vertical-align: top;\n",
              "    }\n",
              "\n",
              "    .dataframe thead th {\n",
              "        text-align: right;\n",
              "    }\n",
              "</style>\n",
              "<table border=\"1\" class=\"dataframe\">\n",
              "  <thead>\n",
              "    <tr style=\"text-align: right;\">\n",
              "      <th></th>\n",
              "      <th>Property_type</th>\n",
              "      <th>Area</th>\n",
              "      <th>Floors</th>\n",
              "      <th>Bedrooms</th>\n",
              "      <th>Toilets</th>\n",
              "      <th>Legal_status</th>\n",
              "      <th>Furniture</th>\n",
              "      <th>Project_name</th>\n",
              "      <th>District</th>\n",
              "      <th>Distance</th>\n",
              "      <th>Price</th>\n",
              "    </tr>\n",
              "  </thead>\n",
              "  <tbody>\n",
              "    <tr>\n",
              "      <th>0</th>\n",
              "      <td>1.0</td>\n",
              "      <td>80.0</td>\n",
              "      <td>3.0</td>\n",
              "      <td>4.0</td>\n",
              "      <td>3.0</td>\n",
              "      <td>3.0</td>\n",
              "      <td>1.0</td>\n",
              "      <td>449.0</td>\n",
              "      <td>0.0</td>\n",
              "      <td>9.623252</td>\n",
              "      <td>6.5</td>\n",
              "    </tr>\n",
              "    <tr>\n",
              "      <th>1</th>\n",
              "      <td>1.0</td>\n",
              "      <td>80.0</td>\n",
              "      <td>3.0</td>\n",
              "      <td>3.0</td>\n",
              "      <td>3.0</td>\n",
              "      <td>3.0</td>\n",
              "      <td>1.0</td>\n",
              "      <td>411.0</td>\n",
              "      <td>0.0</td>\n",
              "      <td>9.623252</td>\n",
              "      <td>7.9</td>\n",
              "    </tr>\n",
              "    <tr>\n",
              "      <th>2</th>\n",
              "      <td>1.0</td>\n",
              "      <td>136.5</td>\n",
              "      <td>3.0</td>\n",
              "      <td>4.0</td>\n",
              "      <td>4.0</td>\n",
              "      <td>3.0</td>\n",
              "      <td>1.0</td>\n",
              "      <td>403.0</td>\n",
              "      <td>0.0</td>\n",
              "      <td>9.623252</td>\n",
              "      <td>10.8</td>\n",
              "    </tr>\n",
              "    <tr>\n",
              "      <th>3</th>\n",
              "      <td>1.0</td>\n",
              "      <td>95.0</td>\n",
              "      <td>5.0</td>\n",
              "      <td>5.0</td>\n",
              "      <td>4.0</td>\n",
              "      <td>3.0</td>\n",
              "      <td>2.0</td>\n",
              "      <td>1129.0</td>\n",
              "      <td>0.0</td>\n",
              "      <td>14.245030</td>\n",
              "      <td>7.6</td>\n",
              "    </tr>\n",
              "    <tr>\n",
              "      <th>4</th>\n",
              "      <td>1.0</td>\n",
              "      <td>90.0</td>\n",
              "      <td>5.0</td>\n",
              "      <td>5.0</td>\n",
              "      <td>4.0</td>\n",
              "      <td>3.0</td>\n",
              "      <td>2.0</td>\n",
              "      <td>1129.0</td>\n",
              "      <td>0.0</td>\n",
              "      <td>14.245030</td>\n",
              "      <td>7.6</td>\n",
              "    </tr>\n",
              "  </tbody>\n",
              "</table>\n",
              "</div>"
            ],
            "text/plain": [
              "   Property_type   Area  Floors  Bedrooms  Toilets  Legal_status  Furniture  \\\n",
              "0            1.0   80.0     3.0       4.0      3.0           3.0        1.0   \n",
              "1            1.0   80.0     3.0       3.0      3.0           3.0        1.0   \n",
              "2            1.0  136.5     3.0       4.0      4.0           3.0        1.0   \n",
              "3            1.0   95.0     5.0       5.0      4.0           3.0        2.0   \n",
              "4            1.0   90.0     5.0       5.0      4.0           3.0        2.0   \n",
              "\n",
              "   Project_name  District   Distance  Price  \n",
              "0         449.0       0.0   9.623252    6.5  \n",
              "1         411.0       0.0   9.623252    7.9  \n",
              "2         403.0       0.0   9.623252   10.8  \n",
              "3        1129.0       0.0  14.245030    7.6  \n",
              "4        1129.0       0.0  14.245030    7.6  "
            ]
          },
          "execution_count": 13,
          "metadata": {},
          "output_type": "execute_result"
        }
      ],
      "source": [
        "from sklearn.preprocessing import OrdinalEncoder\n",
        "\n",
        "# Create an instance of OrdinalEncoder\n",
        "Encoder = OrdinalEncoder()\n",
        "Encoder.set_params(encoded_missing_value=-1)\n",
        "\n",
        "Categorical_columns = ['Property_type', 'Legal_status', 'Furniture', 'Project_name', 'District']\n",
        "\n",
        "# Fit the encoder to your data\n",
        "Encoder.fit(Data[Categorical_columns])\n",
        "\n",
        "# Transform your data using the encoder\n",
        "Data[Categorical_columns] = Encoder.transform(Data[Categorical_columns])\n",
        "\n",
        "# Print the encoded data\n",
        "Data.head(5)"
      ]
    },
    {
      "cell_type": "code",
      "execution_count": 14,
      "metadata": {},
      "outputs": [
        {
          "data": {
            "text/plain": [
              "Property_type    0\n",
              "Area             0\n",
              "Floors           0\n",
              "Bedrooms         0\n",
              "Toilets          0\n",
              "Legal_status     0\n",
              "Furniture        0\n",
              "Project_name     0\n",
              "District         0\n",
              "Distance         0\n",
              "Price            0\n",
              "dtype: int64"
            ]
          },
          "execution_count": 14,
          "metadata": {},
          "output_type": "execute_result"
        }
      ],
      "source": [
        "## Sử dụng model Machine Learning để dự đoán giá trị bị thiếu\n",
        "from sklearn.experimental import enable_iterative_imputer\n",
        "from sklearn.impute import IterativeImputer\n",
        "\n",
        "cols = ['Property_type', 'Area', 'Floors', 'Bedrooms', 'Toilets']\n",
        "impute_it = IterativeImputer()\n",
        "Data[cols] = impute_it.fit_transform(Data[cols])\n",
        "\n",
        "Data.isnull().sum()"
      ]
    },
    {
      "cell_type": "markdown",
      "metadata": {
        "id": "gwtvoWMIJ72V"
      },
      "source": [
        "# Scaling and Train Test Split\n"
      ]
    },
    {
      "cell_type": "code",
      "execution_count": 15,
      "metadata": {
        "id": "GMSWlIzyJ72V"
      },
      "outputs": [
        {
          "name": "stdout",
          "output_type": "stream",
          "text": [
            "Train size:  (38109, 10)\n",
            "Test size:  (9528, 10)\n"
          ]
        }
      ],
      "source": [
        "X = Data.drop('Price',axis = 1).values\n",
        "y = Data['Price'].values\n",
        "\n",
        "#splitting Train and Test\n",
        "from sklearn.model_selection import train_test_split\n",
        "X_train, X_test, y_train, y_test = train_test_split(X, y, test_size=0.2, random_state=101)\n",
        "print(\"Train size: \", X_train.shape)\n",
        "print(\"Test size: \", X_test.shape)"
      ]
    },
    {
      "cell_type": "markdown",
      "metadata": {
        "id": "UGewduhgJ72V"
      },
      "source": [
        "# Feature Scalling"
      ]
    },
    {
      "cell_type": "code",
      "execution_count": 16,
      "metadata": {
        "id": "U_cckAwgJ72W"
      },
      "outputs": [],
      "source": [
        "#standardization scaler - fit&transform on train, fit only on test\n",
        "from sklearn.preprocessing import StandardScaler\n",
        "s_scaler = StandardScaler()\n",
        "X_train = s_scaler.fit_transform(X_train.astype(np.float64))\n",
        "X_test = s_scaler.transform(X_test.astype(np.float64))"
      ]
    },
    {
      "cell_type": "markdown",
      "metadata": {
        "id": "HyUwy3ITJ72W"
      },
      "source": [
        "# Method1: Multiple Linear Regression"
      ]
    },
    {
      "cell_type": "code",
      "execution_count": 17,
      "metadata": {
        "id": "BzJW94-KJ72W"
      },
      "outputs": [
        {
          "data": {
            "text/plain": [
              "array([ 0.39017199,  2.94284595,  2.87690581,  0.15946897,  0.2457853 ,\n",
              "       -0.16713906,  0.24452226, -0.16938496,  0.08728976, -1.68771816])"
            ]
          },
          "execution_count": 17,
          "metadata": {},
          "output_type": "execute_result"
        }
      ],
      "source": [
        "#Liner Regression\n",
        "from sklearn.linear_model import LinearRegression\n",
        "regressor = LinearRegression()\n",
        "regressor.fit(X_train, y_train)\n",
        "\n",
        "#evaluate the model (intercept and slope)\n",
        "regressor.intercept_\n",
        "regressor.coef_"
      ]
    },
    {
      "cell_type": "code",
      "execution_count": 18,
      "metadata": {
        "id": "6u4BKDgdJ72W"
      },
      "outputs": [],
      "source": [
        "#coeff_df = pd.DataFrame(regressor.coef_, Data.drop('price',axis =1).columns, columns=['Coefficient'])\n",
        "#coeff_df"
      ]
    },
    {
      "cell_type": "code",
      "execution_count": 19,
      "metadata": {
        "id": "q_n930IhJ72W"
      },
      "outputs": [
        {
          "data": {
            "text/html": [
              "<div>\n",
              "<style scoped>\n",
              "    .dataframe tbody tr th:only-of-type {\n",
              "        vertical-align: middle;\n",
              "    }\n",
              "\n",
              "    .dataframe tbody tr th {\n",
              "        vertical-align: top;\n",
              "    }\n",
              "\n",
              "    .dataframe thead th {\n",
              "        text-align: right;\n",
              "    }\n",
              "</style>\n",
              "<table border=\"1\" class=\"dataframe\">\n",
              "  <thead>\n",
              "    <tr style=\"text-align: right;\">\n",
              "      <th></th>\n",
              "      <th>Actual</th>\n",
              "      <th>Predicted</th>\n",
              "    </tr>\n",
              "  </thead>\n",
              "  <tbody>\n",
              "    <tr>\n",
              "      <th>0</th>\n",
              "      <td>32.50</td>\n",
              "      <td>21.105638</td>\n",
              "    </tr>\n",
              "    <tr>\n",
              "      <th>1</th>\n",
              "      <td>4.90</td>\n",
              "      <td>6.217912</td>\n",
              "    </tr>\n",
              "    <tr>\n",
              "      <th>2</th>\n",
              "      <td>5.35</td>\n",
              "      <td>4.554768</td>\n",
              "    </tr>\n",
              "    <tr>\n",
              "      <th>3</th>\n",
              "      <td>11.70</td>\n",
              "      <td>11.396764</td>\n",
              "    </tr>\n",
              "    <tr>\n",
              "      <th>4</th>\n",
              "      <td>10.50</td>\n",
              "      <td>10.203102</td>\n",
              "    </tr>\n",
              "    <tr>\n",
              "      <th>5</th>\n",
              "      <td>0.60</td>\n",
              "      <td>0.787892</td>\n",
              "    </tr>\n",
              "    <tr>\n",
              "      <th>6</th>\n",
              "      <td>19.00</td>\n",
              "      <td>14.128537</td>\n",
              "    </tr>\n",
              "    <tr>\n",
              "      <th>7</th>\n",
              "      <td>4.70</td>\n",
              "      <td>6.090871</td>\n",
              "    </tr>\n",
              "    <tr>\n",
              "      <th>8</th>\n",
              "      <td>7.80</td>\n",
              "      <td>11.121281</td>\n",
              "    </tr>\n",
              "    <tr>\n",
              "      <th>9</th>\n",
              "      <td>7.30</td>\n",
              "      <td>3.821514</td>\n",
              "    </tr>\n",
              "  </tbody>\n",
              "</table>\n",
              "</div>"
            ],
            "text/plain": [
              "   Actual  Predicted\n",
              "0   32.50  21.105638\n",
              "1    4.90   6.217912\n",
              "2    5.35   4.554768\n",
              "3   11.70  11.396764\n",
              "4   10.50  10.203102\n",
              "5    0.60   0.787892\n",
              "6   19.00  14.128537\n",
              "7    4.70   6.090871\n",
              "8    7.80  11.121281\n",
              "9    7.30   3.821514"
            ]
          },
          "execution_count": 19,
          "metadata": {},
          "output_type": "execute_result"
        }
      ],
      "source": [
        "y_predd = regressor.predict(X_test)\n",
        "df = pd.DataFrame({'Actual': y_test, 'Predicted': y_predd})\n",
        "df1 = df.head(10)\n",
        "df1"
      ]
    },
    {
      "cell_type": "code",
      "execution_count": 20,
      "metadata": {
        "id": "D12QQw-hJ72X"
      },
      "outputs": [
        {
          "ename": "NameError",
          "evalue": "name 'y_pred' is not defined",
          "output_type": "error",
          "traceback": [
            "\u001b[0;31m---------------------------------------------------------------------------\u001b[0m",
            "\u001b[0;31mNameError\u001b[0m                                 Traceback (most recent call last)",
            "Cell \u001b[0;32mIn[20], line 2\u001b[0m\n\u001b[1;32m      1\u001b[0m fig \u001b[38;5;241m=\u001b[39m plt\u001b[38;5;241m.\u001b[39mfigure(figsize\u001b[38;5;241m=\u001b[39m(\u001b[38;5;241m10\u001b[39m,\u001b[38;5;241m5\u001b[39m))\n\u001b[0;32m----> 2\u001b[0m residuals \u001b[38;5;241m=\u001b[39m (y_test\u001b[38;5;241m-\u001b[39m \u001b[43my_pred\u001b[49m)\n\u001b[1;32m      3\u001b[0m sns\u001b[38;5;241m.\u001b[39mdistplot(residuals)\n",
            "\u001b[0;31mNameError\u001b[0m: name 'y_pred' is not defined"
          ]
        },
        {
          "data": {
            "text/plain": [
              "<Figure size 1000x500 with 0 Axes>"
            ]
          },
          "metadata": {},
          "output_type": "display_data"
        }
      ],
      "source": [
        "fig = plt.figure(figsize=(10,5))\n",
        "residuals = (y_test- y_pred)\n",
        "sns.distplot(residuals)"
      ]
    },
    {
      "cell_type": "code",
      "execution_count": null,
      "metadata": {
        "id": "ZmptDpxQJ72X"
      },
      "outputs": [],
      "source": [
        "from sklearn import metrics\n",
        "\n",
        "print('Mean Absolute Error: {:.2f}'.format(metrics.mean_absolute_error(y_test, y_predd)))\n",
        "print('Mean Squared Error:{:.2f}'.format(metrics.mean_squared_error(y_test, y_predd)))\n",
        "print('Root Mean Squared Error:{:.2f}'.format(np.sqrt(metrics.mean_squared_error(y_test, y_predd))))\n",
        "print('Variance score is: {:.2f}'.format(metrics.explained_variance_score(y_test,y_predd)))"
      ]
    },
    {
      "cell_type": "code",
      "execution_count": null,
      "metadata": {
        "id": "3gbhyldMJ72X"
      },
      "outputs": [],
      "source": [
        "# we are off about 20% (comparing mean absolut error and mean of price)\n",
        "Data['price'].mean()"
      ]
    },
    {
      "cell_type": "code",
      "execution_count": null,
      "metadata": {
        "id": "nNX4jmwyJ72Y"
      },
      "outputs": [],
      "source": [
        "print('Linear Regression Model:')\n",
        "print(\"Train Score {:.2f}\".format(regressor.score(X_train,y_train)))\n",
        "print(\"Test Score {:.2f}\".format(regressor.score(X_test, y_test)))"
      ]
    },
    {
      "cell_type": "markdown",
      "metadata": {
        "id": "otRbX509J72Y"
      },
      "source": [
        "# Method2: Keras Regression"
      ]
    },
    {
      "cell_type": "code",
      "execution_count": null,
      "metadata": {
        "id": "8x8YJx17J72Y"
      },
      "outputs": [],
      "source": [
        "# having 19 nueron is based on the number of available featurs\n",
        "\n",
        "model = Sequential()\n",
        "\n",
        "model.add(Dense(19,activation='relu'))\n",
        "model.add(Dense(19,activation='relu'))\n",
        "model.add(Dense(19,activation='relu'))\n",
        "model.add(Dense(19,activation='relu'))\n",
        "model.add(Dense(1))\n",
        "\n",
        "model.compile(optimizer='adam',loss='mse')"
      ]
    },
    {
      "cell_type": "markdown",
      "metadata": {
        "id": "KQsncvi2J72l"
      },
      "source": [
        "# Training the Model"
      ]
    },
    {
      "cell_type": "code",
      "execution_count": null,
      "metadata": {
        "id": "88hrA_MAJ72l"
      },
      "outputs": [],
      "source": [
        "model.fit(x=X_train,y=y_train,\n",
        "          validation_data=(X_test,y_test),\n",
        "          batch_size=128,epochs=400)"
      ]
    },
    {
      "cell_type": "code",
      "execution_count": null,
      "metadata": {
        "id": "Qm94aEw6J72m"
      },
      "outputs": [],
      "source": [
        "model.summary()"
      ]
    },
    {
      "cell_type": "code",
      "execution_count": null,
      "metadata": {
        "id": "fqcWrQQ7J72m"
      },
      "outputs": [],
      "source": [
        "loss_df = pd.DataFrame(model.history.history)\n",
        "loss_df.plot(figsize=(12,8))\n"
      ]
    },
    {
      "cell_type": "markdown",
      "metadata": {
        "id": "eOUsr4eFJ72m"
      },
      "source": [
        "# Evaluation on Test Data"
      ]
    },
    {
      "cell_type": "code",
      "execution_count": null,
      "metadata": {
        "id": "XNS2T4DpJ72m"
      },
      "outputs": [],
      "source": [
        "y_pred = model.predict(X_test)"
      ]
    },
    {
      "cell_type": "code",
      "execution_count": null,
      "metadata": {
        "id": "H5IVP0f_J72n"
      },
      "outputs": [],
      "source": [
        "# evaluation metrics\n",
        "# explained variance score: best possible score is 1 and lower values are worse\n",
        "from sklearn import metrics\n",
        "\n",
        "print('Mean Absolute Error: {:.2f}'.format(metrics.mean_absolute_error(y_test, y_pred)))\n",
        "print('Mean Squared Error: {:.2f}'.format(metrics.mean_squared_error(y_test, y_pred)))\n",
        "print('Root Mean Squared Error: {:.2f}'.format(np.sqrt(metrics.mean_squared_error(y_test, y_pred))))\n",
        "print('Variance score is: {:.2f}'.format(metrics.explained_variance_score(y_test,y_pred)))"
      ]
    },
    {
      "cell_type": "code",
      "execution_count": null,
      "metadata": {
        "id": "UW6WGiv4J72n"
      },
      "outputs": [],
      "source": [
        "# we are off about 20% (comparing mean absolut error and mean of price)\n",
        "Data['price'].mean()"
      ]
    },
    {
      "cell_type": "code",
      "execution_count": null,
      "metadata": {
        "id": "bm63QEi2J72n"
      },
      "outputs": [],
      "source": [
        "# Our predictions\n",
        "fig = plt.figure(figsize=(10,5))\n",
        "plt.scatter(y_test,y_pred)\n",
        "# Perfect predictions\n",
        "plt.plot(y_test,y_test,'r')"
      ]
    },
    {
      "cell_type": "code",
      "execution_count": null,
      "metadata": {
        "id": "yw3rb9ZLJ72n"
      },
      "outputs": [],
      "source": [
        "fig = plt.figure(figsize=(10,5))\n",
        "residuals = (y_test- y_pred)\n",
        "sns.distplot(residuals)"
      ]
    },
    {
      "cell_type": "markdown",
      "metadata": {
        "id": "joDLEOKQJ72n"
      },
      "source": [
        "# Hoe we can use the model!"
      ]
    },
    {
      "cell_type": "code",
      "execution_count": null,
      "metadata": {
        "id": "DY-Zp8wDJ72n"
      },
      "outputs": [],
      "source": [
        "# let's drop price and keep first line featurs, then put those featur inside the model and estimae the price!\n",
        "single_house = Data.drop('price',axis = 1).iloc[0]"
      ]
    },
    {
      "cell_type": "code",
      "execution_count": null,
      "metadata": {
        "id": "O51ClPC3J72o"
      },
      "outputs": [],
      "source": [
        "# need to apply featur scalling on those featurs\n",
        "single_house = s_scaler.transform(single_house.values.reshape(-1,19))"
      ]
    },
    {
      "cell_type": "code",
      "execution_count": null,
      "metadata": {
        "id": "2Qkl8VBJJ72o"
      },
      "outputs": [],
      "source": [
        "# apply model on those featurs\n",
        "model.predict(single_house)"
      ]
    },
    {
      "cell_type": "code",
      "execution_count": null,
      "metadata": {
        "id": "EhqH2W_4J72o"
      },
      "outputs": [],
      "source": [
        "# compare the prediction with real price for the first column\n",
        "Data['price'][0]"
      ]
    },
    {
      "cell_type": "markdown",
      "metadata": {
        "id": "O8Ev-gjEJ72o"
      },
      "source": [
        "# Multiple Linear Regression vs Keras Regression"
      ]
    },
    {
      "cell_type": "code",
      "execution_count": null,
      "metadata": {
        "id": "RokWf7SVJ72o"
      },
      "outputs": [],
      "source": [
        "\n",
        "print('Model: Keras Regression\\n')\n",
        "\n",
        "print('Mean Absolute Error(MAE): {:.2f}'.format(metrics.mean_absolute_error(y_test, y_pred)))\n",
        "print('Mean Squared Error(MSE): {:.2f}'.format(metrics.mean_squared_error(y_test, y_pred)))\n",
        "print('Root Mean Squared Error(RMSE): {:.2f}'.format(np.sqrt(metrics.mean_squared_error(y_test, y_pred))))\n",
        "print('Variance score: {:.2f}\\n'.format(metrics.explained_variance_score(y_test,y_pred)*100))\n",
        "print('*********************************\\n')\n",
        "print('Model: Multiple Linear Regression\\n')\n",
        "print('Mean Absolute Error(MAE): {:.2f}'.format(metrics.mean_absolute_error(y_test, y_predd)))\n",
        "print('Mean Squared Error(MSE):{:.2f}'.format(metrics.mean_squared_error(y_test, y_predd)))\n",
        "print('Root Mean Squared Error(RMSE):{:.2f}'.format(np.sqrt(metrics.mean_squared_error(y_test, y_predd))))\n",
        "print('Variance score: {:.2f}'.format(metrics.explained_variance_score(y_test,y_predd)*100))"
      ]
    },
    {
      "cell_type": "markdown",
      "metadata": {
        "id": "dyF9AUtkVHsC"
      },
      "source": [
        "### Lightning"
      ]
    },
    {
      "cell_type": "code",
      "execution_count": null,
      "metadata": {},
      "outputs": [],
      "source": [
        "%pip install lightning -U -q"
      ]
    },
    {
      "cell_type": "code",
      "execution_count": 41,
      "metadata": {
        "id": "oYfDNblga6Iq"
      },
      "outputs": [],
      "source": [
        "from pathlib import Path\n",
        "import torch\n",
        "import lightning as L\n",
        "import pandas as pd\n",
        "#from sklearn import preprocessing\n",
        "from torch.utils.data import TensorDataset, DataLoader, random_split\n",
        "from sklearn.preprocessing import StandardScaler\n",
        "import torch as th\n",
        "import torch.nn as nn\n",
        "import torch.optim as optim\n",
        "from collections import OrderedDict\n",
        "from sklearn import metrics\n",
        "\n",
        "class LitDataModule(L.LightningDataModule):\n",
        "    def __init__(self, batch_size, num_workers, data):\n",
        "        super(LitDataModule, self).__init__()\n",
        "        self.batch_size = batch_size\n",
        "        self.num_workers = num_workers\n",
        "        self.data = data\n",
        "        X = data.drop('Price', axis=1).values\n",
        "        y = data['Price'].values\n",
        "\n",
        "    def setup(self, stage=None):\n",
        "        x = self.data.drop('Price', axis=1).values\n",
        "        y = self.data['Price'].values\n",
        "        \n",
        "        s_scaler = StandardScaler()\n",
        "        x = s_scaler.fit_transform(x.astype(np.float64))\n",
        "        \n",
        "        dataset = TensorDataset(\n",
        "            torch.tensor(x, dtype=torch.float), torch.tensor(y, dtype=torch.float))\n",
        "        \n",
        "        train_size = int(0.8 * len(dataset))\n",
        "        test_size = int(0.1 * len(dataset))\n",
        "        val_size = int(len(dataset) - train_size - test_size)\n",
        "        print('Train size: ', train_size)\n",
        "        print('Test size: ', test_size)\n",
        "        print('Validation size: ', val_size)\n",
        "        self.train_dataset, self.valid_dataset, self.test_dataset = random_split(dataset, [train_size, val_size, test_size])\n",
        "\n",
        "    def train_dataloader(self):\n",
        "        dataloader = DataLoader(self.train_dataset,\n",
        "                                batch_size=self.batch_size,\n",
        "                                shuffle=True,\n",
        "                                num_workers=self.num_workers,\n",
        "                                pin_memory=True,\n",
        "                                drop_last=True)\n",
        "        return dataloader\n",
        "\n",
        "    def val_dataloader(self):\n",
        "        dataloader = DataLoader(self.valid_dataset,\n",
        "                                batch_size=self.batch_size,\n",
        "                                num_workers=self.num_workers,\n",
        "                                pin_memory=True,\n",
        "                                drop_last=True)\n",
        "        return dataloader\n",
        "    \n",
        "    def test_dataloader(self):\n",
        "        dataloader = DataLoader(self.test_dataset,\n",
        "                                batch_size=self.batch_size,\n",
        "                                num_workers=self.num_workers,\n",
        "                                pin_memory=True,\n",
        "                                drop_last=False)\n",
        "        return dataloader"
      ]
    },
    {
      "cell_type": "code",
      "execution_count": 42,
      "metadata": {
        "id": "t81mytzRVHTJ"
      },
      "outputs": [],
      "source": [
        "class LitDNNModule(L.LightningModule):\n",
        "    def __init__(self, learning_rate = 0.002, batch = 128):\n",
        "        super(LitDNNModule, self).__init__()\n",
        "        self.learning_rate = learning_rate\n",
        "        self.batch = batch\n",
        "        self.validation_step_outputs = []\n",
        "        self.loss_fn = nn.MSELoss()\n",
        "        self.layers = nn.Sequential(OrderedDict(self.get_fclayer_list([10, 512, 256, 128, 64, 32, 16, 8])))\n",
        "\n",
        "    # creates a list of hidden layers with given number of neuron in each layer and connects it to the output layer.\n",
        "    # Relu is used as the activation funtion. No activation function is applied for the last layer output\n",
        "    def get_fclayer_list(self, hidden_layers, outputs=1):\n",
        "        input_layers, output_layers = hidden_layers[:-1], hidden_layers[1:]\n",
        "        layers = []\n",
        "        for i, (l1, l2) in enumerate(zip(input_layers, output_layers)):\n",
        "            layers.append((f'fc{i}', nn.Linear(l1, l2)))\n",
        "            layers.append((f'leakyrelu{i}', nn.LeakyReLU()))\n",
        "        layers.append(('fc_out', nn.Linear(output_layers[-1], outputs)))\n",
        "        return layers\n",
        "    def forward(self, x):\n",
        "        x = self.layers(x)\n",
        "        return x\n",
        "\n",
        "    # def configure_optimizers(self):\n",
        "    #    return optim.AdamW(self.parameters(), lr=self.learning_rate)\n",
        "\n",
        "    def configure_optimizers(self):\n",
        "        optimizer = optim.Adadelta(self.parameters(), lr=self.learning_rate)\n",
        "        scheduler = optim.lr_scheduler.ReduceLROnPlateau(\n",
        "            optimizer, mode='min', factor=0.1, patience=5, min_lr=1e-8, verbose=True)\n",
        "        return {\"optimizer\": optimizer, \"lr_scheduler\": scheduler, \"monitor\": \"avg_val_loss\"}\n",
        "\n",
        "    def shared_step(self, batch, batch_idx):\n",
        "        x, y = batch\n",
        "        y_pred = self.forward(x)\n",
        "        y = y.view(y.size(0), -1)\n",
        "        loss = self.loss_fn(y_pred, y)\n",
        "        return loss, y_pred\n",
        "\n",
        "    def training_step(self, batch, batch_idx):\n",
        "        loss, y_pred = self.shared_step(batch, batch_idx)\n",
        "        self.log('train_loss', loss)\n",
        "        return loss\n",
        "\n",
        "    def validation_step(self, batch, batch_idx):\n",
        "        loss, y_pred = self.shared_step(batch, batch_idx)\n",
        "        self.log(\"val_loss\", loss)\n",
        "        self.validation_step_outputs.append(y_pred)\n",
        "        return {\"val_loss\", loss}\n",
        "\n",
        "    def on_validation_epoch_end(self):\n",
        "        avg_val_loss = torch.stack(self.validation_step_outputs).mean()\n",
        "        self.log('avg_val_loss', avg_val_loss)\n",
        "        self.validation_step_outputs.clear()\n",
        "\n",
        "    def test_step(self, batch, batch_idx):\n",
        "        x, y = batch\n",
        "        y = y.to('cpu')\n",
        "        y = y.view(y.size(0), -1)\n",
        "        loss, y_pred = self.shared_step(batch, batch_idx)\n",
        "        y_pred = y_pred.to('cpu')\n",
        "        VarScore = metrics.explained_variance_score(y, y_pred)\n",
        "        self.log('Varian Score: ', VarScore)\n",
        "        return y_pred, VarScore"
      ]
    },
    {
      "cell_type": "code",
      "execution_count": 43,
      "metadata": {
        "colab": {
          "base_uri": "https://localhost:8080/"
        },
        "id": "GUEZzXXMbMXh",
        "outputId": "93970409-1e5f-4a94-9dac-e423c4017ecb"
      },
      "outputs": [
        {
          "name": "stderr",
          "output_type": "stream",
          "text": [
            "Seed set to 77\n",
            "GPU available: True (cuda), used: True\n",
            "TPU available: False, using: 0 TPU cores\n",
            "IPU available: False, using: 0 IPUs\n",
            "HPU available: False, using: 0 HPUs\n",
            "LOCAL_RANK: 0 - CUDA_VISIBLE_DEVICES: [0]\n",
            "/home/dev_ai/miniconda/envs/lightning/lib/python3.8/site-packages/torch/optim/lr_scheduler.py:28: The verbose parameter is deprecated. Please use get_last_lr() to access the learning rate.\n",
            "\n",
            "  | Name    | Type       | Params\n",
            "---------------------------------------\n",
            "0 | loss_fn | MSELoss    | 0     \n",
            "1 | layers  | Sequential | 180 K \n",
            "---------------------------------------\n",
            "180 K     Trainable params\n",
            "0         Non-trainable params\n",
            "180 K     Total params\n",
            "0.723     Total estimated model params size (MB)\n"
          ]
        },
        {
          "name": "stdout",
          "output_type": "stream",
          "text": [
            "Train size:  38109\n",
            "Test size:  4763\n",
            "Validation size:  4765\n",
            "Train size:  38109\n",
            "Test size:  4763\n",
            "Validation size:  4765\n",
            "Sanity Checking DataLoader 0:   0%|          | 0/2 [00:00<?, ?it/s]"
          ]
        },
        {
          "ename": "RuntimeError",
          "evalue": "mat1 and mat2 must have the same dtype, but got Double and Float",
          "output_type": "error",
          "traceback": [
            "\u001b[0;31m---------------------------------------------------------------------------\u001b[0m",
            "\u001b[0;31mRuntimeError\u001b[0m                              Traceback (most recent call last)",
            "Cell \u001b[0;32mIn[43], line 46\u001b[0m\n\u001b[1;32m     43\u001b[0m     model_trainer\u001b[38;5;241m.\u001b[39mtest(model, datamodule\u001b[38;5;241m=\u001b[39mdata_module)\n\u001b[1;32m     45\u001b[0m \u001b[38;5;66;03m# Call train_model() with hparams\u001b[39;00m\n\u001b[0;32m---> 46\u001b[0m \u001b[43mtrain_model\u001b[49m\u001b[43m(\u001b[49m\u001b[43mhparams\u001b[49m\u001b[38;5;241;43m=\u001b[39;49m\u001b[43mhparams\u001b[49m\u001b[43m)\u001b[49m\n\u001b[1;32m     47\u001b[0m \u001b[38;5;66;03m#test_model(hparams=hparams)\u001b[39;00m\n",
            "Cell \u001b[0;32mIn[43], line 37\u001b[0m, in \u001b[0;36mtrain_model\u001b[0;34m(hparams)\u001b[0m\n\u001b[1;32m     34\u001b[0m \u001b[38;5;28;01mdef\u001b[39;00m \u001b[38;5;21mtrain_model\u001b[39m(hparams):\n\u001b[1;32m     35\u001b[0m     \u001b[38;5;66;03m#model_trainer = pl.Trainer.from_argparse_args(hparams)\u001b[39;00m\n\u001b[0;32m---> 37\u001b[0m     \u001b[43mmodel_trainer\u001b[49m\u001b[38;5;241;43m.\u001b[39;49m\u001b[43mfit\u001b[49m\u001b[43m(\u001b[49m\u001b[43mml_module\u001b[49m\u001b[43m,\u001b[49m\u001b[43m \u001b[49m\u001b[43mdatamodule\u001b[49m\u001b[38;5;241;43m=\u001b[39;49m\u001b[43mdata_module\u001b[49m\u001b[43m)\u001b[49m\n\u001b[1;32m     38\u001b[0m     model_trainer\u001b[38;5;241m.\u001b[39msave_checkpoint(hparams\u001b[38;5;241m.\u001b[39mcheckpoint_name)\n",
            "File \u001b[0;32m~/miniconda/envs/lightning/lib/python3.8/site-packages/lightning/pytorch/trainer/trainer.py:544\u001b[0m, in \u001b[0;36mTrainer.fit\u001b[0;34m(self, model, train_dataloaders, val_dataloaders, datamodule, ckpt_path)\u001b[0m\n\u001b[1;32m    542\u001b[0m \u001b[38;5;28mself\u001b[39m\u001b[38;5;241m.\u001b[39mstate\u001b[38;5;241m.\u001b[39mstatus \u001b[38;5;241m=\u001b[39m TrainerStatus\u001b[38;5;241m.\u001b[39mRUNNING\n\u001b[1;32m    543\u001b[0m \u001b[38;5;28mself\u001b[39m\u001b[38;5;241m.\u001b[39mtraining \u001b[38;5;241m=\u001b[39m \u001b[38;5;28;01mTrue\u001b[39;00m\n\u001b[0;32m--> 544\u001b[0m \u001b[43mcall\u001b[49m\u001b[38;5;241;43m.\u001b[39;49m\u001b[43m_call_and_handle_interrupt\u001b[49m\u001b[43m(\u001b[49m\n\u001b[1;32m    545\u001b[0m \u001b[43m    \u001b[49m\u001b[38;5;28;43mself\u001b[39;49m\u001b[43m,\u001b[49m\u001b[43m \u001b[49m\u001b[38;5;28;43mself\u001b[39;49m\u001b[38;5;241;43m.\u001b[39;49m\u001b[43m_fit_impl\u001b[49m\u001b[43m,\u001b[49m\u001b[43m \u001b[49m\u001b[43mmodel\u001b[49m\u001b[43m,\u001b[49m\u001b[43m \u001b[49m\u001b[43mtrain_dataloaders\u001b[49m\u001b[43m,\u001b[49m\u001b[43m \u001b[49m\u001b[43mval_dataloaders\u001b[49m\u001b[43m,\u001b[49m\u001b[43m \u001b[49m\u001b[43mdatamodule\u001b[49m\u001b[43m,\u001b[49m\u001b[43m \u001b[49m\u001b[43mckpt_path\u001b[49m\n\u001b[1;32m    546\u001b[0m \u001b[43m\u001b[49m\u001b[43m)\u001b[49m\n",
            "File \u001b[0;32m~/miniconda/envs/lightning/lib/python3.8/site-packages/lightning/pytorch/trainer/call.py:44\u001b[0m, in \u001b[0;36m_call_and_handle_interrupt\u001b[0;34m(trainer, trainer_fn, *args, **kwargs)\u001b[0m\n\u001b[1;32m     42\u001b[0m     \u001b[38;5;28;01mif\u001b[39;00m trainer\u001b[38;5;241m.\u001b[39mstrategy\u001b[38;5;241m.\u001b[39mlauncher \u001b[38;5;129;01mis\u001b[39;00m \u001b[38;5;129;01mnot\u001b[39;00m \u001b[38;5;28;01mNone\u001b[39;00m:\n\u001b[1;32m     43\u001b[0m         \u001b[38;5;28;01mreturn\u001b[39;00m trainer\u001b[38;5;241m.\u001b[39mstrategy\u001b[38;5;241m.\u001b[39mlauncher\u001b[38;5;241m.\u001b[39mlaunch(trainer_fn, \u001b[38;5;241m*\u001b[39margs, trainer\u001b[38;5;241m=\u001b[39mtrainer, \u001b[38;5;241m*\u001b[39m\u001b[38;5;241m*\u001b[39mkwargs)\n\u001b[0;32m---> 44\u001b[0m     \u001b[38;5;28;01mreturn\u001b[39;00m \u001b[43mtrainer_fn\u001b[49m\u001b[43m(\u001b[49m\u001b[38;5;241;43m*\u001b[39;49m\u001b[43margs\u001b[49m\u001b[43m,\u001b[49m\u001b[43m \u001b[49m\u001b[38;5;241;43m*\u001b[39;49m\u001b[38;5;241;43m*\u001b[39;49m\u001b[43mkwargs\u001b[49m\u001b[43m)\u001b[49m\n\u001b[1;32m     46\u001b[0m \u001b[38;5;28;01mexcept\u001b[39;00m _TunerExitException:\n\u001b[1;32m     47\u001b[0m     _call_teardown_hook(trainer)\n",
            "File \u001b[0;32m~/miniconda/envs/lightning/lib/python3.8/site-packages/lightning/pytorch/trainer/trainer.py:580\u001b[0m, in \u001b[0;36mTrainer._fit_impl\u001b[0;34m(self, model, train_dataloaders, val_dataloaders, datamodule, ckpt_path)\u001b[0m\n\u001b[1;32m    573\u001b[0m \u001b[38;5;28;01massert\u001b[39;00m \u001b[38;5;28mself\u001b[39m\u001b[38;5;241m.\u001b[39mstate\u001b[38;5;241m.\u001b[39mfn \u001b[38;5;129;01mis\u001b[39;00m \u001b[38;5;129;01mnot\u001b[39;00m \u001b[38;5;28;01mNone\u001b[39;00m\n\u001b[1;32m    574\u001b[0m ckpt_path \u001b[38;5;241m=\u001b[39m \u001b[38;5;28mself\u001b[39m\u001b[38;5;241m.\u001b[39m_checkpoint_connector\u001b[38;5;241m.\u001b[39m_select_ckpt_path(\n\u001b[1;32m    575\u001b[0m     \u001b[38;5;28mself\u001b[39m\u001b[38;5;241m.\u001b[39mstate\u001b[38;5;241m.\u001b[39mfn,\n\u001b[1;32m    576\u001b[0m     ckpt_path,\n\u001b[1;32m    577\u001b[0m     model_provided\u001b[38;5;241m=\u001b[39m\u001b[38;5;28;01mTrue\u001b[39;00m,\n\u001b[1;32m    578\u001b[0m     model_connected\u001b[38;5;241m=\u001b[39m\u001b[38;5;28mself\u001b[39m\u001b[38;5;241m.\u001b[39mlightning_module \u001b[38;5;129;01mis\u001b[39;00m \u001b[38;5;129;01mnot\u001b[39;00m \u001b[38;5;28;01mNone\u001b[39;00m,\n\u001b[1;32m    579\u001b[0m )\n\u001b[0;32m--> 580\u001b[0m \u001b[38;5;28;43mself\u001b[39;49m\u001b[38;5;241;43m.\u001b[39;49m\u001b[43m_run\u001b[49m\u001b[43m(\u001b[49m\u001b[43mmodel\u001b[49m\u001b[43m,\u001b[49m\u001b[43m \u001b[49m\u001b[43mckpt_path\u001b[49m\u001b[38;5;241;43m=\u001b[39;49m\u001b[43mckpt_path\u001b[49m\u001b[43m)\u001b[49m\n\u001b[1;32m    582\u001b[0m \u001b[38;5;28;01massert\u001b[39;00m \u001b[38;5;28mself\u001b[39m\u001b[38;5;241m.\u001b[39mstate\u001b[38;5;241m.\u001b[39mstopped\n\u001b[1;32m    583\u001b[0m \u001b[38;5;28mself\u001b[39m\u001b[38;5;241m.\u001b[39mtraining \u001b[38;5;241m=\u001b[39m \u001b[38;5;28;01mFalse\u001b[39;00m\n",
            "File \u001b[0;32m~/miniconda/envs/lightning/lib/python3.8/site-packages/lightning/pytorch/trainer/trainer.py:987\u001b[0m, in \u001b[0;36mTrainer._run\u001b[0;34m(self, model, ckpt_path)\u001b[0m\n\u001b[1;32m    982\u001b[0m \u001b[38;5;28mself\u001b[39m\u001b[38;5;241m.\u001b[39m_signal_connector\u001b[38;5;241m.\u001b[39mregister_signal_handlers()\n\u001b[1;32m    984\u001b[0m \u001b[38;5;66;03m# ----------------------------\u001b[39;00m\n\u001b[1;32m    985\u001b[0m \u001b[38;5;66;03m# RUN THE TRAINER\u001b[39;00m\n\u001b[1;32m    986\u001b[0m \u001b[38;5;66;03m# ----------------------------\u001b[39;00m\n\u001b[0;32m--> 987\u001b[0m results \u001b[38;5;241m=\u001b[39m \u001b[38;5;28;43mself\u001b[39;49m\u001b[38;5;241;43m.\u001b[39;49m\u001b[43m_run_stage\u001b[49m\u001b[43m(\u001b[49m\u001b[43m)\u001b[49m\n\u001b[1;32m    989\u001b[0m \u001b[38;5;66;03m# ----------------------------\u001b[39;00m\n\u001b[1;32m    990\u001b[0m \u001b[38;5;66;03m# POST-Training CLEAN UP\u001b[39;00m\n\u001b[1;32m    991\u001b[0m \u001b[38;5;66;03m# ----------------------------\u001b[39;00m\n\u001b[1;32m    992\u001b[0m log\u001b[38;5;241m.\u001b[39mdebug(\u001b[38;5;124mf\u001b[39m\u001b[38;5;124m\"\u001b[39m\u001b[38;5;132;01m{\u001b[39;00m\u001b[38;5;28mself\u001b[39m\u001b[38;5;241m.\u001b[39m\u001b[38;5;18m__class__\u001b[39m\u001b[38;5;241m.\u001b[39m\u001b[38;5;18m__name__\u001b[39m\u001b[38;5;132;01m}\u001b[39;00m\u001b[38;5;124m: trainer tearing down\u001b[39m\u001b[38;5;124m\"\u001b[39m)\n",
            "File \u001b[0;32m~/miniconda/envs/lightning/lib/python3.8/site-packages/lightning/pytorch/trainer/trainer.py:1031\u001b[0m, in \u001b[0;36mTrainer._run_stage\u001b[0;34m(self)\u001b[0m\n\u001b[1;32m   1029\u001b[0m \u001b[38;5;28;01mif\u001b[39;00m \u001b[38;5;28mself\u001b[39m\u001b[38;5;241m.\u001b[39mtraining:\n\u001b[1;32m   1030\u001b[0m     \u001b[38;5;28;01mwith\u001b[39;00m isolate_rng():\n\u001b[0;32m-> 1031\u001b[0m         \u001b[38;5;28;43mself\u001b[39;49m\u001b[38;5;241;43m.\u001b[39;49m\u001b[43m_run_sanity_check\u001b[49m\u001b[43m(\u001b[49m\u001b[43m)\u001b[49m\n\u001b[1;32m   1032\u001b[0m     \u001b[38;5;28;01mwith\u001b[39;00m torch\u001b[38;5;241m.\u001b[39mautograd\u001b[38;5;241m.\u001b[39mset_detect_anomaly(\u001b[38;5;28mself\u001b[39m\u001b[38;5;241m.\u001b[39m_detect_anomaly):\n\u001b[1;32m   1033\u001b[0m         \u001b[38;5;28mself\u001b[39m\u001b[38;5;241m.\u001b[39mfit_loop\u001b[38;5;241m.\u001b[39mrun()\n",
            "File \u001b[0;32m~/miniconda/envs/lightning/lib/python3.8/site-packages/lightning/pytorch/trainer/trainer.py:1060\u001b[0m, in \u001b[0;36mTrainer._run_sanity_check\u001b[0;34m(self)\u001b[0m\n\u001b[1;32m   1057\u001b[0m call\u001b[38;5;241m.\u001b[39m_call_callback_hooks(\u001b[38;5;28mself\u001b[39m, \u001b[38;5;124m\"\u001b[39m\u001b[38;5;124mon_sanity_check_start\u001b[39m\u001b[38;5;124m\"\u001b[39m)\n\u001b[1;32m   1059\u001b[0m \u001b[38;5;66;03m# run eval step\u001b[39;00m\n\u001b[0;32m-> 1060\u001b[0m \u001b[43mval_loop\u001b[49m\u001b[38;5;241;43m.\u001b[39;49m\u001b[43mrun\u001b[49m\u001b[43m(\u001b[49m\u001b[43m)\u001b[49m\n\u001b[1;32m   1062\u001b[0m call\u001b[38;5;241m.\u001b[39m_call_callback_hooks(\u001b[38;5;28mself\u001b[39m, \u001b[38;5;124m\"\u001b[39m\u001b[38;5;124mon_sanity_check_end\u001b[39m\u001b[38;5;124m\"\u001b[39m)\n\u001b[1;32m   1064\u001b[0m \u001b[38;5;66;03m# reset logger connector\u001b[39;00m\n",
            "File \u001b[0;32m~/miniconda/envs/lightning/lib/python3.8/site-packages/lightning/pytorch/loops/utilities.py:182\u001b[0m, in \u001b[0;36m_no_grad_context.<locals>._decorator\u001b[0;34m(self, *args, **kwargs)\u001b[0m\n\u001b[1;32m    180\u001b[0m     context_manager \u001b[38;5;241m=\u001b[39m torch\u001b[38;5;241m.\u001b[39mno_grad\n\u001b[1;32m    181\u001b[0m \u001b[38;5;28;01mwith\u001b[39;00m context_manager():\n\u001b[0;32m--> 182\u001b[0m     \u001b[38;5;28;01mreturn\u001b[39;00m \u001b[43mloop_run\u001b[49m\u001b[43m(\u001b[49m\u001b[38;5;28;43mself\u001b[39;49m\u001b[43m,\u001b[49m\u001b[43m \u001b[49m\u001b[38;5;241;43m*\u001b[39;49m\u001b[43margs\u001b[49m\u001b[43m,\u001b[49m\u001b[43m \u001b[49m\u001b[38;5;241;43m*\u001b[39;49m\u001b[38;5;241;43m*\u001b[39;49m\u001b[43mkwargs\u001b[49m\u001b[43m)\u001b[49m\n",
            "File \u001b[0;32m~/miniconda/envs/lightning/lib/python3.8/site-packages/lightning/pytorch/loops/evaluation_loop.py:135\u001b[0m, in \u001b[0;36m_EvaluationLoop.run\u001b[0;34m(self)\u001b[0m\n\u001b[1;32m    133\u001b[0m     \u001b[38;5;28mself\u001b[39m\u001b[38;5;241m.\u001b[39mbatch_progress\u001b[38;5;241m.\u001b[39mis_last_batch \u001b[38;5;241m=\u001b[39m data_fetcher\u001b[38;5;241m.\u001b[39mdone\n\u001b[1;32m    134\u001b[0m     \u001b[38;5;66;03m# run step hooks\u001b[39;00m\n\u001b[0;32m--> 135\u001b[0m     \u001b[38;5;28;43mself\u001b[39;49m\u001b[38;5;241;43m.\u001b[39;49m\u001b[43m_evaluation_step\u001b[49m\u001b[43m(\u001b[49m\u001b[43mbatch\u001b[49m\u001b[43m,\u001b[49m\u001b[43m \u001b[49m\u001b[43mbatch_idx\u001b[49m\u001b[43m,\u001b[49m\u001b[43m \u001b[49m\u001b[43mdataloader_idx\u001b[49m\u001b[43m,\u001b[49m\u001b[43m \u001b[49m\u001b[43mdataloader_iter\u001b[49m\u001b[43m)\u001b[49m\n\u001b[1;32m    136\u001b[0m \u001b[38;5;28;01mexcept\u001b[39;00m \u001b[38;5;167;01mStopIteration\u001b[39;00m:\n\u001b[1;32m    137\u001b[0m     \u001b[38;5;66;03m# this needs to wrap the `*_step` call too (not just `next`) for `dataloader_iter` support\u001b[39;00m\n\u001b[1;32m    138\u001b[0m     \u001b[38;5;28;01mbreak\u001b[39;00m\n",
            "File \u001b[0;32m~/miniconda/envs/lightning/lib/python3.8/site-packages/lightning/pytorch/loops/evaluation_loop.py:396\u001b[0m, in \u001b[0;36m_EvaluationLoop._evaluation_step\u001b[0;34m(self, batch, batch_idx, dataloader_idx, dataloader_iter)\u001b[0m\n\u001b[1;32m    390\u001b[0m hook_name \u001b[38;5;241m=\u001b[39m \u001b[38;5;124m\"\u001b[39m\u001b[38;5;124mtest_step\u001b[39m\u001b[38;5;124m\"\u001b[39m \u001b[38;5;28;01mif\u001b[39;00m trainer\u001b[38;5;241m.\u001b[39mtesting \u001b[38;5;28;01melse\u001b[39;00m \u001b[38;5;124m\"\u001b[39m\u001b[38;5;124mvalidation_step\u001b[39m\u001b[38;5;124m\"\u001b[39m\n\u001b[1;32m    391\u001b[0m step_args \u001b[38;5;241m=\u001b[39m (\n\u001b[1;32m    392\u001b[0m     \u001b[38;5;28mself\u001b[39m\u001b[38;5;241m.\u001b[39m_build_step_args_from_hook_kwargs(hook_kwargs, hook_name)\n\u001b[1;32m    393\u001b[0m     \u001b[38;5;28;01mif\u001b[39;00m \u001b[38;5;129;01mnot\u001b[39;00m using_dataloader_iter\n\u001b[1;32m    394\u001b[0m     \u001b[38;5;28;01melse\u001b[39;00m (dataloader_iter,)\n\u001b[1;32m    395\u001b[0m )\n\u001b[0;32m--> 396\u001b[0m output \u001b[38;5;241m=\u001b[39m \u001b[43mcall\u001b[49m\u001b[38;5;241;43m.\u001b[39;49m\u001b[43m_call_strategy_hook\u001b[49m\u001b[43m(\u001b[49m\u001b[43mtrainer\u001b[49m\u001b[43m,\u001b[49m\u001b[43m \u001b[49m\u001b[43mhook_name\u001b[49m\u001b[43m,\u001b[49m\u001b[43m \u001b[49m\u001b[38;5;241;43m*\u001b[39;49m\u001b[43mstep_args\u001b[49m\u001b[43m)\u001b[49m\n\u001b[1;32m    398\u001b[0m \u001b[38;5;28mself\u001b[39m\u001b[38;5;241m.\u001b[39mbatch_progress\u001b[38;5;241m.\u001b[39mincrement_processed()\n\u001b[1;32m    400\u001b[0m \u001b[38;5;28;01mif\u001b[39;00m using_dataloader_iter:\n\u001b[1;32m    401\u001b[0m     \u001b[38;5;66;03m# update the hook kwargs now that the step method might have consumed the iterator\u001b[39;00m\n",
            "File \u001b[0;32m~/miniconda/envs/lightning/lib/python3.8/site-packages/lightning/pytorch/trainer/call.py:309\u001b[0m, in \u001b[0;36m_call_strategy_hook\u001b[0;34m(trainer, hook_name, *args, **kwargs)\u001b[0m\n\u001b[1;32m    306\u001b[0m     \u001b[38;5;28;01mreturn\u001b[39;00m \u001b[38;5;28;01mNone\u001b[39;00m\n\u001b[1;32m    308\u001b[0m \u001b[38;5;28;01mwith\u001b[39;00m trainer\u001b[38;5;241m.\u001b[39mprofiler\u001b[38;5;241m.\u001b[39mprofile(\u001b[38;5;124mf\u001b[39m\u001b[38;5;124m\"\u001b[39m\u001b[38;5;124m[Strategy]\u001b[39m\u001b[38;5;132;01m{\u001b[39;00mtrainer\u001b[38;5;241m.\u001b[39mstrategy\u001b[38;5;241m.\u001b[39m\u001b[38;5;18m__class__\u001b[39m\u001b[38;5;241m.\u001b[39m\u001b[38;5;18m__name__\u001b[39m\u001b[38;5;132;01m}\u001b[39;00m\u001b[38;5;124m.\u001b[39m\u001b[38;5;132;01m{\u001b[39;00mhook_name\u001b[38;5;132;01m}\u001b[39;00m\u001b[38;5;124m\"\u001b[39m):\n\u001b[0;32m--> 309\u001b[0m     output \u001b[38;5;241m=\u001b[39m \u001b[43mfn\u001b[49m\u001b[43m(\u001b[49m\u001b[38;5;241;43m*\u001b[39;49m\u001b[43margs\u001b[49m\u001b[43m,\u001b[49m\u001b[43m \u001b[49m\u001b[38;5;241;43m*\u001b[39;49m\u001b[38;5;241;43m*\u001b[39;49m\u001b[43mkwargs\u001b[49m\u001b[43m)\u001b[49m\n\u001b[1;32m    311\u001b[0m \u001b[38;5;66;03m# restore current_fx when nested context\u001b[39;00m\n\u001b[1;32m    312\u001b[0m pl_module\u001b[38;5;241m.\u001b[39m_current_fx_name \u001b[38;5;241m=\u001b[39m prev_fx_name\n",
            "File \u001b[0;32m~/miniconda/envs/lightning/lib/python3.8/site-packages/lightning/pytorch/strategies/strategy.py:412\u001b[0m, in \u001b[0;36mStrategy.validation_step\u001b[0;34m(self, *args, **kwargs)\u001b[0m\n\u001b[1;32m    410\u001b[0m \u001b[38;5;28;01mif\u001b[39;00m \u001b[38;5;28mself\u001b[39m\u001b[38;5;241m.\u001b[39mmodel \u001b[38;5;241m!=\u001b[39m \u001b[38;5;28mself\u001b[39m\u001b[38;5;241m.\u001b[39mlightning_module:\n\u001b[1;32m    411\u001b[0m     \u001b[38;5;28;01mreturn\u001b[39;00m \u001b[38;5;28mself\u001b[39m\u001b[38;5;241m.\u001b[39m_forward_redirection(\u001b[38;5;28mself\u001b[39m\u001b[38;5;241m.\u001b[39mmodel, \u001b[38;5;28mself\u001b[39m\u001b[38;5;241m.\u001b[39mlightning_module, \u001b[38;5;124m\"\u001b[39m\u001b[38;5;124mvalidation_step\u001b[39m\u001b[38;5;124m\"\u001b[39m, \u001b[38;5;241m*\u001b[39margs, \u001b[38;5;241m*\u001b[39m\u001b[38;5;241m*\u001b[39mkwargs)\n\u001b[0;32m--> 412\u001b[0m \u001b[38;5;28;01mreturn\u001b[39;00m \u001b[38;5;28;43mself\u001b[39;49m\u001b[38;5;241;43m.\u001b[39;49m\u001b[43mlightning_module\u001b[49m\u001b[38;5;241;43m.\u001b[39;49m\u001b[43mvalidation_step\u001b[49m\u001b[43m(\u001b[49m\u001b[38;5;241;43m*\u001b[39;49m\u001b[43margs\u001b[49m\u001b[43m,\u001b[49m\u001b[43m \u001b[49m\u001b[38;5;241;43m*\u001b[39;49m\u001b[38;5;241;43m*\u001b[39;49m\u001b[43mkwargs\u001b[49m\u001b[43m)\u001b[49m\n",
            "Cell \u001b[0;32mIn[42], line 46\u001b[0m, in \u001b[0;36mLitDNNModule.validation_step\u001b[0;34m(self, batch, batch_idx)\u001b[0m\n\u001b[1;32m     45\u001b[0m \u001b[38;5;28;01mdef\u001b[39;00m \u001b[38;5;21mvalidation_step\u001b[39m(\u001b[38;5;28mself\u001b[39m, batch, batch_idx):\n\u001b[0;32m---> 46\u001b[0m     loss, y_pred \u001b[38;5;241m=\u001b[39m \u001b[38;5;28;43mself\u001b[39;49m\u001b[38;5;241;43m.\u001b[39;49m\u001b[43mshared_step\u001b[49m\u001b[43m(\u001b[49m\u001b[43mbatch\u001b[49m\u001b[43m,\u001b[49m\u001b[43m \u001b[49m\u001b[43mbatch_idx\u001b[49m\u001b[43m)\u001b[49m\n\u001b[1;32m     47\u001b[0m     \u001b[38;5;28mself\u001b[39m\u001b[38;5;241m.\u001b[39mlog(\u001b[38;5;124m\"\u001b[39m\u001b[38;5;124mval_loss\u001b[39m\u001b[38;5;124m\"\u001b[39m, loss)\n\u001b[1;32m     48\u001b[0m     \u001b[38;5;28mself\u001b[39m\u001b[38;5;241m.\u001b[39mvalidation_step_outputs\u001b[38;5;241m.\u001b[39mappend(y_pred)\n",
            "Cell \u001b[0;32mIn[42], line 35\u001b[0m, in \u001b[0;36mLitDNNModule.shared_step\u001b[0;34m(self, batch, batch_idx)\u001b[0m\n\u001b[1;32m     33\u001b[0m \u001b[38;5;28;01mdef\u001b[39;00m \u001b[38;5;21mshared_step\u001b[39m(\u001b[38;5;28mself\u001b[39m, batch, batch_idx):\n\u001b[1;32m     34\u001b[0m     x, y \u001b[38;5;241m=\u001b[39m batch\n\u001b[0;32m---> 35\u001b[0m     y_pred \u001b[38;5;241m=\u001b[39m \u001b[38;5;28;43mself\u001b[39;49m\u001b[38;5;241;43m.\u001b[39;49m\u001b[43mforward\u001b[49m\u001b[43m(\u001b[49m\u001b[43mx\u001b[49m\u001b[43m)\u001b[49m\n\u001b[1;32m     36\u001b[0m     y \u001b[38;5;241m=\u001b[39m y\u001b[38;5;241m.\u001b[39mview(y\u001b[38;5;241m.\u001b[39msize(\u001b[38;5;241m0\u001b[39m), \u001b[38;5;241m-\u001b[39m\u001b[38;5;241m1\u001b[39m)\n\u001b[1;32m     37\u001b[0m     loss \u001b[38;5;241m=\u001b[39m \u001b[38;5;28mself\u001b[39m\u001b[38;5;241m.\u001b[39mloss_fn(y_pred, y)\n",
            "Cell \u001b[0;32mIn[42], line 21\u001b[0m, in \u001b[0;36mLitDNNModule.forward\u001b[0;34m(self, x)\u001b[0m\n\u001b[1;32m     20\u001b[0m \u001b[38;5;28;01mdef\u001b[39;00m \u001b[38;5;21mforward\u001b[39m(\u001b[38;5;28mself\u001b[39m, x):\n\u001b[0;32m---> 21\u001b[0m     x \u001b[38;5;241m=\u001b[39m \u001b[38;5;28;43mself\u001b[39;49m\u001b[38;5;241;43m.\u001b[39;49m\u001b[43mlayers\u001b[49m\u001b[43m(\u001b[49m\u001b[43mx\u001b[49m\u001b[43m)\u001b[49m\n\u001b[1;32m     22\u001b[0m     \u001b[38;5;28;01mreturn\u001b[39;00m x\n",
            "File \u001b[0;32m~/miniconda/envs/lightning/lib/python3.8/site-packages/torch/nn/modules/module.py:1511\u001b[0m, in \u001b[0;36mModule._wrapped_call_impl\u001b[0;34m(self, *args, **kwargs)\u001b[0m\n\u001b[1;32m   1509\u001b[0m     \u001b[38;5;28;01mreturn\u001b[39;00m \u001b[38;5;28mself\u001b[39m\u001b[38;5;241m.\u001b[39m_compiled_call_impl(\u001b[38;5;241m*\u001b[39margs, \u001b[38;5;241m*\u001b[39m\u001b[38;5;241m*\u001b[39mkwargs)  \u001b[38;5;66;03m# type: ignore[misc]\u001b[39;00m\n\u001b[1;32m   1510\u001b[0m \u001b[38;5;28;01melse\u001b[39;00m:\n\u001b[0;32m-> 1511\u001b[0m     \u001b[38;5;28;01mreturn\u001b[39;00m \u001b[38;5;28;43mself\u001b[39;49m\u001b[38;5;241;43m.\u001b[39;49m\u001b[43m_call_impl\u001b[49m\u001b[43m(\u001b[49m\u001b[38;5;241;43m*\u001b[39;49m\u001b[43margs\u001b[49m\u001b[43m,\u001b[49m\u001b[43m \u001b[49m\u001b[38;5;241;43m*\u001b[39;49m\u001b[38;5;241;43m*\u001b[39;49m\u001b[43mkwargs\u001b[49m\u001b[43m)\u001b[49m\n",
            "File \u001b[0;32m~/miniconda/envs/lightning/lib/python3.8/site-packages/torch/nn/modules/module.py:1520\u001b[0m, in \u001b[0;36mModule._call_impl\u001b[0;34m(self, *args, **kwargs)\u001b[0m\n\u001b[1;32m   1515\u001b[0m \u001b[38;5;66;03m# If we don't have any hooks, we want to skip the rest of the logic in\u001b[39;00m\n\u001b[1;32m   1516\u001b[0m \u001b[38;5;66;03m# this function, and just call forward.\u001b[39;00m\n\u001b[1;32m   1517\u001b[0m \u001b[38;5;28;01mif\u001b[39;00m \u001b[38;5;129;01mnot\u001b[39;00m (\u001b[38;5;28mself\u001b[39m\u001b[38;5;241m.\u001b[39m_backward_hooks \u001b[38;5;129;01mor\u001b[39;00m \u001b[38;5;28mself\u001b[39m\u001b[38;5;241m.\u001b[39m_backward_pre_hooks \u001b[38;5;129;01mor\u001b[39;00m \u001b[38;5;28mself\u001b[39m\u001b[38;5;241m.\u001b[39m_forward_hooks \u001b[38;5;129;01mor\u001b[39;00m \u001b[38;5;28mself\u001b[39m\u001b[38;5;241m.\u001b[39m_forward_pre_hooks\n\u001b[1;32m   1518\u001b[0m         \u001b[38;5;129;01mor\u001b[39;00m _global_backward_pre_hooks \u001b[38;5;129;01mor\u001b[39;00m _global_backward_hooks\n\u001b[1;32m   1519\u001b[0m         \u001b[38;5;129;01mor\u001b[39;00m _global_forward_hooks \u001b[38;5;129;01mor\u001b[39;00m _global_forward_pre_hooks):\n\u001b[0;32m-> 1520\u001b[0m     \u001b[38;5;28;01mreturn\u001b[39;00m \u001b[43mforward_call\u001b[49m\u001b[43m(\u001b[49m\u001b[38;5;241;43m*\u001b[39;49m\u001b[43margs\u001b[49m\u001b[43m,\u001b[49m\u001b[43m \u001b[49m\u001b[38;5;241;43m*\u001b[39;49m\u001b[38;5;241;43m*\u001b[39;49m\u001b[43mkwargs\u001b[49m\u001b[43m)\u001b[49m\n\u001b[1;32m   1522\u001b[0m \u001b[38;5;28;01mtry\u001b[39;00m:\n\u001b[1;32m   1523\u001b[0m     result \u001b[38;5;241m=\u001b[39m \u001b[38;5;28;01mNone\u001b[39;00m\n",
            "File \u001b[0;32m~/miniconda/envs/lightning/lib/python3.8/site-packages/torch/nn/modules/container.py:217\u001b[0m, in \u001b[0;36mSequential.forward\u001b[0;34m(self, input)\u001b[0m\n\u001b[1;32m    215\u001b[0m \u001b[38;5;28;01mdef\u001b[39;00m \u001b[38;5;21mforward\u001b[39m(\u001b[38;5;28mself\u001b[39m, \u001b[38;5;28minput\u001b[39m):\n\u001b[1;32m    216\u001b[0m     \u001b[38;5;28;01mfor\u001b[39;00m module \u001b[38;5;129;01min\u001b[39;00m \u001b[38;5;28mself\u001b[39m:\n\u001b[0;32m--> 217\u001b[0m         \u001b[38;5;28minput\u001b[39m \u001b[38;5;241m=\u001b[39m \u001b[43mmodule\u001b[49m\u001b[43m(\u001b[49m\u001b[38;5;28;43minput\u001b[39;49m\u001b[43m)\u001b[49m\n\u001b[1;32m    218\u001b[0m     \u001b[38;5;28;01mreturn\u001b[39;00m \u001b[38;5;28minput\u001b[39m\n",
            "File \u001b[0;32m~/miniconda/envs/lightning/lib/python3.8/site-packages/torch/nn/modules/module.py:1511\u001b[0m, in \u001b[0;36mModule._wrapped_call_impl\u001b[0;34m(self, *args, **kwargs)\u001b[0m\n\u001b[1;32m   1509\u001b[0m     \u001b[38;5;28;01mreturn\u001b[39;00m \u001b[38;5;28mself\u001b[39m\u001b[38;5;241m.\u001b[39m_compiled_call_impl(\u001b[38;5;241m*\u001b[39margs, \u001b[38;5;241m*\u001b[39m\u001b[38;5;241m*\u001b[39mkwargs)  \u001b[38;5;66;03m# type: ignore[misc]\u001b[39;00m\n\u001b[1;32m   1510\u001b[0m \u001b[38;5;28;01melse\u001b[39;00m:\n\u001b[0;32m-> 1511\u001b[0m     \u001b[38;5;28;01mreturn\u001b[39;00m \u001b[38;5;28;43mself\u001b[39;49m\u001b[38;5;241;43m.\u001b[39;49m\u001b[43m_call_impl\u001b[49m\u001b[43m(\u001b[49m\u001b[38;5;241;43m*\u001b[39;49m\u001b[43margs\u001b[49m\u001b[43m,\u001b[49m\u001b[43m \u001b[49m\u001b[38;5;241;43m*\u001b[39;49m\u001b[38;5;241;43m*\u001b[39;49m\u001b[43mkwargs\u001b[49m\u001b[43m)\u001b[49m\n",
            "File \u001b[0;32m~/miniconda/envs/lightning/lib/python3.8/site-packages/torch/nn/modules/module.py:1520\u001b[0m, in \u001b[0;36mModule._call_impl\u001b[0;34m(self, *args, **kwargs)\u001b[0m\n\u001b[1;32m   1515\u001b[0m \u001b[38;5;66;03m# If we don't have any hooks, we want to skip the rest of the logic in\u001b[39;00m\n\u001b[1;32m   1516\u001b[0m \u001b[38;5;66;03m# this function, and just call forward.\u001b[39;00m\n\u001b[1;32m   1517\u001b[0m \u001b[38;5;28;01mif\u001b[39;00m \u001b[38;5;129;01mnot\u001b[39;00m (\u001b[38;5;28mself\u001b[39m\u001b[38;5;241m.\u001b[39m_backward_hooks \u001b[38;5;129;01mor\u001b[39;00m \u001b[38;5;28mself\u001b[39m\u001b[38;5;241m.\u001b[39m_backward_pre_hooks \u001b[38;5;129;01mor\u001b[39;00m \u001b[38;5;28mself\u001b[39m\u001b[38;5;241m.\u001b[39m_forward_hooks \u001b[38;5;129;01mor\u001b[39;00m \u001b[38;5;28mself\u001b[39m\u001b[38;5;241m.\u001b[39m_forward_pre_hooks\n\u001b[1;32m   1518\u001b[0m         \u001b[38;5;129;01mor\u001b[39;00m _global_backward_pre_hooks \u001b[38;5;129;01mor\u001b[39;00m _global_backward_hooks\n\u001b[1;32m   1519\u001b[0m         \u001b[38;5;129;01mor\u001b[39;00m _global_forward_hooks \u001b[38;5;129;01mor\u001b[39;00m _global_forward_pre_hooks):\n\u001b[0;32m-> 1520\u001b[0m     \u001b[38;5;28;01mreturn\u001b[39;00m \u001b[43mforward_call\u001b[49m\u001b[43m(\u001b[49m\u001b[38;5;241;43m*\u001b[39;49m\u001b[43margs\u001b[49m\u001b[43m,\u001b[49m\u001b[43m \u001b[49m\u001b[38;5;241;43m*\u001b[39;49m\u001b[38;5;241;43m*\u001b[39;49m\u001b[43mkwargs\u001b[49m\u001b[43m)\u001b[49m\n\u001b[1;32m   1522\u001b[0m \u001b[38;5;28;01mtry\u001b[39;00m:\n\u001b[1;32m   1523\u001b[0m     result \u001b[38;5;241m=\u001b[39m \u001b[38;5;28;01mNone\u001b[39;00m\n",
            "File \u001b[0;32m~/miniconda/envs/lightning/lib/python3.8/site-packages/torch/nn/modules/linear.py:116\u001b[0m, in \u001b[0;36mLinear.forward\u001b[0;34m(self, input)\u001b[0m\n\u001b[1;32m    115\u001b[0m \u001b[38;5;28;01mdef\u001b[39;00m \u001b[38;5;21mforward\u001b[39m(\u001b[38;5;28mself\u001b[39m, \u001b[38;5;28minput\u001b[39m: Tensor) \u001b[38;5;241m-\u001b[39m\u001b[38;5;241m>\u001b[39m Tensor:\n\u001b[0;32m--> 116\u001b[0m     \u001b[38;5;28;01mreturn\u001b[39;00m \u001b[43mF\u001b[49m\u001b[38;5;241;43m.\u001b[39;49m\u001b[43mlinear\u001b[49m\u001b[43m(\u001b[49m\u001b[38;5;28;43minput\u001b[39;49m\u001b[43m,\u001b[49m\u001b[43m \u001b[49m\u001b[38;5;28;43mself\u001b[39;49m\u001b[38;5;241;43m.\u001b[39;49m\u001b[43mweight\u001b[49m\u001b[43m,\u001b[49m\u001b[43m \u001b[49m\u001b[38;5;28;43mself\u001b[39;49m\u001b[38;5;241;43m.\u001b[39;49m\u001b[43mbias\u001b[49m\u001b[43m)\u001b[49m\n",
            "\u001b[0;31mRuntimeError\u001b[0m: mat1 and mat2 must have the same dtype, but got Double and Float"
          ]
        }
      ],
      "source": [
        "from argparse import Namespace\n",
        "import torch\n",
        "from lightning import seed_everything\n",
        "from lightning.pytorch.callbacks.early_stopping import EarlyStopping\n",
        "\n",
        "# Define hparams\n",
        "hparams = Namespace(\n",
        "    checkpoint_name='./checkpoint/final.ckpt',\n",
        "    data_folder='./content',\n",
        "    test_input='test.csv',\n",
        "    test_output='test_pred.csv',\n",
        "    default_root_dir='./logs',\n",
        "    max_epochs=450,\n",
        "    gpus=(-1 if torch.cuda.is_available() else 0),\n",
        "    auto_select_gpus=True,\n",
        "    deterministic=True,\n",
        "    batch_size=128,\n",
        "    num_workers=6,\n",
        "    learning_rate=0.02,\n",
        "    fast_dev_run=False\n",
        ")\n",
        "\n",
        "early_stop_callback = EarlyStopping(monitor='val_loss', min_delta=1e-7 , patience=80, verbose=True, mode='min')\n",
        "seed_everything(77)\n",
        "\n",
        "ml_module = LitDNNModule(learning_rate=0.01, batch=64)\n",
        "data_module = LitDataModule(batch_size=64, num_workers=6, data=Data)\n",
        "data_module.setup()\n",
        "model_trainer = L.Trainer(\n",
        "    accelerator=\"gpu\", default_root_dir='./logs', callbacks=[early_stop_callback], max_epochs=1000)\n",
        "model_trainer.logger = L.pytorch.loggers.TensorBoardLogger('logs/', name='exp')\n",
        "\n",
        "\n",
        "def train_model(hparams):\n",
        "    #model_trainer = pl.Trainer.from_argparse_args(hparams)\n",
        "\n",
        "    model_trainer.fit(ml_module, datamodule=data_module)\n",
        "    model_trainer.save_checkpoint(hparams.checkpoint_name)\n",
        "\n",
        "\n",
        "def test_model(hparams):\n",
        "    model = LitDNNModule.load_from_checkpoint(hparams.checkpoint_name)\n",
        "    model_trainer.test(model, datamodule=data_module)\n",
        "\n",
        "# Call train_model() with hparams\n",
        "train_model(hparams=hparams)\n",
        "#test_model(hparams=hparams)"
      ]
    },
    {
      "cell_type": "code",
      "execution_count": null,
      "metadata": {},
      "outputs": [
        {
          "name": "stderr",
          "output_type": "stream",
          "text": [
            "GPU available: True (cuda), used: True\n",
            "TPU available: False, using: 0 TPU cores\n",
            "IPU available: False, using: 0 IPUs\n",
            "HPU available: False, using: 0 HPUs\n",
            "LOCAL_RANK: 0 - CUDA_VISIBLE_DEVICES: [0]\n"
          ]
        },
        {
          "name": "stdout",
          "output_type": "stream",
          "text": [
            "Train size:  38109\n",
            "Test size:  4763\n",
            "Validation size:  4765\n",
            "Testing DataLoader 0: 100%|██████████| 75/75 [00:00<00:00, 329.76it/s]\n",
            "────────────────────────────────────────────────────────────────────────────────────────────────────────────────────────\n",
            "       Test metric             DataLoader 0\n",
            "────────────────────────────────────────────────────────────────────────────────────────────────────────────────────────\n",
            "     Varian Score:          0.8315617442131042\n",
            "────────────────────────────────────────────────────────────────────────────────────────────────────────────────────────\n",
            "[{'Varian Score: ': 0.8315617442131042}]\n"
          ]
        }
      ],
      "source": [
        "data_module = LitDataModule(batch_size=64, num_workers=6, data=Data)\n",
        "model_trainer = L.Trainer(\n",
        "    accelerator=\"gpu\", default_root_dir='./logs', callbacks=[early_stop_callback], max_epochs=1000)\n",
        "model_trainer.logger = L.pytorch.loggers.TensorBoardLogger('logs/', name='exp')\n",
        "\n",
        "model = LitDNNModule.load_from_checkpoint(hparams.checkpoint_name)\n",
        "a = model_trainer.test(model, datamodule=data_module)\n",
        "print(a)"
      ]
    }
  ],
  "metadata": {
    "accelerator": "GPU",
    "colab": {
      "gpuType": "T4",
      "include_colab_link": true,
      "provenance": []
    },
    "kernelspec": {
      "display_name": "Python 3",
      "name": "python3"
    },
    "language_info": {
      "codemirror_mode": {
        "name": "ipython",
        "version": 3
      },
      "file_extension": ".py",
      "mimetype": "text/x-python",
      "name": "python",
      "nbconvert_exporter": "python",
      "pygments_lexer": "ipython3",
      "version": "3.8.19"
    }
  },
  "nbformat": 4,
  "nbformat_minor": 0
}
