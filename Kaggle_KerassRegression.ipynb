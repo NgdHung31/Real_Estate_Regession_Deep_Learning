{
  "cells": [
    {
      "cell_type": "markdown",
      "metadata": {
        "id": "view-in-github",
        "colab_type": "text"
      },
      "source": [
        "<a href=\"https://colab.research.google.com/github/NgdHung31/Real_Estate_Regession_Deep_Learning/blob/main/Kaggle_KerassRegression.ipynb\" target=\"_parent\"><img src=\"https://colab.research.google.com/assets/colab-badge.svg\" alt=\"Open In Colab\"/></a>"
      ]
    },
    {
      "cell_type": "markdown",
      "metadata": {
        "id": "1SiwLKBaJ72J"
      },
      "source": [
        "# Hose Sales Prediction (Keras-Regression vs Multiple Regression)"
      ]
    },
    {
      "cell_type": "markdown",
      "metadata": {
        "id": "WDgiapOsJ72L"
      },
      "source": [
        "#### Feature Columns\n",
        "    \n",
        "* id - Unique ID for each home sold\n",
        "* date - Date of the home sale\n",
        "* price - Price of each home sold\n",
        "* bedrooms - Number of bedrooms\n",
        "* bathrooms - Number of bathrooms, where .5 accounts for a room with a toilet but no shower\n",
        "* sqft_living - Square footage of the apartments interior living space\n",
        "* sqft_lot - Square footage of the land space\n",
        "* floors - Number of floors\n",
        "* waterfront - A dummy variable for whether the apartment was overlooking the waterfront or not\n",
        "* view - An index from 0 to 4 of how good the view of the property was\n",
        "* condition - An index from 1 to 5 on the condition of the apartment,\n",
        "* grade - An index from 1 to 13, where 1-3 falls short of building construction and design, 7 has an average level of construction and design, and 11-13 have a high quality level of construction and design.\n",
        "* sqft_above - The square footage of the interior housing space that is above ground level\n",
        "* sqft_basement - The square footage of the interior housing space that is below ground level\n",
        "* yr_built - The year the house was initially built\n",
        "* yr_renovated - The year of the house’s last renovation\n",
        "* zipcode - What zipcode area the house is in\n",
        "* lat - Lattitude\n",
        "* long - Longitude\n",
        "* sqft_living15 - The square footage of interior housing living space for the nearest 15 neighbors\n",
        "* sqft_lot15 - The square footage of the land lots of the nearest 15 neighbors\n",
        "\n",
        "\n",
        "Data used: https://www.kaggle.com/harlfoxem/housesalesprediction"
      ]
    },
    {
      "cell_type": "code",
      "source": [
        "                                                                                                                                                                                                                                                                                                                                                                                                                                                                                                                                                                                                                                                                                                                                                                                                                                                                                                                                                                                                                                                                                                                                                                                                                                                                    !pip install gdown"
      ],
      "metadata": {
        "colab": {
          "base_uri": "https://localhost:8080/"
        },
        "id": "dGChnkOCFNLo",
        "outputId": "c3a05d40-6c05-498f-f450-dc428da8a2cf"
      },
      "execution_count": null,
      "outputs": [
        {
          "output_type": "stream",
          "name": "stdout",
          "text": [
            "Requirement already satisfied: gdown in /usr/local/lib/python3.10/dist-packages (4.7.3)\n",
            "Requirement already satisfied: filelock in /usr/local/lib/python3.10/dist-packages (from gdown) (3.13.3)\n",
            "Requirement already satisfied: requests[socks] in /usr/local/lib/python3.10/dist-packages (from gdown) (2.31.0)\n",
            "Requirement already satisfied: six in /usr/local/lib/python3.10/dist-packages (from gdown) (1.16.0)\n",
            "Requirement already satisfied: tqdm in /usr/local/lib/python3.10/dist-packages (from gdown) (4.66.2)\n",
            "Requirement already satisfied: beautifulsoup4 in /usr/local/lib/python3.10/dist-packages (from gdown) (4.12.3)\n",
            "Requirement already satisfied: soupsieve>1.2 in /usr/local/lib/python3.10/dist-packages (from beautifulsoup4->gdown) (2.5)\n",
            "Requirement already satisfied: charset-normalizer<4,>=2 in /usr/local/lib/python3.10/dist-packages (from requests[socks]->gdown) (3.3.2)\n",
            "Requirement already satisfied: idna<4,>=2.5 in /usr/local/lib/python3.10/dist-packages (from requests[socks]->gdown) (3.6)\n",
            "Requirement already satisfied: urllib3<3,>=1.21.1 in /usr/local/lib/python3.10/dist-packages (from requests[socks]->gdown) (2.0.7)\n",
            "Requirement already satisfied: certifi>=2017.4.17 in /usr/local/lib/python3.10/dist-packages (from requests[socks]->gdown) (2024.2.2)\n",
            "Requirement already satisfied: PySocks!=1.5.7,>=1.5.6 in /usr/local/lib/python3.10/dist-packages (from requests[socks]->gdown) (1.7.1)\n"
          ]
        }
      ]
    },
    {
      "cell_type": "code",
      "execution_count": null,
      "metadata": {
        "id": "mQ-aKfIaJ72M",
        "colab": {
          "base_uri": "https://localhost:8080/"
        },
        "outputId": "63febee5-7d26-4e88-a97c-35d1aa875323"
      },
      "outputs": [
        {
          "output_type": "stream",
          "name": "stdout",
          "text": [
            "\u001b[31mERROR: pip's dependency resolver does not currently take into account all the packages that are installed. This behaviour is the source of the following dependency conflicts.\n",
            "tf-keras 2.15.1 requires tensorflow<2.16,>=2.15, but you have tensorflow 2.16.1 which is incompatible.\u001b[0m\u001b[31m\n",
            "\u001b[0mSuccessfully installed h5py-3.11.0 keras-3.2.1 ml-dtypes-0.3.2 namex-0.0.7 optree-0.11.0 tensorboard-2.16.2 tensorflow-2.16.1\n",
            "Downloading...\n",
            "From: https://drive.google.com/uc?id=1H98Xv24pGw9jTQO5sJsp6X8xRPfrxiHG\n",
            "To: /content/dataset_non_outliers_Price_Area.csv\n",
            "100% 9.23M/9.23M [00:00<00:00, 50.2MB/s]\n"
          ]
        }
      ],
      "source": [
        "# import required libraries\n",
        "import pandas as pd\n",
        "import numpy as np\n",
        "import seaborn as sns\n",
        "import matplotlib.pyplot as plt\n",
        "!pip install tensorflow -U\n",
        "!gdown https://drive.google.com/uc?id=1H98Xv24pGw9jTQO5sJsp6X8xRPfrxiHG"
      ]
    },
    {
      "cell_type": "code",
      "execution_count": null,
      "metadata": {
        "colab": {
          "base_uri": "https://localhost:8080/"
        },
        "id": "oSsqJH6RJ72N",
        "outputId": "6f82e258-ebc2-4f91-c82d-8fdc418cfb7b"
      },
      "outputs": [
        {
          "output_type": "stream",
          "name": "stderr",
          "text": [
            "<ipython-input-3-f63052ca2597>:2: DtypeWarning: Columns (14,15) have mixed types. Specify dtype option on import or set low_memory=False.\n",
            "  Data = pd.read_csv('/content/dataset_non_outliers_Price_Area.csv')\n"
          ]
        }
      ],
      "source": [
        "# read the csv file\n",
        "Data = pd.read_csv('/content/dataset_non_outliers_Price_Area.csv')"
      ]
    },
    {
      "cell_type": "markdown",
      "metadata": {
        "id": "EX04sc2jJ72N"
      },
      "source": [
        "# Exploratory Data Analysis"
      ]
    },
    {
      "cell_type": "code",
      "execution_count": null,
      "metadata": {
        "colab": {
          "base_uri": "https://localhost:8080/",
          "height": 464
        },
        "id": "76Pd4PKFJ72O",
        "outputId": "0ccfd36b-334f-4c75-ad10-6c5bc22a1451"
      },
      "outputs": [
        {
          "output_type": "execute_result",
          "data": {
            "text/plain": [
              "  Property_type   Area  Width  Length  Frontage  Number_of_floors  \\\n",
              "0  Nhà biệt thự   80.0    NaN     NaN       NaN               3.0   \n",
              "1  Nhà biệt thự   80.0    NaN     NaN       6.0               3.0   \n",
              "2  Nhà biệt thự  136.5    NaN     NaN       7.0               3.0   \n",
              "3  Nhà biệt thự   95.0    NaN     NaN       NaN               5.0   \n",
              "4  Nhà biệt thự   90.0    NaN     NaN       NaN               5.0   \n",
              "\n",
              "   Number_of_bedrooms Number_of_toilets Legal_status          Furniture  ...  \\\n",
              "0                 4.0                 3     Đã có sổ        Có nội thất  ...   \n",
              "1                 3.0                 3     Đã có sổ        Có nội thất  ...   \n",
              "2                 4.0                 4     Đã có sổ        Có nội thất  ...   \n",
              "3                 5.0                 4     Đã có sổ  Không có nội thất  ...   \n",
              "4                 5.0                 4     Đã có sổ  Không có nội thất  ...   \n",
              "\n",
              "  Posting_date Expiry_date  Type_of_listing                 Project_name  \\\n",
              "0    1/11/2023  16/11/2023       Tin thường            Dự án Lovera Park   \n",
              "1   31/10/2023   7/11/2023     Tin VIP Bạc  Dự án Khang Điền Bình Chánh   \n",
              "2   30/10/2023  14/11/2023     Tin VIP Bạc        Dự án KDC Phong Phú 5   \n",
              "3   20/10/2023   4/11/2023       Tin thường                      Unknown   \n",
              "4   30/10/2023  14/11/2023       Tin thường                      Unknown   \n",
              "\n",
              "                   Street           Ward    District        Province  \\\n",
              "0  Đường Trịnh Quang Nghị   Xã Phong Phú  Bình Chánh  TP Hồ Chí Minh   \n",
              "1  Đường Trịnh Quang Nghị   Xã Phong Phú  Bình Chánh  TP Hồ Chí Minh   \n",
              "2              Đường Số 5   Xã Phong Phú  Bình Chánh  TP Hồ Chí Minh   \n",
              "3        Đường Quách Điêu  Xã Vĩnh Lộc A  Bình Chánh  TP Hồ Chí Minh   \n",
              "4        Đường Quách Điêu  Xã Vĩnh Lộc A  Bình Chánh  TP Hồ Chí Minh   \n",
              "\n",
              "    Distance Price  \n",
              "0   9.623252   6.5  \n",
              "1   9.623252   7.9  \n",
              "2   9.623252  10.8  \n",
              "3  14.245030   7.6  \n",
              "4  14.245030   7.6  \n",
              "\n",
              "[5 rows x 23 columns]"
            ],
            "text/html": [
              "\n",
              "  <div id=\"df-1db2b6c8-dda4-48a9-bef4-7f82b3633a18\" class=\"colab-df-container\">\n",
              "    <div>\n",
              "<style scoped>\n",
              "    .dataframe tbody tr th:only-of-type {\n",
              "        vertical-align: middle;\n",
              "    }\n",
              "\n",
              "    .dataframe tbody tr th {\n",
              "        vertical-align: top;\n",
              "    }\n",
              "\n",
              "    .dataframe thead th {\n",
              "        text-align: right;\n",
              "    }\n",
              "</style>\n",
              "<table border=\"1\" class=\"dataframe\">\n",
              "  <thead>\n",
              "    <tr style=\"text-align: right;\">\n",
              "      <th></th>\n",
              "      <th>Property_type</th>\n",
              "      <th>Area</th>\n",
              "      <th>Width</th>\n",
              "      <th>Length</th>\n",
              "      <th>Frontage</th>\n",
              "      <th>Number_of_floors</th>\n",
              "      <th>Number_of_bedrooms</th>\n",
              "      <th>Number_of_toilets</th>\n",
              "      <th>Legal_status</th>\n",
              "      <th>Furniture</th>\n",
              "      <th>...</th>\n",
              "      <th>Posting_date</th>\n",
              "      <th>Expiry_date</th>\n",
              "      <th>Type_of_listing</th>\n",
              "      <th>Project_name</th>\n",
              "      <th>Street</th>\n",
              "      <th>Ward</th>\n",
              "      <th>District</th>\n",
              "      <th>Province</th>\n",
              "      <th>Distance</th>\n",
              "      <th>Price</th>\n",
              "    </tr>\n",
              "  </thead>\n",
              "  <tbody>\n",
              "    <tr>\n",
              "      <th>0</th>\n",
              "      <td>Nhà biệt thự</td>\n",
              "      <td>80.0</td>\n",
              "      <td>NaN</td>\n",
              "      <td>NaN</td>\n",
              "      <td>NaN</td>\n",
              "      <td>3.0</td>\n",
              "      <td>4.0</td>\n",
              "      <td>3</td>\n",
              "      <td>Đã có sổ</td>\n",
              "      <td>Có nội thất</td>\n",
              "      <td>...</td>\n",
              "      <td>1/11/2023</td>\n",
              "      <td>16/11/2023</td>\n",
              "      <td>Tin thường</td>\n",
              "      <td>Dự án Lovera Park</td>\n",
              "      <td>Đường Trịnh Quang Nghị</td>\n",
              "      <td>Xã Phong Phú</td>\n",
              "      <td>Bình Chánh</td>\n",
              "      <td>TP Hồ Chí Minh</td>\n",
              "      <td>9.623252</td>\n",
              "      <td>6.5</td>\n",
              "    </tr>\n",
              "    <tr>\n",
              "      <th>1</th>\n",
              "      <td>Nhà biệt thự</td>\n",
              "      <td>80.0</td>\n",
              "      <td>NaN</td>\n",
              "      <td>NaN</td>\n",
              "      <td>6.0</td>\n",
              "      <td>3.0</td>\n",
              "      <td>3.0</td>\n",
              "      <td>3</td>\n",
              "      <td>Đã có sổ</td>\n",
              "      <td>Có nội thất</td>\n",
              "      <td>...</td>\n",
              "      <td>31/10/2023</td>\n",
              "      <td>7/11/2023</td>\n",
              "      <td>Tin VIP Bạc</td>\n",
              "      <td>Dự án Khang Điền Bình Chánh</td>\n",
              "      <td>Đường Trịnh Quang Nghị</td>\n",
              "      <td>Xã Phong Phú</td>\n",
              "      <td>Bình Chánh</td>\n",
              "      <td>TP Hồ Chí Minh</td>\n",
              "      <td>9.623252</td>\n",
              "      <td>7.9</td>\n",
              "    </tr>\n",
              "    <tr>\n",
              "      <th>2</th>\n",
              "      <td>Nhà biệt thự</td>\n",
              "      <td>136.5</td>\n",
              "      <td>NaN</td>\n",
              "      <td>NaN</td>\n",
              "      <td>7.0</td>\n",
              "      <td>3.0</td>\n",
              "      <td>4.0</td>\n",
              "      <td>4</td>\n",
              "      <td>Đã có sổ</td>\n",
              "      <td>Có nội thất</td>\n",
              "      <td>...</td>\n",
              "      <td>30/10/2023</td>\n",
              "      <td>14/11/2023</td>\n",
              "      <td>Tin VIP Bạc</td>\n",
              "      <td>Dự án KDC Phong Phú 5</td>\n",
              "      <td>Đường Số 5</td>\n",
              "      <td>Xã Phong Phú</td>\n",
              "      <td>Bình Chánh</td>\n",
              "      <td>TP Hồ Chí Minh</td>\n",
              "      <td>9.623252</td>\n",
              "      <td>10.8</td>\n",
              "    </tr>\n",
              "    <tr>\n",
              "      <th>3</th>\n",
              "      <td>Nhà biệt thự</td>\n",
              "      <td>95.0</td>\n",
              "      <td>NaN</td>\n",
              "      <td>NaN</td>\n",
              "      <td>NaN</td>\n",
              "      <td>5.0</td>\n",
              "      <td>5.0</td>\n",
              "      <td>4</td>\n",
              "      <td>Đã có sổ</td>\n",
              "      <td>Không có nội thất</td>\n",
              "      <td>...</td>\n",
              "      <td>20/10/2023</td>\n",
              "      <td>4/11/2023</td>\n",
              "      <td>Tin thường</td>\n",
              "      <td>Unknown</td>\n",
              "      <td>Đường Quách Điêu</td>\n",
              "      <td>Xã Vĩnh Lộc A</td>\n",
              "      <td>Bình Chánh</td>\n",
              "      <td>TP Hồ Chí Minh</td>\n",
              "      <td>14.245030</td>\n",
              "      <td>7.6</td>\n",
              "    </tr>\n",
              "    <tr>\n",
              "      <th>4</th>\n",
              "      <td>Nhà biệt thự</td>\n",
              "      <td>90.0</td>\n",
              "      <td>NaN</td>\n",
              "      <td>NaN</td>\n",
              "      <td>NaN</td>\n",
              "      <td>5.0</td>\n",
              "      <td>5.0</td>\n",
              "      <td>4</td>\n",
              "      <td>Đã có sổ</td>\n",
              "      <td>Không có nội thất</td>\n",
              "      <td>...</td>\n",
              "      <td>30/10/2023</td>\n",
              "      <td>14/11/2023</td>\n",
              "      <td>Tin thường</td>\n",
              "      <td>Unknown</td>\n",
              "      <td>Đường Quách Điêu</td>\n",
              "      <td>Xã Vĩnh Lộc A</td>\n",
              "      <td>Bình Chánh</td>\n",
              "      <td>TP Hồ Chí Minh</td>\n",
              "      <td>14.245030</td>\n",
              "      <td>7.6</td>\n",
              "    </tr>\n",
              "  </tbody>\n",
              "</table>\n",
              "<p>5 rows × 23 columns</p>\n",
              "</div>\n",
              "    <div class=\"colab-df-buttons\">\n",
              "\n",
              "  <div class=\"colab-df-container\">\n",
              "    <button class=\"colab-df-convert\" onclick=\"convertToInteractive('df-1db2b6c8-dda4-48a9-bef4-7f82b3633a18')\"\n",
              "            title=\"Convert this dataframe to an interactive table.\"\n",
              "            style=\"display:none;\">\n",
              "\n",
              "  <svg xmlns=\"http://www.w3.org/2000/svg\" height=\"24px\" viewBox=\"0 -960 960 960\">\n",
              "    <path d=\"M120-120v-720h720v720H120Zm60-500h600v-160H180v160Zm220 220h160v-160H400v160Zm0 220h160v-160H400v160ZM180-400h160v-160H180v160Zm440 0h160v-160H620v160ZM180-180h160v-160H180v160Zm440 0h160v-160H620v160Z\"/>\n",
              "  </svg>\n",
              "    </button>\n",
              "\n",
              "  <style>\n",
              "    .colab-df-container {\n",
              "      display:flex;\n",
              "      gap: 12px;\n",
              "    }\n",
              "\n",
              "    .colab-df-convert {\n",
              "      background-color: #E8F0FE;\n",
              "      border: none;\n",
              "      border-radius: 50%;\n",
              "      cursor: pointer;\n",
              "      display: none;\n",
              "      fill: #1967D2;\n",
              "      height: 32px;\n",
              "      padding: 0 0 0 0;\n",
              "      width: 32px;\n",
              "    }\n",
              "\n",
              "    .colab-df-convert:hover {\n",
              "      background-color: #E2EBFA;\n",
              "      box-shadow: 0px 1px 2px rgba(60, 64, 67, 0.3), 0px 1px 3px 1px rgba(60, 64, 67, 0.15);\n",
              "      fill: #174EA6;\n",
              "    }\n",
              "\n",
              "    .colab-df-buttons div {\n",
              "      margin-bottom: 4px;\n",
              "    }\n",
              "\n",
              "    [theme=dark] .colab-df-convert {\n",
              "      background-color: #3B4455;\n",
              "      fill: #D2E3FC;\n",
              "    }\n",
              "\n",
              "    [theme=dark] .colab-df-convert:hover {\n",
              "      background-color: #434B5C;\n",
              "      box-shadow: 0px 1px 3px 1px rgba(0, 0, 0, 0.15);\n",
              "      filter: drop-shadow(0px 1px 2px rgba(0, 0, 0, 0.3));\n",
              "      fill: #FFFFFF;\n",
              "    }\n",
              "  </style>\n",
              "\n",
              "    <script>\n",
              "      const buttonEl =\n",
              "        document.querySelector('#df-1db2b6c8-dda4-48a9-bef4-7f82b3633a18 button.colab-df-convert');\n",
              "      buttonEl.style.display =\n",
              "        google.colab.kernel.accessAllowed ? 'block' : 'none';\n",
              "\n",
              "      async function convertToInteractive(key) {\n",
              "        const element = document.querySelector('#df-1db2b6c8-dda4-48a9-bef4-7f82b3633a18');\n",
              "        const dataTable =\n",
              "          await google.colab.kernel.invokeFunction('convertToInteractive',\n",
              "                                                    [key], {});\n",
              "        if (!dataTable) return;\n",
              "\n",
              "        const docLinkHtml = 'Like what you see? Visit the ' +\n",
              "          '<a target=\"_blank\" href=https://colab.research.google.com/notebooks/data_table.ipynb>data table notebook</a>'\n",
              "          + ' to learn more about interactive tables.';\n",
              "        element.innerHTML = '';\n",
              "        dataTable['output_type'] = 'display_data';\n",
              "        await google.colab.output.renderOutput(dataTable, element);\n",
              "        const docLink = document.createElement('div');\n",
              "        docLink.innerHTML = docLinkHtml;\n",
              "        element.appendChild(docLink);\n",
              "      }\n",
              "    </script>\n",
              "  </div>\n",
              "\n",
              "\n",
              "<div id=\"df-3500c152-f39d-42a5-9a7d-5d9fe3f4769c\">\n",
              "  <button class=\"colab-df-quickchart\" onclick=\"quickchart('df-3500c152-f39d-42a5-9a7d-5d9fe3f4769c')\"\n",
              "            title=\"Suggest charts\"\n",
              "            style=\"display:none;\">\n",
              "\n",
              "<svg xmlns=\"http://www.w3.org/2000/svg\" height=\"24px\"viewBox=\"0 0 24 24\"\n",
              "     width=\"24px\">\n",
              "    <g>\n",
              "        <path d=\"M19 3H5c-1.1 0-2 .9-2 2v14c0 1.1.9 2 2 2h14c1.1 0 2-.9 2-2V5c0-1.1-.9-2-2-2zM9 17H7v-7h2v7zm4 0h-2V7h2v10zm4 0h-2v-4h2v4z\"/>\n",
              "    </g>\n",
              "</svg>\n",
              "  </button>\n",
              "\n",
              "<style>\n",
              "  .colab-df-quickchart {\n",
              "      --bg-color: #E8F0FE;\n",
              "      --fill-color: #1967D2;\n",
              "      --hover-bg-color: #E2EBFA;\n",
              "      --hover-fill-color: #174EA6;\n",
              "      --disabled-fill-color: #AAA;\n",
              "      --disabled-bg-color: #DDD;\n",
              "  }\n",
              "\n",
              "  [theme=dark] .colab-df-quickchart {\n",
              "      --bg-color: #3B4455;\n",
              "      --fill-color: #D2E3FC;\n",
              "      --hover-bg-color: #434B5C;\n",
              "      --hover-fill-color: #FFFFFF;\n",
              "      --disabled-bg-color: #3B4455;\n",
              "      --disabled-fill-color: #666;\n",
              "  }\n",
              "\n",
              "  .colab-df-quickchart {\n",
              "    background-color: var(--bg-color);\n",
              "    border: none;\n",
              "    border-radius: 50%;\n",
              "    cursor: pointer;\n",
              "    display: none;\n",
              "    fill: var(--fill-color);\n",
              "    height: 32px;\n",
              "    padding: 0;\n",
              "    width: 32px;\n",
              "  }\n",
              "\n",
              "  .colab-df-quickchart:hover {\n",
              "    background-color: var(--hover-bg-color);\n",
              "    box-shadow: 0 1px 2px rgba(60, 64, 67, 0.3), 0 1px 3px 1px rgba(60, 64, 67, 0.15);\n",
              "    fill: var(--button-hover-fill-color);\n",
              "  }\n",
              "\n",
              "  .colab-df-quickchart-complete:disabled,\n",
              "  .colab-df-quickchart-complete:disabled:hover {\n",
              "    background-color: var(--disabled-bg-color);\n",
              "    fill: var(--disabled-fill-color);\n",
              "    box-shadow: none;\n",
              "  }\n",
              "\n",
              "  .colab-df-spinner {\n",
              "    border: 2px solid var(--fill-color);\n",
              "    border-color: transparent;\n",
              "    border-bottom-color: var(--fill-color);\n",
              "    animation:\n",
              "      spin 1s steps(1) infinite;\n",
              "  }\n",
              "\n",
              "  @keyframes spin {\n",
              "    0% {\n",
              "      border-color: transparent;\n",
              "      border-bottom-color: var(--fill-color);\n",
              "      border-left-color: var(--fill-color);\n",
              "    }\n",
              "    20% {\n",
              "      border-color: transparent;\n",
              "      border-left-color: var(--fill-color);\n",
              "      border-top-color: var(--fill-color);\n",
              "    }\n",
              "    30% {\n",
              "      border-color: transparent;\n",
              "      border-left-color: var(--fill-color);\n",
              "      border-top-color: var(--fill-color);\n",
              "      border-right-color: var(--fill-color);\n",
              "    }\n",
              "    40% {\n",
              "      border-color: transparent;\n",
              "      border-right-color: var(--fill-color);\n",
              "      border-top-color: var(--fill-color);\n",
              "    }\n",
              "    60% {\n",
              "      border-color: transparent;\n",
              "      border-right-color: var(--fill-color);\n",
              "    }\n",
              "    80% {\n",
              "      border-color: transparent;\n",
              "      border-right-color: var(--fill-color);\n",
              "      border-bottom-color: var(--fill-color);\n",
              "    }\n",
              "    90% {\n",
              "      border-color: transparent;\n",
              "      border-bottom-color: var(--fill-color);\n",
              "    }\n",
              "  }\n",
              "</style>\n",
              "\n",
              "  <script>\n",
              "    async function quickchart(key) {\n",
              "      const quickchartButtonEl =\n",
              "        document.querySelector('#' + key + ' button');\n",
              "      quickchartButtonEl.disabled = true;  // To prevent multiple clicks.\n",
              "      quickchartButtonEl.classList.add('colab-df-spinner');\n",
              "      try {\n",
              "        const charts = await google.colab.kernel.invokeFunction(\n",
              "            'suggestCharts', [key], {});\n",
              "      } catch (error) {\n",
              "        console.error('Error during call to suggestCharts:', error);\n",
              "      }\n",
              "      quickchartButtonEl.classList.remove('colab-df-spinner');\n",
              "      quickchartButtonEl.classList.add('colab-df-quickchart-complete');\n",
              "    }\n",
              "    (() => {\n",
              "      let quickchartButtonEl =\n",
              "        document.querySelector('#df-3500c152-f39d-42a5-9a7d-5d9fe3f4769c button');\n",
              "      quickchartButtonEl.style.display =\n",
              "        google.colab.kernel.accessAllowed ? 'block' : 'none';\n",
              "    })();\n",
              "  </script>\n",
              "</div>\n",
              "\n",
              "    </div>\n",
              "  </div>\n"
            ],
            "application/vnd.google.colaboratory.intrinsic+json": {
              "type": "dataframe",
              "variable_name": "Data"
            }
          },
          "metadata": {},
          "execution_count": 4
        }
      ],
      "source": [
        "Data.head(5)"
      ]
    },
    {
      "cell_type": "code",
      "execution_count": null,
      "metadata": {
        "colab": {
          "base_uri": "https://localhost:8080/",
          "height": 852
        },
        "id": "Dh2eYA5VJ72P",
        "outputId": "9caa18d9-67be-40d8-a10d-37952ab937da"
      },
      "outputs": [
        {
          "output_type": "stream",
          "name": "stdout",
          "text": [
            "<class 'pandas.core.frame.DataFrame'>\n",
            "RangeIndex: 47637 entries, 0 to 47636\n",
            "Data columns (total 23 columns):\n",
            " #   Column               Non-Null Count  Dtype  \n",
            "---  ------               --------------  -----  \n",
            " 0   Property_type        47637 non-null  object \n",
            " 1   Area                 47637 non-null  float64\n",
            " 2   Width                3205 non-null   float64\n",
            " 3   Length               1648 non-null   float64\n",
            " 4   Frontage             8695 non-null   float64\n",
            " 5   Number_of_floors     20686 non-null  float64\n",
            " 6   Number_of_bedrooms   41687 non-null  float64\n",
            " 7   Number_of_toilets    36947 non-null  object \n",
            " 8   Legal_status         47637 non-null  object \n",
            " 9   Furniture            47637 non-null  object \n",
            " 10  House_orientation    11611 non-null  object \n",
            " 11  Balcony_orientation  6539 non-null   object \n",
            " 12  Access_road          8451 non-null   float64\n",
            " 13  Posting_date         47637 non-null  object \n",
            " 14  Expiry_date          26859 non-null  object \n",
            " 15  Type_of_listing      26898 non-null  object \n",
            " 16  Project_name         22423 non-null  object \n",
            " 17  Street               46176 non-null  object \n",
            " 18  Ward                 47637 non-null  object \n",
            " 19  District             47637 non-null  object \n",
            " 20  Province             47637 non-null  object \n",
            " 21  Distance             47637 non-null  float64\n",
            " 22  Price                47637 non-null  float64\n",
            "dtypes: float64(9), object(14)\n",
            "memory usage: 8.4+ MB\n"
          ]
        },
        {
          "output_type": "execute_result",
          "data": {
            "text/plain": [
              "                      count       mean        std       min        25%  \\\n",
              "Area                47637.0  74.756512  28.897334  7.000000  55.000000   \n",
              "Width                3205.0   4.931357   7.158506  2.000000   4.000000   \n",
              "Length               1648.0  15.070631   9.356820  1.000000  11.000000   \n",
              "Frontage             8695.0   5.570094  12.226474  1.000000   4.000000   \n",
              "Number_of_floors    20686.0   3.145702   1.314078  1.000000   2.000000   \n",
              "Number_of_bedrooms  41687.0   3.038117   2.118783  1.000000   2.000000   \n",
              "Access_road          8451.0  10.108733   9.184272  1.050000   5.000000   \n",
              "Distance            47637.0   7.362353   3.917916  0.449674   4.274879   \n",
              "Price               47637.0   7.174582   6.590799  0.010000   2.600000   \n",
              "\n",
              "                          50%        75%         max  \n",
              "Area                70.000000  90.000000  161.000000  \n",
              "Width                4.000000   5.000000  350.000000  \n",
              "Length              14.000000  18.000000  222.500000  \n",
              "Frontage             4.800000   6.000000  980.000000  \n",
              "Number_of_floors     3.000000   4.000000    9.000000  \n",
              "Number_of_bedrooms   2.000000   4.000000   57.000000  \n",
              "Access_road          8.000000  12.000000  322.000000  \n",
              "Distance             6.949138   9.636417   49.613941  \n",
              "Price                4.700000   9.000000   33.000000  "
            ],
            "text/html": [
              "\n",
              "  <div id=\"df-0d0253fa-f1ba-4100-8d98-21ef3721074a\" class=\"colab-df-container\">\n",
              "    <div>\n",
              "<style scoped>\n",
              "    .dataframe tbody tr th:only-of-type {\n",
              "        vertical-align: middle;\n",
              "    }\n",
              "\n",
              "    .dataframe tbody tr th {\n",
              "        vertical-align: top;\n",
              "    }\n",
              "\n",
              "    .dataframe thead th {\n",
              "        text-align: right;\n",
              "    }\n",
              "</style>\n",
              "<table border=\"1\" class=\"dataframe\">\n",
              "  <thead>\n",
              "    <tr style=\"text-align: right;\">\n",
              "      <th></th>\n",
              "      <th>count</th>\n",
              "      <th>mean</th>\n",
              "      <th>std</th>\n",
              "      <th>min</th>\n",
              "      <th>25%</th>\n",
              "      <th>50%</th>\n",
              "      <th>75%</th>\n",
              "      <th>max</th>\n",
              "    </tr>\n",
              "  </thead>\n",
              "  <tbody>\n",
              "    <tr>\n",
              "      <th>Area</th>\n",
              "      <td>47637.0</td>\n",
              "      <td>74.756512</td>\n",
              "      <td>28.897334</td>\n",
              "      <td>7.000000</td>\n",
              "      <td>55.000000</td>\n",
              "      <td>70.000000</td>\n",
              "      <td>90.000000</td>\n",
              "      <td>161.000000</td>\n",
              "    </tr>\n",
              "    <tr>\n",
              "      <th>Width</th>\n",
              "      <td>3205.0</td>\n",
              "      <td>4.931357</td>\n",
              "      <td>7.158506</td>\n",
              "      <td>2.000000</td>\n",
              "      <td>4.000000</td>\n",
              "      <td>4.000000</td>\n",
              "      <td>5.000000</td>\n",
              "      <td>350.000000</td>\n",
              "    </tr>\n",
              "    <tr>\n",
              "      <th>Length</th>\n",
              "      <td>1648.0</td>\n",
              "      <td>15.070631</td>\n",
              "      <td>9.356820</td>\n",
              "      <td>1.000000</td>\n",
              "      <td>11.000000</td>\n",
              "      <td>14.000000</td>\n",
              "      <td>18.000000</td>\n",
              "      <td>222.500000</td>\n",
              "    </tr>\n",
              "    <tr>\n",
              "      <th>Frontage</th>\n",
              "      <td>8695.0</td>\n",
              "      <td>5.570094</td>\n",
              "      <td>12.226474</td>\n",
              "      <td>1.000000</td>\n",
              "      <td>4.000000</td>\n",
              "      <td>4.800000</td>\n",
              "      <td>6.000000</td>\n",
              "      <td>980.000000</td>\n",
              "    </tr>\n",
              "    <tr>\n",
              "      <th>Number_of_floors</th>\n",
              "      <td>20686.0</td>\n",
              "      <td>3.145702</td>\n",
              "      <td>1.314078</td>\n",
              "      <td>1.000000</td>\n",
              "      <td>2.000000</td>\n",
              "      <td>3.000000</td>\n",
              "      <td>4.000000</td>\n",
              "      <td>9.000000</td>\n",
              "    </tr>\n",
              "    <tr>\n",
              "      <th>Number_of_bedrooms</th>\n",
              "      <td>41687.0</td>\n",
              "      <td>3.038117</td>\n",
              "      <td>2.118783</td>\n",
              "      <td>1.000000</td>\n",
              "      <td>2.000000</td>\n",
              "      <td>2.000000</td>\n",
              "      <td>4.000000</td>\n",
              "      <td>57.000000</td>\n",
              "    </tr>\n",
              "    <tr>\n",
              "      <th>Access_road</th>\n",
              "      <td>8451.0</td>\n",
              "      <td>10.108733</td>\n",
              "      <td>9.184272</td>\n",
              "      <td>1.050000</td>\n",
              "      <td>5.000000</td>\n",
              "      <td>8.000000</td>\n",
              "      <td>12.000000</td>\n",
              "      <td>322.000000</td>\n",
              "    </tr>\n",
              "    <tr>\n",
              "      <th>Distance</th>\n",
              "      <td>47637.0</td>\n",
              "      <td>7.362353</td>\n",
              "      <td>3.917916</td>\n",
              "      <td>0.449674</td>\n",
              "      <td>4.274879</td>\n",
              "      <td>6.949138</td>\n",
              "      <td>9.636417</td>\n",
              "      <td>49.613941</td>\n",
              "    </tr>\n",
              "    <tr>\n",
              "      <th>Price</th>\n",
              "      <td>47637.0</td>\n",
              "      <td>7.174582</td>\n",
              "      <td>6.590799</td>\n",
              "      <td>0.010000</td>\n",
              "      <td>2.600000</td>\n",
              "      <td>4.700000</td>\n",
              "      <td>9.000000</td>\n",
              "      <td>33.000000</td>\n",
              "    </tr>\n",
              "  </tbody>\n",
              "</table>\n",
              "</div>\n",
              "    <div class=\"colab-df-buttons\">\n",
              "\n",
              "  <div class=\"colab-df-container\">\n",
              "    <button class=\"colab-df-convert\" onclick=\"convertToInteractive('df-0d0253fa-f1ba-4100-8d98-21ef3721074a')\"\n",
              "            title=\"Convert this dataframe to an interactive table.\"\n",
              "            style=\"display:none;\">\n",
              "\n",
              "  <svg xmlns=\"http://www.w3.org/2000/svg\" height=\"24px\" viewBox=\"0 -960 960 960\">\n",
              "    <path d=\"M120-120v-720h720v720H120Zm60-500h600v-160H180v160Zm220 220h160v-160H400v160Zm0 220h160v-160H400v160ZM180-400h160v-160H180v160Zm440 0h160v-160H620v160ZM180-180h160v-160H180v160Zm440 0h160v-160H620v160Z\"/>\n",
              "  </svg>\n",
              "    </button>\n",
              "\n",
              "  <style>\n",
              "    .colab-df-container {\n",
              "      display:flex;\n",
              "      gap: 12px;\n",
              "    }\n",
              "\n",
              "    .colab-df-convert {\n",
              "      background-color: #E8F0FE;\n",
              "      border: none;\n",
              "      border-radius: 50%;\n",
              "      cursor: pointer;\n",
              "      display: none;\n",
              "      fill: #1967D2;\n",
              "      height: 32px;\n",
              "      padding: 0 0 0 0;\n",
              "      width: 32px;\n",
              "    }\n",
              "\n",
              "    .colab-df-convert:hover {\n",
              "      background-color: #E2EBFA;\n",
              "      box-shadow: 0px 1px 2px rgba(60, 64, 67, 0.3), 0px 1px 3px 1px rgba(60, 64, 67, 0.15);\n",
              "      fill: #174EA6;\n",
              "    }\n",
              "\n",
              "    .colab-df-buttons div {\n",
              "      margin-bottom: 4px;\n",
              "    }\n",
              "\n",
              "    [theme=dark] .colab-df-convert {\n",
              "      background-color: #3B4455;\n",
              "      fill: #D2E3FC;\n",
              "    }\n",
              "\n",
              "    [theme=dark] .colab-df-convert:hover {\n",
              "      background-color: #434B5C;\n",
              "      box-shadow: 0px 1px 3px 1px rgba(0, 0, 0, 0.15);\n",
              "      filter: drop-shadow(0px 1px 2px rgba(0, 0, 0, 0.3));\n",
              "      fill: #FFFFFF;\n",
              "    }\n",
              "  </style>\n",
              "\n",
              "    <script>\n",
              "      const buttonEl =\n",
              "        document.querySelector('#df-0d0253fa-f1ba-4100-8d98-21ef3721074a button.colab-df-convert');\n",
              "      buttonEl.style.display =\n",
              "        google.colab.kernel.accessAllowed ? 'block' : 'none';\n",
              "\n",
              "      async function convertToInteractive(key) {\n",
              "        const element = document.querySelector('#df-0d0253fa-f1ba-4100-8d98-21ef3721074a');\n",
              "        const dataTable =\n",
              "          await google.colab.kernel.invokeFunction('convertToInteractive',\n",
              "                                                    [key], {});\n",
              "        if (!dataTable) return;\n",
              "\n",
              "        const docLinkHtml = 'Like what you see? Visit the ' +\n",
              "          '<a target=\"_blank\" href=https://colab.research.google.com/notebooks/data_table.ipynb>data table notebook</a>'\n",
              "          + ' to learn more about interactive tables.';\n",
              "        element.innerHTML = '';\n",
              "        dataTable['output_type'] = 'display_data';\n",
              "        await google.colab.output.renderOutput(dataTable, element);\n",
              "        const docLink = document.createElement('div');\n",
              "        docLink.innerHTML = docLinkHtml;\n",
              "        element.appendChild(docLink);\n",
              "      }\n",
              "    </script>\n",
              "  </div>\n",
              "\n",
              "\n",
              "<div id=\"df-9aaf95ba-93e9-40df-bbfc-8616176d49a1\">\n",
              "  <button class=\"colab-df-quickchart\" onclick=\"quickchart('df-9aaf95ba-93e9-40df-bbfc-8616176d49a1')\"\n",
              "            title=\"Suggest charts\"\n",
              "            style=\"display:none;\">\n",
              "\n",
              "<svg xmlns=\"http://www.w3.org/2000/svg\" height=\"24px\"viewBox=\"0 0 24 24\"\n",
              "     width=\"24px\">\n",
              "    <g>\n",
              "        <path d=\"M19 3H5c-1.1 0-2 .9-2 2v14c0 1.1.9 2 2 2h14c1.1 0 2-.9 2-2V5c0-1.1-.9-2-2-2zM9 17H7v-7h2v7zm4 0h-2V7h2v10zm4 0h-2v-4h2v4z\"/>\n",
              "    </g>\n",
              "</svg>\n",
              "  </button>\n",
              "\n",
              "<style>\n",
              "  .colab-df-quickchart {\n",
              "      --bg-color: #E8F0FE;\n",
              "      --fill-color: #1967D2;\n",
              "      --hover-bg-color: #E2EBFA;\n",
              "      --hover-fill-color: #174EA6;\n",
              "      --disabled-fill-color: #AAA;\n",
              "      --disabled-bg-color: #DDD;\n",
              "  }\n",
              "\n",
              "  [theme=dark] .colab-df-quickchart {\n",
              "      --bg-color: #3B4455;\n",
              "      --fill-color: #D2E3FC;\n",
              "      --hover-bg-color: #434B5C;\n",
              "      --hover-fill-color: #FFFFFF;\n",
              "      --disabled-bg-color: #3B4455;\n",
              "      --disabled-fill-color: #666;\n",
              "  }\n",
              "\n",
              "  .colab-df-quickchart {\n",
              "    background-color: var(--bg-color);\n",
              "    border: none;\n",
              "    border-radius: 50%;\n",
              "    cursor: pointer;\n",
              "    display: none;\n",
              "    fill: var(--fill-color);\n",
              "    height: 32px;\n",
              "    padding: 0;\n",
              "    width: 32px;\n",
              "  }\n",
              "\n",
              "  .colab-df-quickchart:hover {\n",
              "    background-color: var(--hover-bg-color);\n",
              "    box-shadow: 0 1px 2px rgba(60, 64, 67, 0.3), 0 1px 3px 1px rgba(60, 64, 67, 0.15);\n",
              "    fill: var(--button-hover-fill-color);\n",
              "  }\n",
              "\n",
              "  .colab-df-quickchart-complete:disabled,\n",
              "  .colab-df-quickchart-complete:disabled:hover {\n",
              "    background-color: var(--disabled-bg-color);\n",
              "    fill: var(--disabled-fill-color);\n",
              "    box-shadow: none;\n",
              "  }\n",
              "\n",
              "  .colab-df-spinner {\n",
              "    border: 2px solid var(--fill-color);\n",
              "    border-color: transparent;\n",
              "    border-bottom-color: var(--fill-color);\n",
              "    animation:\n",
              "      spin 1s steps(1) infinite;\n",
              "  }\n",
              "\n",
              "  @keyframes spin {\n",
              "    0% {\n",
              "      border-color: transparent;\n",
              "      border-bottom-color: var(--fill-color);\n",
              "      border-left-color: var(--fill-color);\n",
              "    }\n",
              "    20% {\n",
              "      border-color: transparent;\n",
              "      border-left-color: var(--fill-color);\n",
              "      border-top-color: var(--fill-color);\n",
              "    }\n",
              "    30% {\n",
              "      border-color: transparent;\n",
              "      border-left-color: var(--fill-color);\n",
              "      border-top-color: var(--fill-color);\n",
              "      border-right-color: var(--fill-color);\n",
              "    }\n",
              "    40% {\n",
              "      border-color: transparent;\n",
              "      border-right-color: var(--fill-color);\n",
              "      border-top-color: var(--fill-color);\n",
              "    }\n",
              "    60% {\n",
              "      border-color: transparent;\n",
              "      border-right-color: var(--fill-color);\n",
              "    }\n",
              "    80% {\n",
              "      border-color: transparent;\n",
              "      border-right-color: var(--fill-color);\n",
              "      border-bottom-color: var(--fill-color);\n",
              "    }\n",
              "    90% {\n",
              "      border-color: transparent;\n",
              "      border-bottom-color: var(--fill-color);\n",
              "    }\n",
              "  }\n",
              "</style>\n",
              "\n",
              "  <script>\n",
              "    async function quickchart(key) {\n",
              "      const quickchartButtonEl =\n",
              "        document.querySelector('#' + key + ' button');\n",
              "      quickchartButtonEl.disabled = true;  // To prevent multiple clicks.\n",
              "      quickchartButtonEl.classList.add('colab-df-spinner');\n",
              "      try {\n",
              "        const charts = await google.colab.kernel.invokeFunction(\n",
              "            'suggestCharts', [key], {});\n",
              "      } catch (error) {\n",
              "        console.error('Error during call to suggestCharts:', error);\n",
              "      }\n",
              "      quickchartButtonEl.classList.remove('colab-df-spinner');\n",
              "      quickchartButtonEl.classList.add('colab-df-quickchart-complete');\n",
              "    }\n",
              "    (() => {\n",
              "      let quickchartButtonEl =\n",
              "        document.querySelector('#df-9aaf95ba-93e9-40df-bbfc-8616176d49a1 button');\n",
              "      quickchartButtonEl.style.display =\n",
              "        google.colab.kernel.accessAllowed ? 'block' : 'none';\n",
              "    })();\n",
              "  </script>\n",
              "</div>\n",
              "\n",
              "    </div>\n",
              "  </div>\n"
            ],
            "application/vnd.google.colaboratory.intrinsic+json": {
              "type": "dataframe",
              "summary": "{\n  \"name\": \"Data\",\n  \"rows\": 9,\n  \"fields\": [\n    {\n      \"column\": \"count\",\n      \"properties\": {\n        \"dtype\": \"number\",\n        \"std\": 20596.872050143924,\n        \"min\": 1648.0,\n        \"max\": 47637.0,\n        \"num_unique_values\": 7,\n        \"samples\": [\n          47637.0,\n          3205.0,\n          41687.0\n        ],\n        \"semantic_type\": \"\",\n        \"description\": \"\"\n      }\n    },\n    {\n      \"column\": \"mean\",\n      \"properties\": {\n        \"dtype\": \"number\",\n        \"std\": 22.876332506746582,\n        \"min\": 3.0381173987094297,\n        \"max\": 74.75651222789008,\n        \"num_unique_values\": 9,\n        \"samples\": [\n          7.362353481485905,\n          4.931356942277691,\n          3.0381173987094297\n        ],\n        \"semantic_type\": \"\",\n        \"description\": \"\"\n      }\n    },\n    {\n      \"column\": \"std\",\n      \"properties\": {\n        \"dtype\": \"number\",\n        \"std\": 8.275843431165523,\n        \"min\": 1.314077530274619,\n        \"max\": 28.89733441593569,\n        \"num_unique_values\": 9,\n        \"samples\": [\n          3.917916247171852,\n          7.158505887940394,\n          2.118782515461515\n        ],\n        \"semantic_type\": \"\",\n        \"description\": \"\"\n      }\n    },\n    {\n      \"column\": \"min\",\n      \"properties\": {\n        \"dtype\": \"number\",\n        \"std\": 2.0890342822901027,\n        \"min\": 0.01,\n        \"max\": 7.0,\n        \"num_unique_values\": 6,\n        \"samples\": [\n          7.0,\n          2.0,\n          0.01\n        ],\n        \"semantic_type\": \"\",\n        \"description\": \"\"\n      }\n    },\n    {\n      \"column\": \"25%\",\n      \"properties\": {\n        \"dtype\": \"number\",\n        \"std\": 17.09727782032222,\n        \"min\": 2.0,\n        \"max\": 55.0,\n        \"num_unique_values\": 7,\n        \"samples\": [\n          55.0,\n          4.0,\n          4.274879006\n        ],\n        \"semantic_type\": \"\",\n        \"description\": \"\"\n      }\n    },\n    {\n      \"column\": \"50%\",\n      \"properties\": {\n        \"dtype\": \"number\",\n        \"std\": 21.6498282858065,\n        \"min\": 2.0,\n        \"max\": 70.0,\n        \"num_unique_values\": 9,\n        \"samples\": [\n          6.949137887,\n          4.0,\n          2.0\n        ],\n        \"semantic_type\": \"\",\n        \"description\": \"\"\n      }\n    },\n    {\n      \"column\": \"75%\",\n      \"properties\": {\n        \"dtype\": \"number\",\n        \"std\": 27.554114628544173,\n        \"min\": 4.0,\n        \"max\": 90.0,\n        \"num_unique_values\": 8,\n        \"samples\": [\n          5.0,\n          12.0,\n          90.0\n        ],\n        \"semantic_type\": \"\",\n        \"description\": \"\"\n      }\n    },\n    {\n      \"column\": \"max\",\n      \"properties\": {\n        \"dtype\": \"number\",\n        \"std\": 303.90222366490076,\n        \"min\": 9.0,\n        \"max\": 980.0,\n        \"num_unique_values\": 9,\n        \"samples\": [\n          49.61394086,\n          350.0,\n          57.0\n        ],\n        \"semantic_type\": \"\",\n        \"description\": \"\"\n      }\n    }\n  ]\n}"
            }
          },
          "metadata": {},
          "execution_count": 5
        }
      ],
      "source": [
        "#get some information about our DataSet\n",
        "Data.info()\n",
        "Data.describe().transpose()"
      ]
    },
    {
      "cell_type": "code",
      "execution_count": null,
      "metadata": {
        "id": "6WAohgdDJ72P"
      },
      "outputs": [],
      "source": [
        "#let's drop unnecessory featurs\n",
        "#Data = Data.drop('id',axis=1)\n",
        "#Data = Data.drop('zipcode',axis=1)"
      ]
    },
    {
      "cell_type": "code",
      "execution_count": null,
      "metadata": {
        "colab": {
          "base_uri": "https://localhost:8080/"
        },
        "id": "dW76p0HJJ72Q",
        "outputId": "0826487a-6f59-40bf-bfae-6eeb4a67f8cd"
      },
      "outputs": [
        {
          "output_type": "execute_result",
          "data": {
            "text/plain": [
              "Property_type              0\n",
              "Area                       0\n",
              "Width                  44432\n",
              "Length                 45989\n",
              "Frontage               38942\n",
              "Number_of_floors       26951\n",
              "Number_of_bedrooms      5950\n",
              "Number_of_toilets      10690\n",
              "Legal_status               0\n",
              "Furniture                  0\n",
              "House_orientation      36026\n",
              "Balcony_orientation    41098\n",
              "Access_road            39186\n",
              "Posting_date               0\n",
              "Expiry_date            20778\n",
              "Type_of_listing        20739\n",
              "Project_name           25214\n",
              "Street                  1461\n",
              "Ward                       0\n",
              "District                   0\n",
              "Province                   0\n",
              "Distance                   0\n",
              "Price                      0\n",
              "dtype: int64"
            ]
          },
          "metadata": {},
          "execution_count": 7
        }
      ],
      "source": [
        "# check if there are any Null values\n",
        "Data.isnull().sum()"
      ]
    },
    {
      "cell_type": "code",
      "execution_count": null,
      "metadata": {
        "colab": {
          "base_uri": "https://localhost:8080/",
          "height": 898
        },
        "id": "r_SyTcIMJ72Q",
        "outputId": "4f78be11-6895-4f45-adfe-ec10fe5b9571"
      },
      "outputs": [
        {
          "output_type": "stream",
          "name": "stderr",
          "text": [
            "<ipython-input-8-acb382aa1f3f>:4: UserWarning: \n",
            "\n",
            "`distplot` is a deprecated function and will be removed in seaborn v0.14.0.\n",
            "\n",
            "Please adapt your code to use either `displot` (a figure-level function with\n",
            "similar flexibility) or `histplot` (an axes-level function for histograms).\n",
            "\n",
            "For a guide to updating your code to use the new functions, please see\n",
            "https://gist.github.com/mwaskom/de44147ed2974457ad6372750bbe5751\n",
            "\n",
            "  sns.distplot(Data['Price'])\n"
          ]
        },
        {
          "output_type": "display_data",
          "data": {
            "text/plain": [
              "<Figure size 1000x700 with 2 Axes>"
            ],
            "image/png": "[encoded data removed]"
          },
          "metadata": {}
        }
      ],
      "source": [
        "#visualizing house prices\n",
        "fig = plt.figure(figsize=(10,7))\n",
        "fig.add_subplot(2,1,1)\n",
        "sns.distplot(Data['Price'])\n",
        "fig.add_subplot(2,1,2)\n",
        "sns.boxplot(Data['Price'])\n",
        "plt.tight_layout()"
      ]
    },
    {
      "cell_type": "code",
      "source": [
        "Data = Data.drop(labels=['Frontage','Street', 'Ward', 'Province', 'Width', 'Length', 'House_orientation', 'Balcony_orientation', 'Access_road', 'Posting_date', 'Expiry_date', 'Type_of_listing'], axis=1)"
      ],
      "metadata": {
        "id": "qvZUZj7fX11l"
      },
      "execution_count": null,
      "outputs": []
    },
    {
      "cell_type": "code",
      "source": [
        "Data.loc[Data[\"Property_type\"] == \"Chung cư\", \"Number_of_floors\"] = 1\n",
        "Data.loc[pd.isnull(Data[\"Project_name\"]), \"Project_name\"] = \"Other\""
      ],
      "metadata": {
        "id": "XowNI4W0YhPY"
      },
      "execution_count": null,
      "outputs": []
    },
    {
      "cell_type": "code",
      "source": [
        "Data.isnull().sum()"
      ],
      "metadata": {
        "colab": {
          "base_uri": "https://localhost:8080/"
        },
        "id": "f5RpMQCJZOrW",
        "outputId": "cb4a302f-e2bc-4e83-a9ac-0373c88f7022"
      },
      "execution_count": null,
      "outputs": [
        {
          "output_type": "execute_result",
          "data": {
            "text/plain": [
              "Property_type             0\n",
              "Area                      0\n",
              "Frontage              38942\n",
              "Number_of_floors       7146\n",
              "Number_of_bedrooms     5950\n",
              "Number_of_toilets     10690\n",
              "Legal_status              0\n",
              "Furniture                 0\n",
              "Project_name              0\n",
              "Street                 1461\n",
              "Ward                      0\n",
              "District                  0\n",
              "Province                  0\n",
              "Distance                  0\n",
              "Price                     0\n",
              "dtype: int64"
            ]
          },
          "metadata": {},
          "execution_count": 20
        }
      ]
    },
    {
      "cell_type": "code",
      "execution_count": null,
      "metadata": {
        "id": "9VOL7PWXJ72Q",
        "colab": {
          "base_uri": "https://localhost:8080/",
          "height": 858
        },
        "outputId": "c8e3efd8-1e0c-43df-d7a9-03487df2c9d6"
      },
      "outputs": [
        {
          "output_type": "error",
          "ename": "KeyError",
          "evalue": "'bedrooms'",
          "traceback": [
            "\u001b[0;31m---------------------------------------------------------------------------\u001b[0m",
            "\u001b[0;31mKeyError\u001b[0m                                  Traceback (most recent call last)",
            "\u001b[0;32m/usr/local/lib/python3.10/dist-packages/pandas/core/indexes/base.py\u001b[0m in \u001b[0;36mget_loc\u001b[0;34m(self, key)\u001b[0m\n\u001b[1;32m   3652\u001b[0m         \u001b[0;32mtry\u001b[0m\u001b[0;34m:\u001b[0m\u001b[0;34m\u001b[0m\u001b[0;34m\u001b[0m\u001b[0m\n\u001b[0;32m-> 3653\u001b[0;31m             \u001b[0;32mreturn\u001b[0m \u001b[0mself\u001b[0m\u001b[0;34m.\u001b[0m\u001b[0m_engine\u001b[0m\u001b[0;34m.\u001b[0m\u001b[0mget_loc\u001b[0m\u001b[0;34m(\u001b[0m\u001b[0mcasted_key\u001b[0m\u001b[0;34m)\u001b[0m\u001b[0;34m\u001b[0m\u001b[0;34m\u001b[0m\u001b[0m\n\u001b[0m\u001b[1;32m   3654\u001b[0m         \u001b[0;32mexcept\u001b[0m \u001b[0mKeyError\u001b[0m \u001b[0;32mas\u001b[0m \u001b[0merr\u001b[0m\u001b[0;34m:\u001b[0m\u001b[0;34m\u001b[0m\u001b[0;34m\u001b[0m\u001b[0m\n",
            "\u001b[0;32m/usr/local/lib/python3.10/dist-packages/pandas/_libs/index.pyx\u001b[0m in \u001b[0;36mpandas._libs.index.IndexEngine.get_loc\u001b[0;34m()\u001b[0m\n",
            "\u001b[0;32m/usr/local/lib/python3.10/dist-packages/pandas/_libs/index.pyx\u001b[0m in \u001b[0;36mpandas._libs.index.IndexEngine.get_loc\u001b[0;34m()\u001b[0m\n",
            "\u001b[0;32mpandas/_libs/hashtable_class_helper.pxi\u001b[0m in \u001b[0;36mpandas._libs.hashtable.PyObjectHashTable.get_item\u001b[0;34m()\u001b[0m\n",
            "\u001b[0;32mpandas/_libs/hashtable_class_helper.pxi\u001b[0m in \u001b[0;36mpandas._libs.hashtable.PyObjectHashTable.get_item\u001b[0;34m()\u001b[0m\n",
            "\u001b[0;31mKeyError\u001b[0m: 'bedrooms'",
            "\nThe above exception was the direct cause of the following exception:\n",
            "\u001b[0;31mKeyError\u001b[0m                                  Traceback (most recent call last)",
            "\u001b[0;32m<ipython-input-9-86ad8aba2b14>\u001b[0m in \u001b[0;36m<cell line: 4>\u001b[0;34m()\u001b[0m\n\u001b[1;32m      2\u001b[0m \u001b[0mfig\u001b[0m \u001b[0;34m=\u001b[0m \u001b[0mplt\u001b[0m\u001b[0;34m.\u001b[0m\u001b[0mfigure\u001b[0m\u001b[0;34m(\u001b[0m\u001b[0mfigsize\u001b[0m\u001b[0;34m=\u001b[0m\u001b[0;34m(\u001b[0m\u001b[0;36m15\u001b[0m\u001b[0;34m,\u001b[0m\u001b[0;36m7\u001b[0m\u001b[0;34m)\u001b[0m\u001b[0;34m,\u001b[0m\u001b[0mconstrained_layout\u001b[0m\u001b[0;34m=\u001b[0m\u001b[0;32mTrue\u001b[0m\u001b[0;34m)\u001b[0m\u001b[0;34m\u001b[0m\u001b[0;34m\u001b[0m\u001b[0m\n\u001b[1;32m      3\u001b[0m \u001b[0mfig\u001b[0m\u001b[0;34m.\u001b[0m\u001b[0madd_subplot\u001b[0m\u001b[0;34m(\u001b[0m\u001b[0;36m2\u001b[0m\u001b[0;34m,\u001b[0m\u001b[0;36m2\u001b[0m\u001b[0;34m,\u001b[0m\u001b[0;36m1\u001b[0m\u001b[0;34m)\u001b[0m\u001b[0;34m\u001b[0m\u001b[0;34m\u001b[0m\u001b[0m\n\u001b[0;32m----> 4\u001b[0;31m \u001b[0msns\u001b[0m\u001b[0;34m.\u001b[0m\u001b[0mcountplot\u001b[0m\u001b[0;34m(\u001b[0m\u001b[0mData\u001b[0m\u001b[0;34m[\u001b[0m\u001b[0;34m'bedrooms'\u001b[0m\u001b[0;34m]\u001b[0m\u001b[0;34m,\u001b[0m \u001b[0mpalette\u001b[0m \u001b[0;34m=\u001b[0m \u001b[0;34m'Greens_d'\u001b[0m\u001b[0;34m)\u001b[0m\u001b[0;34m\u001b[0m\u001b[0;34m\u001b[0m\u001b[0m\n\u001b[0m\u001b[1;32m      5\u001b[0m \u001b[0mfig\u001b[0m\u001b[0;34m.\u001b[0m\u001b[0madd_subplot\u001b[0m\u001b[0;34m(\u001b[0m\u001b[0;36m2\u001b[0m\u001b[0;34m,\u001b[0m\u001b[0;36m2\u001b[0m\u001b[0;34m,\u001b[0m\u001b[0;36m2\u001b[0m\u001b[0;34m)\u001b[0m\u001b[0;34m\u001b[0m\u001b[0;34m\u001b[0m\u001b[0m\n\u001b[1;32m      6\u001b[0m \u001b[0msns\u001b[0m\u001b[0;34m.\u001b[0m\u001b[0mcountplot\u001b[0m\u001b[0;34m(\u001b[0m\u001b[0mData\u001b[0m\u001b[0;34m[\u001b[0m\u001b[0;34m'floors'\u001b[0m\u001b[0;34m]\u001b[0m\u001b[0;34m)\u001b[0m\u001b[0;34m\u001b[0m\u001b[0;34m\u001b[0m\u001b[0m\n",
            "\u001b[0;32m/usr/local/lib/python3.10/dist-packages/pandas/core/frame.py\u001b[0m in \u001b[0;36m__getitem__\u001b[0;34m(self, key)\u001b[0m\n\u001b[1;32m   3759\u001b[0m             \u001b[0;32mif\u001b[0m \u001b[0mself\u001b[0m\u001b[0;34m.\u001b[0m\u001b[0mcolumns\u001b[0m\u001b[0;34m.\u001b[0m\u001b[0mnlevels\u001b[0m \u001b[0;34m>\u001b[0m \u001b[0;36m1\u001b[0m\u001b[0;34m:\u001b[0m\u001b[0;34m\u001b[0m\u001b[0;34m\u001b[0m\u001b[0m\n\u001b[1;32m   3760\u001b[0m                 \u001b[0;32mreturn\u001b[0m \u001b[0mself\u001b[0m\u001b[0;34m.\u001b[0m\u001b[0m_getitem_multilevel\u001b[0m\u001b[0;34m(\u001b[0m\u001b[0mkey\u001b[0m\u001b[0;34m)\u001b[0m\u001b[0;34m\u001b[0m\u001b[0;34m\u001b[0m\u001b[0m\n\u001b[0;32m-> 3761\u001b[0;31m             \u001b[0mindexer\u001b[0m \u001b[0;34m=\u001b[0m \u001b[0mself\u001b[0m\u001b[0;34m.\u001b[0m\u001b[0mcolumns\u001b[0m\u001b[0;34m.\u001b[0m\u001b[0mget_loc\u001b[0m\u001b[0;34m(\u001b[0m\u001b[0mkey\u001b[0m\u001b[0;34m)\u001b[0m\u001b[0;34m\u001b[0m\u001b[0;34m\u001b[0m\u001b[0m\n\u001b[0m\u001b[1;32m   3762\u001b[0m             \u001b[0;32mif\u001b[0m \u001b[0mis_integer\u001b[0m\u001b[0;34m(\u001b[0m\u001b[0mindexer\u001b[0m\u001b[0;34m)\u001b[0m\u001b[0;34m:\u001b[0m\u001b[0;34m\u001b[0m\u001b[0;34m\u001b[0m\u001b[0m\n\u001b[1;32m   3763\u001b[0m                 \u001b[0mindexer\u001b[0m \u001b[0;34m=\u001b[0m \u001b[0;34m[\u001b[0m\u001b[0mindexer\u001b[0m\u001b[0;34m]\u001b[0m\u001b[0;34m\u001b[0m\u001b[0;34m\u001b[0m\u001b[0m\n",
            "\u001b[0;32m/usr/local/lib/python3.10/dist-packages/pandas/core/indexes/base.py\u001b[0m in \u001b[0;36mget_loc\u001b[0;34m(self, key)\u001b[0m\n\u001b[1;32m   3653\u001b[0m             \u001b[0;32mreturn\u001b[0m \u001b[0mself\u001b[0m\u001b[0;34m.\u001b[0m\u001b[0m_engine\u001b[0m\u001b[0;34m.\u001b[0m\u001b[0mget_loc\u001b[0m\u001b[0;34m(\u001b[0m\u001b[0mcasted_key\u001b[0m\u001b[0;34m)\u001b[0m\u001b[0;34m\u001b[0m\u001b[0;34m\u001b[0m\u001b[0m\n\u001b[1;32m   3654\u001b[0m         \u001b[0;32mexcept\u001b[0m \u001b[0mKeyError\u001b[0m \u001b[0;32mas\u001b[0m \u001b[0merr\u001b[0m\u001b[0;34m:\u001b[0m\u001b[0;34m\u001b[0m\u001b[0;34m\u001b[0m\u001b[0m\n\u001b[0;32m-> 3655\u001b[0;31m             \u001b[0;32mraise\u001b[0m \u001b[0mKeyError\u001b[0m\u001b[0;34m(\u001b[0m\u001b[0mkey\u001b[0m\u001b[0;34m)\u001b[0m \u001b[0;32mfrom\u001b[0m \u001b[0merr\u001b[0m\u001b[0;34m\u001b[0m\u001b[0;34m\u001b[0m\u001b[0m\n\u001b[0m\u001b[1;32m   3656\u001b[0m         \u001b[0;32mexcept\u001b[0m \u001b[0mTypeError\u001b[0m\u001b[0;34m:\u001b[0m\u001b[0;34m\u001b[0m\u001b[0;34m\u001b[0m\u001b[0m\n\u001b[1;32m   3657\u001b[0m             \u001b[0;31m# If we have a listlike key, _check_indexing_error will raise\u001b[0m\u001b[0;34m\u001b[0m\u001b[0;34m\u001b[0m\u001b[0m\n",
            "\u001b[0;31mKeyError\u001b[0m: 'bedrooms'"
          ]
        },
        {
          "output_type": "display_data",
          "data": {
            "text/plain": [
              "<Figure size 1500x700 with 1 Axes>"
            ],
            "image/png": "[encoded data removed]"
          },
          "metadata": {}
        }
      ],
      "source": [
        "#visualizing bedrooms, bathrooms, floors,grades\n",
        "fig = plt.figure(figsize=(15,7),constrained_layout=True)\n",
        "fig.add_subplot(2,2,1)\n",
        "sns.countplot(Data['bedrooms'], palette = 'Greens_d')\n",
        "fig.add_subplot(2,2,2)\n",
        "sns.countplot(Data['floors'])\n",
        "fig.add_subplot(2,2,3)\n",
        "sns.countplot(Data['bathrooms'])\n",
        "fig.add_subplot(2,2,4)\n",
        "sns.countplot(Data['grade'])\n",
        "plt.tight_layout()\n"
      ]
    },
    {
      "cell_type": "code",
      "execution_count": null,
      "metadata": {
        "id": "n8uchJX3J72R"
      },
      "outputs": [],
      "source": [
        "#visualizing square footage of (home,lot,above and basement)\n",
        "fig = plt.figure(figsize=(16,5))\n",
        "fig.add_subplot(2,2,1)\n",
        "sns.scatterplot(Data['sqft_above'], Data['price'])\n",
        "fig.add_subplot(2,2,2)\n",
        "sns.scatterplot(Data['sqft_lot'],Data['price'])\n",
        "fig.add_subplot(2,2,3)\n",
        "sns.scatterplot(Data['sqft_living'],Data['price'])\n",
        "fig.add_subplot(2,2,4)\n",
        "sns.scatterplot(Data['sqft_basement'],Data['price'])"
      ]
    },
    {
      "cell_type": "code",
      "execution_count": null,
      "metadata": {
        "id": "csC19BJRJ72R"
      },
      "outputs": [],
      "source": [
        "# check correlation\n",
        "Data.corr()['price'].sort_values(ascending=False)"
      ]
    },
    {
      "cell_type": "code",
      "execution_count": null,
      "metadata": {
        "id": "bqfk9GeQJ72T"
      },
      "outputs": [],
      "source": [
        "# feature with higher correlation\n",
        "plt.figure(figsize=(12,8))\n",
        "sns.scatterplot(x='price',y='sqft_living',data=Data)"
      ]
    },
    {
      "cell_type": "code",
      "execution_count": null,
      "metadata": {
        "id": "I7B4GzrEJ72U"
      },
      "outputs": [],
      "source": [
        "# feature like number of bedroom or bathroom\n",
        "plt.figure(figsize = (10,8))\n",
        "sns.boxplot(x = 'bedrooms',y = 'price', data = Data)"
      ]
    },
    {
      "cell_type": "code",
      "execution_count": null,
      "metadata": {
        "id": "SBtargwaJ72U"
      },
      "outputs": [],
      "source": [
        "plt.figure(figsize=(15,10))\n",
        "sns.scatterplot(x='long',y='lat',data=Data,hue='price')"
      ]
    },
    {
      "cell_type": "code",
      "execution_count": null,
      "metadata": {
        "id": "zne7rQjbJ72U"
      },
      "outputs": [],
      "source": [
        "#let's clean it the map a bit - we are taking 99% bottom price houses\n",
        "non_top_1_perc = Data.sort_values('price',ascending = False).iloc[216:]\n"
      ]
    },
    {
      "cell_type": "code",
      "execution_count": null,
      "metadata": {
        "id": "jomSw1tGJ72U"
      },
      "outputs": [],
      "source": [
        "len(Data)*0.01"
      ]
    },
    {
      "cell_type": "code",
      "execution_count": null,
      "metadata": {
        "id": "NCxe37yDJ72U"
      },
      "outputs": [],
      "source": [
        "# let's try this one again\n",
        "plt.figure(figsize=(15,10))\n",
        "sns.scatterplot(x='long',y='lat',data=non_top_1_perc,alpha = 0.8,palette = 'RdYlGn', hue='price')\n"
      ]
    },
    {
      "cell_type": "code",
      "execution_count": null,
      "metadata": {
        "id": "1q0xUzrfJ72V"
      },
      "outputs": [],
      "source": [
        "#visualizing data\n",
        "#sns.pairplot(Data['bedrooms bathrooms sqft_living floors waterfront price'.split()])"
      ]
    },
    {
      "cell_type": "code",
      "execution_count": null,
      "metadata": {
        "id": "Ws6W2v2EJ72V"
      },
      "outputs": [],
      "source": [
        "#let's break date to years, months\n",
        "Data['date'] = pd.to_datetime(Data['date'])\n",
        "Data['month'] = Data['date'].apply(lambda date:date.month)\n",
        "Data['year'] = Data['date'].apply(lambda date:date.year)\n",
        "Data.head(5)"
      ]
    },
    {
      "cell_type": "code",
      "execution_count": null,
      "metadata": {
        "id": "ja8kbkuSJ72V"
      },
      "outputs": [],
      "source": [
        "# data visualization house price vs months and years\n",
        "fig = plt.figure(figsize=(16,5))\n",
        "fig.add_subplot(1,2,1)\n",
        "Data.groupby('month').mean()['price'].plot()\n",
        "fig.add_subplot(1,2,2)\n",
        "Data.groupby('year').mean()['price'].plot()"
      ]
    },
    {
      "cell_type": "code",
      "execution_count": null,
      "metadata": {
        "id": "LwEGyxHoJ72V"
      },
      "outputs": [],
      "source": [
        "Data = Data.drop('date',axis=1)"
      ]
    },
    {
      "cell_type": "markdown",
      "metadata": {
        "id": "gwtvoWMIJ72V"
      },
      "source": [
        "# Scaling and Train Test Split\n"
      ]
    },
    {
      "cell_type": "code",
      "execution_count": null,
      "metadata": {
        "id": "GMSWlIzyJ72V"
      },
      "outputs": [],
      "source": [
        "X = Data.drop('Price',axis =1).values\n",
        "y = Data['Price'].values\n",
        "\n",
        "#splitting Train and Test\n",
        "from sklearn.model_selection import train_test_split\n",
        "X_train, X_test, y_train, y_test = train_test_split(X, y, test_size=0.33, random_state=101)"
      ]
    },
    {
      "cell_type": "markdown",
      "metadata": {
        "id": "UGewduhgJ72V"
      },
      "source": [
        "# Feature Scalling"
      ]
    },
    {
      "cell_type": "code",
      "execution_count": null,
      "metadata": {
        "id": "U_cckAwgJ72W"
      },
      "outputs": [],
      "source": [
        "#standardization scaler - fit&transform on train, fit only on test\n",
        "from sklearn.preprocessing import StandardScaler\n",
        "s_scaler = StandardScaler()\n",
        "X_train = s_scaler.fit_transform(X_train.astype(np.float))\n",
        "X_test = s_scaler.transform(X_test.astype(np.float))"
      ]
    },
    {
      "cell_type": "markdown",
      "metadata": {
        "id": "HyUwy3ITJ72W"
      },
      "source": [
        "# Method1: Multiple Linear Regression"
      ]
    },
    {
      "cell_type": "code",
      "execution_count": null,
      "metadata": {
        "id": "BzJW94-KJ72W"
      },
      "outputs": [],
      "source": [
        "#Liner Regression\n",
        "from sklearn.linear_model import LinearRegression\n",
        "regressor = LinearRegression()\n",
        "regressor.fit(X_train, y_train)\n",
        "\n",
        "#evaluate the model (intercept and slope)\n",
        "regressor.intercept_\n",
        "regressor.coef_"
      ]
    },
    {
      "cell_type": "code",
      "execution_count": null,
      "metadata": {
        "id": "6u4BKDgdJ72W"
      },
      "outputs": [],
      "source": [
        "#coeff_df = pd.DataFrame(regressor.coef_, Data.drop('price',axis =1).columns, columns=['Coefficient'])\n",
        "#coeff_df"
      ]
    },
    {
      "cell_type": "code",
      "execution_count": null,
      "metadata": {
        "id": "q_n930IhJ72W"
      },
      "outputs": [],
      "source": [
        "y_predd = regressor.predict(X_test)\n",
        "df = pd.DataFrame({'Actual': y_test, 'Predicted': y_predd})\n",
        "df1 = df.head(10)\n",
        "df1"
      ]
    },
    {
      "cell_type": "code",
      "execution_count": null,
      "metadata": {
        "id": "D12QQw-hJ72X"
      },
      "outputs": [],
      "source": [
        "fig = plt.figure(figsize=(10,5))\n",
        "residuals = (y_test- y_pred)\n",
        "sns.distplot(residuals)"
      ]
    },
    {
      "cell_type": "code",
      "execution_count": null,
      "metadata": {
        "id": "ZmptDpxQJ72X"
      },
      "outputs": [],
      "source": [
        "from sklearn import metrics\n",
        "\n",
        "print('Mean Absolute Error: {:.2f}'.format(metrics.mean_absolute_error(y_test, y_predd)))\n",
        "print('Mean Squared Error:{:.2f}'.format(metrics.mean_squared_error(y_test, y_predd)))\n",
        "print('Root Mean Squared Error:{:.2f}'.format(np.sqrt(metrics.mean_squared_error(y_test, y_predd))))\n",
        "print('Variance score is: {:.2f}'.format(metrics.explained_variance_score(y_test,y_predd)))"
      ]
    },
    {
      "cell_type": "code",
      "execution_count": null,
      "metadata": {
        "id": "3gbhyldMJ72X"
      },
      "outputs": [],
      "source": [
        "# we are off about 20% (comparing mean absolut error and mean of price)\n",
        "Data['price'].mean()"
      ]
    },
    {
      "cell_type": "code",
      "execution_count": null,
      "metadata": {
        "id": "nNX4jmwyJ72Y"
      },
      "outputs": [],
      "source": [
        "print('Linear Regression Model:')\n",
        "print(\"Train Score {:.2f}\".format(regressor.score(X_train,y_train)))\n",
        "print(\"Test Score {:.2f}\".format(regressor.score(X_test, y_test)))"
      ]
    },
    {
      "cell_type": "markdown",
      "metadata": {
        "id": "otRbX509J72Y"
      },
      "source": [
        "# Method2: Keras Regression"
      ]
    },
    {
      "cell_type": "code",
      "execution_count": null,
      "metadata": {
        "id": "Dnl4Yk1UJ72Y"
      },
      "outputs": [],
      "source": [
        "# Creating a Neural Network Model\n",
        "from tensorflow.keras.models import Sequential\n",
        "from tensorflow.keras.layers import Dense, Activation\n",
        "from tensorflow.keras.optimizers import Adam"
      ]
    },
    {
      "cell_type": "code",
      "execution_count": null,
      "metadata": {
        "id": "8x8YJx17J72Y"
      },
      "outputs": [],
      "source": [
        "# having 19 nueron is based on the number of available featurs\n",
        "\n",
        "model = Sequential()\n",
        "\n",
        "model.add(Dense(19,activation='relu'))\n",
        "model.add(Dense(19,activation='relu'))\n",
        "model.add(Dense(19,activation='relu'))\n",
        "model.add(Dense(19,activation='relu'))\n",
        "model.add(Dense(1))\n",
        "\n",
        "model.compile(optimizer='adam',loss='mse')"
      ]
    },
    {
      "cell_type": "markdown",
      "metadata": {
        "id": "KQsncvi2J72l"
      },
      "source": [
        "# Training the Model"
      ]
    },
    {
      "cell_type": "code",
      "execution_count": null,
      "metadata": {
        "id": "88hrA_MAJ72l"
      },
      "outputs": [],
      "source": [
        "model.fit(x=X_train,y=y_train,\n",
        "          validation_data=(X_test,y_test),\n",
        "          batch_size=128,epochs=400)"
      ]
    },
    {
      "cell_type": "code",
      "execution_count": null,
      "metadata": {
        "id": "Qm94aEw6J72m"
      },
      "outputs": [],
      "source": [
        "model.summary()"
      ]
    },
    {
      "cell_type": "code",
      "execution_count": null,
      "metadata": {
        "id": "fqcWrQQ7J72m"
      },
      "outputs": [],
      "source": [
        "loss_df = pd.DataFrame(model.history.history)\n",
        "loss_df.plot(figsize=(12,8))\n"
      ]
    },
    {
      "cell_type": "markdown",
      "metadata": {
        "id": "eOUsr4eFJ72m"
      },
      "source": [
        "# Evaluation on Test Data"
      ]
    },
    {
      "cell_type": "code",
      "execution_count": null,
      "metadata": {
        "id": "XNS2T4DpJ72m"
      },
      "outputs": [],
      "source": [
        "y_pred = model.predict(X_test)"
      ]
    },
    {
      "cell_type": "code",
      "execution_count": null,
      "metadata": {
        "id": "H5IVP0f_J72n"
      },
      "outputs": [],
      "source": [
        "# evaluation metrics\n",
        "# explained variance score: best possible score is 1 and lower values are worse\n",
        "from sklearn import metrics\n",
        "\n",
        "print('Mean Absolute Error: {:.2f}'.format(metrics.mean_absolute_error(y_test, y_pred)))\n",
        "print('Mean Squared Error: {:.2f}'.format(metrics.mean_squared_error(y_test, y_pred)))\n",
        "print('Root Mean Squared Error: {:.2f}'.format(np.sqrt(metrics.mean_squared_error(y_test, y_pred))))\n",
        "print('Variance score is: {:.2f}'.format(metrics.explained_variance_score(y_test,y_pred)))"
      ]
    },
    {
      "cell_type": "code",
      "execution_count": null,
      "metadata": {
        "id": "UW6WGiv4J72n"
      },
      "outputs": [],
      "source": [
        "# we are off about 20% (comparing mean absolut error and mean of price)\n",
        "Data['price'].mean()"
      ]
    },
    {
      "cell_type": "code",
      "execution_count": null,
      "metadata": {
        "id": "bm63QEi2J72n"
      },
      "outputs": [],
      "source": [
        "# Our predictions\n",
        "fig = plt.figure(figsize=(10,5))\n",
        "plt.scatter(y_test,y_pred)\n",
        "# Perfect predictions\n",
        "plt.plot(y_test,y_test,'r')"
      ]
    },
    {
      "cell_type": "code",
      "execution_count": null,
      "metadata": {
        "id": "yw3rb9ZLJ72n"
      },
      "outputs": [],
      "source": [
        "fig = plt.figure(figsize=(10,5))\n",
        "residuals = (y_test- y_pred)\n",
        "sns.distplot(residuals)"
      ]
    },
    {
      "cell_type": "markdown",
      "metadata": {
        "id": "joDLEOKQJ72n"
      },
      "source": [
        "# Hoe we can use the model!"
      ]
    },
    {
      "cell_type": "code",
      "execution_count": null,
      "metadata": {
        "id": "DY-Zp8wDJ72n"
      },
      "outputs": [],
      "source": [
        "# let's drop price and keep first line featurs, then put those featur inside the model and estimae the price!\n",
        "single_house = Data.drop('price',axis = 1).iloc[0]"
      ]
    },
    {
      "cell_type": "code",
      "execution_count": null,
      "metadata": {
        "id": "O51ClPC3J72o"
      },
      "outputs": [],
      "source": [
        "# need to apply featur scalling on those featurs\n",
        "single_house = s_scaler.transform(single_house.values.reshape(-1,19))"
      ]
    },
    {
      "cell_type": "code",
      "execution_count": null,
      "metadata": {
        "id": "2Qkl8VBJJ72o"
      },
      "outputs": [],
      "source": [
        "# apply model on those featurs\n",
        "model.predict(single_house)"
      ]
    },
    {
      "cell_type": "code",
      "execution_count": null,
      "metadata": {
        "id": "EhqH2W_4J72o"
      },
      "outputs": [],
      "source": [
        "# compare the prediction with real price for the first column\n",
        "Data['price'][0]"
      ]
    },
    {
      "cell_type": "markdown",
      "metadata": {
        "id": "O8Ev-gjEJ72o"
      },
      "source": [
        "# Multiple Linear Regression vs Keras Regression"
      ]
    },
    {
      "cell_type": "code",
      "execution_count": null,
      "metadata": {
        "id": "RokWf7SVJ72o"
      },
      "outputs": [],
      "source": [
        "\n",
        "print('Model: Keras Regression\\n')\n",
        "\n",
        "print('Mean Absolute Error(MAE): {:.2f}'.format(metrics.mean_absolute_error(y_test, y_pred)))\n",
        "print('Mean Squared Error(MSE): {:.2f}'.format(metrics.mean_squared_error(y_test, y_pred)))\n",
        "print('Root Mean Squared Error(RMSE): {:.2f}'.format(np.sqrt(metrics.mean_squared_error(y_test, y_pred))))\n",
        "print('Variance score: {:.2f}\\n'.format(metrics.explained_variance_score(y_test,y_pred)*100))\n",
        "print('*********************************\\n')\n",
        "print('Model: Multiple Linear Regression\\n')\n",
        "print('Mean Absolute Error(MAE): {:.2f}'.format(metrics.mean_absolute_error(y_test, y_predd)))\n",
        "print('Mean Squared Error(MSE):{:.2f}'.format(metrics.mean_squared_error(y_test, y_predd)))\n",
        "print('Root Mean Squared Error(RMSE):{:.2f}'.format(np.sqrt(metrics.mean_squared_error(y_test, y_predd))))\n",
        "print('Variance score: {:.2f}'.format(metrics.explained_variance_score(y_test,y_predd)*100))"
      ]
    },
    {
      "cell_type": "markdown",
      "source": [
        "### Lightning"
      ],
      "metadata": {
        "id": "dyF9AUtkVHsC"
      }
    },
    {
      "cell_type": "code",
      "source": [
        "!pip install lightning -U\n",
        "import torch as th\n",
        "import torch.nn as nn\n",
        "import torch.nn.functional as F\n",
        "import torch.optim as optim\n",
        "import pytorch_lightning as pl\n",
        "from collections import OrderedDict\n",
        "\n",
        "class PlDNNModule(pl.LightningModule):\n",
        "    def __init__(self, hparams):\n",
        "        super(PlDNNModule, self).__init__()\n",
        "        self.hparams = hparams\n",
        "        self.layers = nn.Sequential(OrderedDict(self.get_fclayer_list([8, 512, 256, 128, 64, 32, 16])))\n",
        "\n",
        "    # creates a list of hidden layers with given number of neuron in each layer and connects it to the output layer.\n",
        "    # Relu is used as the activation funtion. No activation function is applied for the last layer output\n",
        "    def get_fclayer_list(self, hidden_layers, outputs=1):\n",
        "        input_layers, output_layers = hidden_layers[:-1], hidden_layers[1:]\n",
        "        layers = []\n",
        "        for i, (l1, l2) in enumerate(zip(input_layers, output_layers)):\n",
        "            layers.append((f'fc{i}', nn.Linear(l1, l2)))\n",
        "            layers.append((f'relu{i}', nn.ReLU()))\n",
        "        layers.append(('fc_out', nn.Linear(output_layers[-1], outputs)))\n",
        "        return layers\n",
        "\n",
        "    def forward(self, x):\n",
        "        x = self.layers(x)\n",
        "        return x\n",
        "\n",
        "    # def configure_optimizers(self):\n",
        "    #    return optim.Adam(self.parameters(), lr=self.hparams.learning_rate)\n",
        "\n",
        "    def configure_optimizers(self):\n",
        "        optimizer = th.optim.Adam(self.parameters(), lr=self.hparams.learning_rate)\n",
        "        scheduler = th.optim.lr_scheduler.ReduceLROnPlateau(optimizer, mode='min', factor=0.2, patience=2, min_lr=1e-7, verbose=True)\n",
        "        return {\"optimizer\": optimizer, \"lr_scheduler\": scheduler, \"monitor\": \"val_loss\"}\n",
        "\n",
        "    def shared_step(self, batch, batch_idx):\n",
        "        x, y = batch\n",
        "        logits = self.forward(x)\n",
        "        loss = F.l1_loss(logits, y)\n",
        "        return loss, logits\n",
        "\n",
        "    def training_step(self, batch, batch_idx):\n",
        "        loss, _ = self.shared_step(batch, batch_idx)\n",
        "        self.log('train_loss', loss)\n",
        "        return loss\n",
        "\n",
        "    def validation_step(self, batch, batch_idx):\n",
        "        loss, _ = self.shared_step(batch, batch_idx)\n",
        "        self.log('val_loss', loss)\n",
        "        return {'val_loss', loss}\n",
        "\n",
        "    def validation_epoch_end(self, outputs):\n",
        "        avg_val_loss = th.stack([list(x)[0] for x in outputs]).mean()\n",
        "        self.log('avg_val_loss', avg_val_loss)\n"
      ],
      "metadata": {
        "id": "t81mytzRVHTJ"
      },
      "execution_count": null,
      "outputs": []
    },
    {
      "cell_type": "code",
      "source": [
        "from pathlib import Path\n",
        "import torch as th\n",
        "import pytorch_lightning as pl\n",
        "import pandas as pd\n",
        "#from sklearn import preprocessing\n",
        "from torch.utils.data import TensorDataset, DataLoader, random_split\n",
        "\n",
        "class PlDataModule(pl.LightningDataModule):\n",
        "    def __init__(self, hparams):\n",
        "        super(PlDataModule, self).__init__()\n",
        "        self.hparams = hparams\n",
        "        self.train_dataset = None\n",
        "        self.valid_dataset = None\n",
        "\n",
        "    def load_data(self):\n",
        "        input_file = Path(self.hparams.data_folder).joinpath(self.hparams.train_input).as_posix()\n",
        "        df = pd.read_csv(input_file)\n",
        "        # commented code for normalization options. minmax or mean-std approach\n",
        "        #min_max_scaler = preprocessing.MinMaxScaler()\n",
        "        #scaled_input = min_max_scaler.fit_transform(df.values)\n",
        "        #normalized_df = (df-df.mean())/df.std()\n",
        "        df = pd.DataFrame(df.values)\n",
        "        x = df.loc[:, :9].values\n",
        "        y = df.loc[:, 10:].values\n",
        "        return x, y\n",
        "\n",
        "    def setup(self, stage=None):\n",
        "        x, y = self.load_data()\n",
        "        dataset = TensorDataset(\n",
        "            th.tensor(x, dtype=th.float), th.tensor(y, dtype=th.float))\n",
        "        train_size = int(0.90 * len(dataset))\n",
        "        val_size = int(0.1 * len(dataset))\n",
        "        self.train_dataset, self.valid_dataset = random_split(dataset, (train_size, val_size))\n",
        "\n",
        "    def train_dataloader(self):\n",
        "        dataloader = DataLoader(self.train_dataset,\n",
        "                                batch_size=self.hparams.batch_size,\n",
        "                                shuffle=True,\n",
        "                                num_workers=self.hparams.num_workers,\n",
        "                                pin_memory=True,\n",
        "                                drop_last=True)\n",
        "        return dataloader\n",
        "\n",
        "    def val_dataloader(self):\n",
        "        dataloader = DataLoader(self.valid_dataset,\n",
        "                                batch_size=self.hparams.batch_size,\n",
        "                                num_workers=self.hparams.num_workers,\n",
        "                                pin_memory=True,\n",
        "                                drop_last=True)\n",
        "        return dataloader"
      ],
      "metadata": {
        "id": "oYfDNblga6Iq"
      },
      "execution_count": null,
      "outputs": []
    },
    {
      "cell_type": "code",
      "source": [
        "from pathlib import Path\n",
        "import torch as th\n",
        "import pandas as pd\n",
        "\n",
        "# All of this can be moved to the test loop of pytorch lightning itself\n",
        "# Decided to make the inference separate from the training loops\n",
        "\n",
        "\n",
        "class ResultWriter():\n",
        "    def __init__(self, trained_model, hparams):\n",
        "        self.model = trained_model\n",
        "        self.hparams = hparams\n",
        "\n",
        "    def load_data(self):\n",
        "        input_file = Path(self.hparams.data_folder).joinpath(self.hparams.test_input).as_posix()\n",
        "        df = pd.read_csv(input_file)\n",
        "        x = df.values\n",
        "        return x\n",
        "\n",
        "    def test_model(self):\n",
        "        test_data = self.load_data()\n",
        "        output = []\n",
        "\n",
        "        for line in test_data:\n",
        "            x = th.tensor(line[:10], dtype=th.float)\n",
        "            y = self.model(x.view(-1, 10))\n",
        "            output.append(y.item())\n",
        "\n",
        "        self.save_output(test_data, output)\n",
        "\n",
        "    def save_output(self, input, output):\n",
        "        output_file = Path(self.hparams.data_folder).joinpath(self.hparams.test_output).as_posix()\n",
        "\n",
        "        df = pd.DataFrame(input)\n",
        "        df.columns = ['X1', 'X2', 'X3', 'X4', 'X5', 'X6', 'X7', 'X8', 'X9', 'X10']\n",
        "        df['Y'] = output\n",
        "\n",
        "        df.to_csv(output_file, index=False)"
      ],
      "metadata": {
        "colab": {
          "base_uri": "https://localhost:8080/"
        },
        "id": "_08Dd1M8fS0y",
        "outputId": "89b8332b-2db9-489c-807e-c617da79c4ef"
      },
      "execution_count": null,
      "outputs": [
        {
          "output_type": "stream",
          "name": "stdout",
          "text": [
            "\u001b[31mERROR: Could not find a version that satisfies the requirement data_module (from versions: none)\u001b[0m\u001b[31m\n",
            "\u001b[0m\u001b[31mERROR: No matching distribution found for data_module\u001b[0m\u001b[31m\n",
            "\u001b[0m"
          ]
        }
      ]
    },
    {
      "cell_type": "code",
      "source": [
        "from argparse import Namespace\n",
        "import torch\n",
        "from pytorch_lightning import seed_everything\n",
        "from pytorch_lightning.callbacks.early_stopping import EarlyStopping\n",
        "\n",
        "# Define hparams\n",
        "hparams = Namespace(\n",
        "    checkpoint_name='./checkpoint/final.ckpt',\n",
        "    data_folder='./content',\n",
        "    train_input='dataset_non_outliers_Price_Area.csv',\n",
        "    test_input='test.csv',\n",
        "    test_output='test_pred.csv',\n",
        "    default_root_dir='./logs',\n",
        "    max_epochs=450,\n",
        "    gpus=(-1 if torch.cuda.is_available() else 0),\n",
        "    auto_select_gpus=True,\n",
        "    deterministic=True,\n",
        "    batch_size=512,\n",
        "    num_workers=6,\n",
        "    learning_rate=0.02,\n",
        "    fast_dev_run=False\n",
        ")\n",
        "\n",
        "early_stop_callback = EarlyStopping(monitor='val_loss', min_delta=0.0001, patience=5, verbose=True, mode='min')\n",
        "\n",
        "def train_model(hparams):\n",
        "\n",
        "    seed_everything(77)\n",
        "\n",
        "    ml_module = PlDNNModule(hparams=hparams)\n",
        "    data_module = PlDataModule(hparams=hparams)\n",
        "\n",
        "    #model_trainer = pl.Trainer.from_argparse_args(hparams)\n",
        "    model_trainer = pl.Trainer.from_argparse_args(hparams, callbacks=[early_stop_callback])\n",
        "\n",
        "    model_trainer.logger = pl.loggers.TensorBoardLogger('logs/', name='exp')\n",
        "\n",
        "    model_trainer.fit(ml_module, data_module)\n",
        "    model_trainer.save_checkpoint(hparams.checkpoint_name)\n",
        "\n",
        "\n",
        "def test_model(hparams):\n",
        "    model = PlDNNModule.load_from_checkpoint(hparams.checkpoint_name)\n",
        "    output_writer = ResultWriter(model, hparams=hparams)\n",
        "    output_writer.test_model()\n",
        "\n",
        "# Call train_model() with hparams\n",
        "train_model(hparams=hparams)\n",
        "test_model(hparams=hparams)"
      ],
      "metadata": {
        "colab": {
          "base_uri": "https://localhost:8080/"
        },
        "id": "GUEZzXXMbMXh",
        "outputId": "93970409-1e5f-4a94-9dac-e423c4017ecb"
      },
      "execution_count": null,
      "outputs": [
        {
          "output_type": "stream",
          "name": "stdout",
          "text": [
            "python3: can't open file '/content/train.py': [Errno 2] No such file or directory\n"
          ]
        }
      ]
    }
  ],
  "metadata": {
    "kernelspec": {
      "display_name": "Python 3",
      "name": "python3"
    },
    "language_info": {
      "codemirror_mode": {
        "name": "ipython",
        "version": 3
      },
      "file_extension": ".py",
      "mimetype": "text/x-python",
      "name": "python",
      "nbconvert_exporter": "python",
      "pygments_lexer": "ipython3",
      "version": "3.7.6"
    },
    "colab": {
      "provenance": [],
      "gpuType": "T4",
      "include_colab_link": true
    },
    "accelerator": "GPU"
  },
  "nbformat": 4,
  "nbformat_minor": 0
}