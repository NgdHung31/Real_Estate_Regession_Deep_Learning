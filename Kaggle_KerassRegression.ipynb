{
  "cells": [
    {
      "cell_type": "markdown",
      "metadata": {
        "colab_type": "text",
        "id": "view-in-github"
      },
      "source": [
        "<a href=\"https://colab.research.google.com/github/NgdHung31/Real_Estate_Regession_Deep_Learning/blob/main/Kaggle_KerassRegression.ipynb\" target=\"_parent\"><img src=\"https://colab.research.google.com/assets/colab-badge.svg\" alt=\"Open In Colab\"/></a>"
      ]
    },
    {
      "cell_type": "markdown",
      "metadata": {
        "id": "1SiwLKBaJ72J"
      },
      "source": [
        "# Hose Sales Prediction (Keras-Regression vs Multiple Regression)"
      ]
    },
    {
      "cell_type": "markdown",
      "metadata": {
        "id": "WDgiapOsJ72L"
      },
      "source": [
        "#### Feature Columns\n",
        "    \n",
        "* id - Unique ID for each home sold\n",
        "* date - Date of the home sale\n",
        "* price - Price of each home sold\n",
        "* bedrooms - Number of bedrooms\n",
        "* bathrooms - Number of bathrooms, where .5 accounts for a room with a toilet but no shower\n",
        "* sqft_living - Square footage of the apartments interior living space\n",
        "* sqft_lot - Square footage of the land space\n",
        "* floors - Number of floors\n",
        "* waterfront - A dummy variable for whether the apartment was overlooking the waterfront or not\n",
        "* view - An index from 0 to 4 of how good the view of the property was\n",
        "* condition - An index from 1 to 5 on the condition of the apartment,\n",
        "* grade - An index from 1 to 13, where 1-3 falls short of building construction and design, 7 has an average level of construction and design, and 11-13 have a high quality level of construction and design.\n",
        "* sqft_above - The square footage of the interior housing space that is above ground level\n",
        "* sqft_basement - The square footage of the interior housing space that is below ground level\n",
        "* yr_built - The year the house was initially built\n",
        "* yr_renovated - The year of the house’s last renovation\n",
        "* zipcode - What zipcode area the house is in\n",
        "* lat - Lattitude\n",
        "* long - Longitude\n",
        "* sqft_living15 - The square footage of interior housing living space for the nearest 15 neighbors\n",
        "* sqft_lot15 - The square footage of the land lots of the nearest 15 neighbors\n",
        "\n",
        "\n",
        "Data used: https://www.kaggle.com/harlfoxem/housesalesprediction"
      ]
    },
    {
      "cell_type": "code",
      "execution_count": 1,
      "metadata": {
        "colab": {
          "base_uri": "https://localhost:8080/"
        },
        "id": "dGChnkOCFNLo",
        "outputId": "c3a05d40-6c05-498f-f450-dc428da8a2cf"
      },
      "outputs": [
        {
          "name": "stdout",
          "output_type": "stream",
          "text": [
            "\u001b[33mWARNING: Error parsing requirements for typing-extensions: [Errno 2] No such file or directory: '/home/dev_ai/miniconda/envs/lightning/lib/python3.8/site-packages/typing_extensions-4.11.0.dist-info/METADATA'\u001b[0m\u001b[33m\n",
            "\u001b[0mNote: you may need to restart the kernel to use updated packages.\n",
            "\u001b[33mWARNING: Error parsing requirements for typing-extensions: [Errno 2] No such file or directory: '/home/dev_ai/miniconda/envs/lightning/lib/python3.8/site-packages/typing_extensions-4.11.0.dist-info/METADATA'\u001b[0m\u001b[33m\n",
            "\u001b[0mNote: you may need to restart the kernel to use updated packages.\n",
            "/home/dev_ai/miniconda/envs/lightning/lib/python3.8/site-packages/gdown/__main__.py:132: FutureWarning: Option `--id` was deprecated in version 4.3.1 and will be removed in 5.0. You don't need to pass it anymore to use a file ID.\n",
            "  warnings.warn(\n",
            "Downloading...\n",
            "From: https://drive.google.com/uc?id=1H98Xv24pGw9jTQO5sJsp6X8xRPfrxiHG\n",
            "To: /media/dev_ai/Artist_Cache/Real_Estate_Regession_Deep_Learning/content/dataset_non_outliers_Price_Area.csv\n",
            "100%|██████████████████████████████████████| 9.23M/9.23M [00:00<00:00, 18.0MB/s]\n"
          ]
        }
      ],
      "source": [
        "%pip install gdown -U -q\n",
        "%pip install scikit-learn -U -q\n",
        "# %pip install tensorflow -U -q\n",
        "!gdown --id 1H98Xv24pGw9jTQO5sJsp6X8xRPfrxiHG --output \"./content/dataset_non_outliers_Price_Area.csv\""
      ]
    },
    {
      "cell_type": "code",
      "execution_count": 2,
      "metadata": {
        "colab": {
          "base_uri": "https://localhost:8080/"
        },
        "id": "mQ-aKfIaJ72M",
        "outputId": "63febee5-7d26-4e88-a97c-35d1aa875323"
      },
      "outputs": [],
      "source": [
        "# import required libraries\n",
        "import pandas as pd\n",
        "import numpy as np\n",
        "import seaborn as sns\n",
        "sns.set_theme()\n",
        "import matplotlib.pyplot as plt"
      ]
    },
    {
      "cell_type": "code",
      "execution_count": 3,
      "metadata": {
        "colab": {
          "base_uri": "https://localhost:8080/"
        },
        "id": "oSsqJH6RJ72N",
        "outputId": "6f82e258-ebc2-4f91-c82d-8fdc418cfb7b"
      },
      "outputs": [],
      "source": [
        "# read the csv file\n",
        "Data = pd.read_csv(\n",
        "    './content/dataset_non_outliers_Price_Area.csv', low_memory=False)"
      ]
    },
    {
      "cell_type": "markdown",
      "metadata": {
        "id": "EX04sc2jJ72N"
      },
      "source": [
        "# Exploratory Data Analysis"
      ]
    },
    {
      "cell_type": "code",
      "execution_count": 4,
      "metadata": {
        "colab": {
          "base_uri": "https://localhost:8080/",
          "height": 464
        },
        "id": "76Pd4PKFJ72O",
        "outputId": "0ccfd36b-334f-4c75-ad10-6c5bc22a1451"
      },
      "outputs": [
        {
          "data": {
            "text/html": [
              "<div>\n",
              "<style scoped>\n",
              "    .dataframe tbody tr th:only-of-type {\n",
              "        vertical-align: middle;\n",
              "    }\n",
              "\n",
              "    .dataframe tbody tr th {\n",
              "        vertical-align: top;\n",
              "    }\n",
              "\n",
              "    .dataframe thead th {\n",
              "        text-align: right;\n",
              "    }\n",
              "</style>\n",
              "<table border=\"1\" class=\"dataframe\">\n",
              "  <thead>\n",
              "    <tr style=\"text-align: right;\">\n",
              "      <th></th>\n",
              "      <th>Property_type</th>\n",
              "      <th>Area</th>\n",
              "      <th>Width</th>\n",
              "      <th>Length</th>\n",
              "      <th>Frontage</th>\n",
              "      <th>Number_of_floors</th>\n",
              "      <th>Number_of_bedrooms</th>\n",
              "      <th>Number_of_toilets</th>\n",
              "      <th>Legal_status</th>\n",
              "      <th>Furniture</th>\n",
              "      <th>...</th>\n",
              "      <th>Posting_date</th>\n",
              "      <th>Expiry_date</th>\n",
              "      <th>Type_of_listing</th>\n",
              "      <th>Project_name</th>\n",
              "      <th>Street</th>\n",
              "      <th>Ward</th>\n",
              "      <th>District</th>\n",
              "      <th>Province</th>\n",
              "      <th>Distance</th>\n",
              "      <th>Price</th>\n",
              "    </tr>\n",
              "  </thead>\n",
              "  <tbody>\n",
              "    <tr>\n",
              "      <th>0</th>\n",
              "      <td>Nhà biệt thự</td>\n",
              "      <td>80.0</td>\n",
              "      <td>NaN</td>\n",
              "      <td>NaN</td>\n",
              "      <td>NaN</td>\n",
              "      <td>3.0</td>\n",
              "      <td>4.0</td>\n",
              "      <td>3</td>\n",
              "      <td>Đã có sổ</td>\n",
              "      <td>Có nội thất</td>\n",
              "      <td>...</td>\n",
              "      <td>1/11/2023</td>\n",
              "      <td>16/11/2023</td>\n",
              "      <td>Tin thường</td>\n",
              "      <td>Dự án Lovera Park</td>\n",
              "      <td>Đường Trịnh Quang Nghị</td>\n",
              "      <td>Xã Phong Phú</td>\n",
              "      <td>Bình Chánh</td>\n",
              "      <td>TP Hồ Chí Minh</td>\n",
              "      <td>9.623252</td>\n",
              "      <td>6.5</td>\n",
              "    </tr>\n",
              "    <tr>\n",
              "      <th>1</th>\n",
              "      <td>Nhà biệt thự</td>\n",
              "      <td>80.0</td>\n",
              "      <td>NaN</td>\n",
              "      <td>NaN</td>\n",
              "      <td>6.0</td>\n",
              "      <td>3.0</td>\n",
              "      <td>3.0</td>\n",
              "      <td>3</td>\n",
              "      <td>Đã có sổ</td>\n",
              "      <td>Có nội thất</td>\n",
              "      <td>...</td>\n",
              "      <td>31/10/2023</td>\n",
              "      <td>7/11/2023</td>\n",
              "      <td>Tin VIP Bạc</td>\n",
              "      <td>Dự án Khang Điền Bình Chánh</td>\n",
              "      <td>Đường Trịnh Quang Nghị</td>\n",
              "      <td>Xã Phong Phú</td>\n",
              "      <td>Bình Chánh</td>\n",
              "      <td>TP Hồ Chí Minh</td>\n",
              "      <td>9.623252</td>\n",
              "      <td>7.9</td>\n",
              "    </tr>\n",
              "    <tr>\n",
              "      <th>2</th>\n",
              "      <td>Nhà biệt thự</td>\n",
              "      <td>136.5</td>\n",
              "      <td>NaN</td>\n",
              "      <td>NaN</td>\n",
              "      <td>7.0</td>\n",
              "      <td>3.0</td>\n",
              "      <td>4.0</td>\n",
              "      <td>4</td>\n",
              "      <td>Đã có sổ</td>\n",
              "      <td>Có nội thất</td>\n",
              "      <td>...</td>\n",
              "      <td>30/10/2023</td>\n",
              "      <td>14/11/2023</td>\n",
              "      <td>Tin VIP Bạc</td>\n",
              "      <td>Dự án KDC Phong Phú 5</td>\n",
              "      <td>Đường Số 5</td>\n",
              "      <td>Xã Phong Phú</td>\n",
              "      <td>Bình Chánh</td>\n",
              "      <td>TP Hồ Chí Minh</td>\n",
              "      <td>9.623252</td>\n",
              "      <td>10.8</td>\n",
              "    </tr>\n",
              "    <tr>\n",
              "      <th>3</th>\n",
              "      <td>Nhà biệt thự</td>\n",
              "      <td>95.0</td>\n",
              "      <td>NaN</td>\n",
              "      <td>NaN</td>\n",
              "      <td>NaN</td>\n",
              "      <td>5.0</td>\n",
              "      <td>5.0</td>\n",
              "      <td>4</td>\n",
              "      <td>Đã có sổ</td>\n",
              "      <td>Không có nội thất</td>\n",
              "      <td>...</td>\n",
              "      <td>20/10/2023</td>\n",
              "      <td>4/11/2023</td>\n",
              "      <td>Tin thường</td>\n",
              "      <td>Unknown</td>\n",
              "      <td>Đường Quách Điêu</td>\n",
              "      <td>Xã Vĩnh Lộc A</td>\n",
              "      <td>Bình Chánh</td>\n",
              "      <td>TP Hồ Chí Minh</td>\n",
              "      <td>14.245030</td>\n",
              "      <td>7.6</td>\n",
              "    </tr>\n",
              "    <tr>\n",
              "      <th>4</th>\n",
              "      <td>Nhà biệt thự</td>\n",
              "      <td>90.0</td>\n",
              "      <td>NaN</td>\n",
              "      <td>NaN</td>\n",
              "      <td>NaN</td>\n",
              "      <td>5.0</td>\n",
              "      <td>5.0</td>\n",
              "      <td>4</td>\n",
              "      <td>Đã có sổ</td>\n",
              "      <td>Không có nội thất</td>\n",
              "      <td>...</td>\n",
              "      <td>30/10/2023</td>\n",
              "      <td>14/11/2023</td>\n",
              "      <td>Tin thường</td>\n",
              "      <td>Unknown</td>\n",
              "      <td>Đường Quách Điêu</td>\n",
              "      <td>Xã Vĩnh Lộc A</td>\n",
              "      <td>Bình Chánh</td>\n",
              "      <td>TP Hồ Chí Minh</td>\n",
              "      <td>14.245030</td>\n",
              "      <td>7.6</td>\n",
              "    </tr>\n",
              "  </tbody>\n",
              "</table>\n",
              "<p>5 rows × 23 columns</p>\n",
              "</div>"
            ],
            "text/plain": [
              "  Property_type   Area  Width  Length  Frontage  Number_of_floors  \\\n",
              "0  Nhà biệt thự   80.0    NaN     NaN       NaN               3.0   \n",
              "1  Nhà biệt thự   80.0    NaN     NaN       6.0               3.0   \n",
              "2  Nhà biệt thự  136.5    NaN     NaN       7.0               3.0   \n",
              "3  Nhà biệt thự   95.0    NaN     NaN       NaN               5.0   \n",
              "4  Nhà biệt thự   90.0    NaN     NaN       NaN               5.0   \n",
              "\n",
              "   Number_of_bedrooms Number_of_toilets Legal_status          Furniture  ...  \\\n",
              "0                 4.0                 3     Đã có sổ        Có nội thất  ...   \n",
              "1                 3.0                 3     Đã có sổ        Có nội thất  ...   \n",
              "2                 4.0                 4     Đã có sổ        Có nội thất  ...   \n",
              "3                 5.0                 4     Đã có sổ  Không có nội thất  ...   \n",
              "4                 5.0                 4     Đã có sổ  Không có nội thất  ...   \n",
              "\n",
              "  Posting_date Expiry_date  Type_of_listing                 Project_name  \\\n",
              "0    1/11/2023  16/11/2023       Tin thường            Dự án Lovera Park   \n",
              "1   31/10/2023   7/11/2023     Tin VIP Bạc  Dự án Khang Điền Bình Chánh   \n",
              "2   30/10/2023  14/11/2023     Tin VIP Bạc        Dự án KDC Phong Phú 5   \n",
              "3   20/10/2023   4/11/2023       Tin thường                      Unknown   \n",
              "4   30/10/2023  14/11/2023       Tin thường                      Unknown   \n",
              "\n",
              "                   Street           Ward    District        Province  \\\n",
              "0  Đường Trịnh Quang Nghị   Xã Phong Phú  Bình Chánh  TP Hồ Chí Minh   \n",
              "1  Đường Trịnh Quang Nghị   Xã Phong Phú  Bình Chánh  TP Hồ Chí Minh   \n",
              "2              Đường Số 5   Xã Phong Phú  Bình Chánh  TP Hồ Chí Minh   \n",
              "3        Đường Quách Điêu  Xã Vĩnh Lộc A  Bình Chánh  TP Hồ Chí Minh   \n",
              "4        Đường Quách Điêu  Xã Vĩnh Lộc A  Bình Chánh  TP Hồ Chí Minh   \n",
              "\n",
              "    Distance Price  \n",
              "0   9.623252   6.5  \n",
              "1   9.623252   7.9  \n",
              "2   9.623252  10.8  \n",
              "3  14.245030   7.6  \n",
              "4  14.245030   7.6  \n",
              "\n",
              "[5 rows x 23 columns]"
            ]
          },
          "execution_count": 4,
          "metadata": {},
          "output_type": "execute_result"
        }
      ],
      "source": [
        "Data.head(5)"
      ]
    },
    {
      "cell_type": "code",
      "execution_count": 5,
      "metadata": {
        "colab": {
          "base_uri": "https://localhost:8080/",
          "height": 852
        },
        "id": "Dh2eYA5VJ72P",
        "outputId": "9caa18d9-67be-40d8-a10d-37952ab937da"
      },
      "outputs": [
        {
          "name": "stdout",
          "output_type": "stream",
          "text": [
            "<class 'pandas.core.frame.DataFrame'>\n",
            "RangeIndex: 47637 entries, 0 to 47636\n",
            "Data columns (total 23 columns):\n",
            " #   Column               Non-Null Count  Dtype  \n",
            "---  ------               --------------  -----  \n",
            " 0   Property_type        47637 non-null  object \n",
            " 1   Area                 47637 non-null  float64\n",
            " 2   Width                3205 non-null   float64\n",
            " 3   Length               1648 non-null   float64\n",
            " 4   Frontage             8695 non-null   float64\n",
            " 5   Number_of_floors     20686 non-null  float64\n",
            " 6   Number_of_bedrooms   41687 non-null  float64\n",
            " 7   Number_of_toilets    36947 non-null  object \n",
            " 8   Legal_status         47637 non-null  object \n",
            " 9   Furniture            47637 non-null  object \n",
            " 10  House_orientation    11611 non-null  object \n",
            " 11  Balcony_orientation  6539 non-null   object \n",
            " 12  Access_road          8451 non-null   float64\n",
            " 13  Posting_date         47637 non-null  object \n",
            " 14  Expiry_date          26859 non-null  object \n",
            " 15  Type_of_listing      26898 non-null  object \n",
            " 16  Project_name         22423 non-null  object \n",
            " 17  Street               46176 non-null  object \n",
            " 18  Ward                 47637 non-null  object \n",
            " 19  District             47637 non-null  object \n",
            " 20  Province             47637 non-null  object \n",
            " 21  Distance             47637 non-null  float64\n",
            " 22  Price                47637 non-null  float64\n",
            "dtypes: float64(9), object(14)\n",
            "memory usage: 8.4+ MB\n"
          ]
        },
        {
          "data": {
            "text/html": [
              "<div>\n",
              "<style scoped>\n",
              "    .dataframe tbody tr th:only-of-type {\n",
              "        vertical-align: middle;\n",
              "    }\n",
              "\n",
              "    .dataframe tbody tr th {\n",
              "        vertical-align: top;\n",
              "    }\n",
              "\n",
              "    .dataframe thead th {\n",
              "        text-align: right;\n",
              "    }\n",
              "</style>\n",
              "<table border=\"1\" class=\"dataframe\">\n",
              "  <thead>\n",
              "    <tr style=\"text-align: right;\">\n",
              "      <th></th>\n",
              "      <th>count</th>\n",
              "      <th>mean</th>\n",
              "      <th>std</th>\n",
              "      <th>min</th>\n",
              "      <th>25%</th>\n",
              "      <th>50%</th>\n",
              "      <th>75%</th>\n",
              "      <th>max</th>\n",
              "    </tr>\n",
              "  </thead>\n",
              "  <tbody>\n",
              "    <tr>\n",
              "      <th>Area</th>\n",
              "      <td>47637.0</td>\n",
              "      <td>74.756512</td>\n",
              "      <td>28.897334</td>\n",
              "      <td>7.000000</td>\n",
              "      <td>55.000000</td>\n",
              "      <td>70.000000</td>\n",
              "      <td>90.000000</td>\n",
              "      <td>161.000000</td>\n",
              "    </tr>\n",
              "    <tr>\n",
              "      <th>Width</th>\n",
              "      <td>3205.0</td>\n",
              "      <td>4.931357</td>\n",
              "      <td>7.158506</td>\n",
              "      <td>2.000000</td>\n",
              "      <td>4.000000</td>\n",
              "      <td>4.000000</td>\n",
              "      <td>5.000000</td>\n",
              "      <td>350.000000</td>\n",
              "    </tr>\n",
              "    <tr>\n",
              "      <th>Length</th>\n",
              "      <td>1648.0</td>\n",
              "      <td>15.070631</td>\n",
              "      <td>9.356820</td>\n",
              "      <td>1.000000</td>\n",
              "      <td>11.000000</td>\n",
              "      <td>14.000000</td>\n",
              "      <td>18.000000</td>\n",
              "      <td>222.500000</td>\n",
              "    </tr>\n",
              "    <tr>\n",
              "      <th>Frontage</th>\n",
              "      <td>8695.0</td>\n",
              "      <td>5.570094</td>\n",
              "      <td>12.226474</td>\n",
              "      <td>1.000000</td>\n",
              "      <td>4.000000</td>\n",
              "      <td>4.800000</td>\n",
              "      <td>6.000000</td>\n",
              "      <td>980.000000</td>\n",
              "    </tr>\n",
              "    <tr>\n",
              "      <th>Number_of_floors</th>\n",
              "      <td>20686.0</td>\n",
              "      <td>3.145702</td>\n",
              "      <td>1.314078</td>\n",
              "      <td>1.000000</td>\n",
              "      <td>2.000000</td>\n",
              "      <td>3.000000</td>\n",
              "      <td>4.000000</td>\n",
              "      <td>9.000000</td>\n",
              "    </tr>\n",
              "    <tr>\n",
              "      <th>Number_of_bedrooms</th>\n",
              "      <td>41687.0</td>\n",
              "      <td>3.038117</td>\n",
              "      <td>2.118783</td>\n",
              "      <td>1.000000</td>\n",
              "      <td>2.000000</td>\n",
              "      <td>2.000000</td>\n",
              "      <td>4.000000</td>\n",
              "      <td>57.000000</td>\n",
              "    </tr>\n",
              "    <tr>\n",
              "      <th>Access_road</th>\n",
              "      <td>8451.0</td>\n",
              "      <td>10.108733</td>\n",
              "      <td>9.184272</td>\n",
              "      <td>1.050000</td>\n",
              "      <td>5.000000</td>\n",
              "      <td>8.000000</td>\n",
              "      <td>12.000000</td>\n",
              "      <td>322.000000</td>\n",
              "    </tr>\n",
              "    <tr>\n",
              "      <th>Distance</th>\n",
              "      <td>47637.0</td>\n",
              "      <td>7.362353</td>\n",
              "      <td>3.917916</td>\n",
              "      <td>0.449674</td>\n",
              "      <td>4.274879</td>\n",
              "      <td>6.949138</td>\n",
              "      <td>9.636417</td>\n",
              "      <td>49.613941</td>\n",
              "    </tr>\n",
              "    <tr>\n",
              "      <th>Price</th>\n",
              "      <td>47637.0</td>\n",
              "      <td>7.174582</td>\n",
              "      <td>6.590799</td>\n",
              "      <td>0.010000</td>\n",
              "      <td>2.600000</td>\n",
              "      <td>4.700000</td>\n",
              "      <td>9.000000</td>\n",
              "      <td>33.000000</td>\n",
              "    </tr>\n",
              "  </tbody>\n",
              "</table>\n",
              "</div>"
            ],
            "text/plain": [
              "                      count       mean        std       min        25%  \\\n",
              "Area                47637.0  74.756512  28.897334  7.000000  55.000000   \n",
              "Width                3205.0   4.931357   7.158506  2.000000   4.000000   \n",
              "Length               1648.0  15.070631   9.356820  1.000000  11.000000   \n",
              "Frontage             8695.0   5.570094  12.226474  1.000000   4.000000   \n",
              "Number_of_floors    20686.0   3.145702   1.314078  1.000000   2.000000   \n",
              "Number_of_bedrooms  41687.0   3.038117   2.118783  1.000000   2.000000   \n",
              "Access_road          8451.0  10.108733   9.184272  1.050000   5.000000   \n",
              "Distance            47637.0   7.362353   3.917916  0.449674   4.274879   \n",
              "Price               47637.0   7.174582   6.590799  0.010000   2.600000   \n",
              "\n",
              "                          50%        75%         max  \n",
              "Area                70.000000  90.000000  161.000000  \n",
              "Width                4.000000   5.000000  350.000000  \n",
              "Length              14.000000  18.000000  222.500000  \n",
              "Frontage             4.800000   6.000000  980.000000  \n",
              "Number_of_floors     3.000000   4.000000    9.000000  \n",
              "Number_of_bedrooms   2.000000   4.000000   57.000000  \n",
              "Access_road          8.000000  12.000000  322.000000  \n",
              "Distance             6.949138   9.636417   49.613941  \n",
              "Price                4.700000   9.000000   33.000000  "
            ]
          },
          "execution_count": 5,
          "metadata": {},
          "output_type": "execute_result"
        }
      ],
      "source": [
        "#get some information about our DataSet\n",
        "Data.info()\n",
        "Data.describe().transpose()"
      ]
    },
    {
      "cell_type": "code",
      "execution_count": 6,
      "metadata": {
        "id": "6WAohgdDJ72P"
      },
      "outputs": [],
      "source": [
        "#let's drop unnecessory featurs\n",
        "#Data = Data.drop('id',axis=1)\n",
        "#Data = Data.drop('zipcode',axis=1)"
      ]
    },
    {
      "cell_type": "code",
      "execution_count": 7,
      "metadata": {
        "colab": {
          "base_uri": "https://localhost:8080/"
        },
        "id": "dW76p0HJJ72Q",
        "outputId": "0826487a-6f59-40bf-bfae-6eeb4a67f8cd"
      },
      "outputs": [
        {
          "data": {
            "text/plain": [
              "Property_type              0\n",
              "Area                       0\n",
              "Width                  44432\n",
              "Length                 45989\n",
              "Frontage               38942\n",
              "Number_of_floors       26951\n",
              "Number_of_bedrooms      5950\n",
              "Number_of_toilets      10690\n",
              "Legal_status               0\n",
              "Furniture                  0\n",
              "House_orientation      36026\n",
              "Balcony_orientation    41098\n",
              "Access_road            39186\n",
              "Posting_date               0\n",
              "Expiry_date            20778\n",
              "Type_of_listing        20739\n",
              "Project_name           25214\n",
              "Street                  1461\n",
              "Ward                       0\n",
              "District                   0\n",
              "Province                   0\n",
              "Distance                   0\n",
              "Price                      0\n",
              "dtype: int64"
            ]
          },
          "execution_count": 7,
          "metadata": {},
          "output_type": "execute_result"
        }
      ],
      "source": [
        "# check if there are any Null values\n",
        "Data.isnull().sum()"
      ]
    },
    {
      "cell_type": "code",
      "execution_count": 8,
      "metadata": {
        "colab": {
          "base_uri": "https://localhost:8080/",
          "height": 898
        },
        "id": "r_SyTcIMJ72Q",
        "outputId": "4f78be11-6895-4f45-adfe-ec10fe5b9571"
      },
      "outputs": [
        {
          "data": {
            "image/png": "[encoded data removed]",
            "text/plain": [
              "<Figure size 1000x700 with 2 Axes>"
            ]
          },
          "metadata": {},
          "output_type": "display_data"
        }
      ],
      "source": [
        "#visualizing house prices\n",
        "fig = plt.figure(figsize=(10,7))\n",
        "fig.add_subplot(2,1,1)\n",
        "sns.histplot(Data['Price'], kde=True, bins=20)\n",
        "fig.add_subplot(2,1,2)\n",
        "sns.boxplot(Data['Price'])\n",
        "plt.tight_layout()"
      ]
    },
    {
      "cell_type": "markdown",
      "metadata": {},
      "source": [
        "## Feature Engineer"
      ]
    },
    {
      "cell_type": "code",
      "execution_count": 9,
      "metadata": {
        "id": "qvZUZj7fX11l"
      },
      "outputs": [
        {
          "data": {
            "text/plain": [
              "Property_type             0\n",
              "Area                      0\n",
              "Number_of_floors       7146\n",
              "Number_of_bedrooms     5950\n",
              "Number_of_toilets     10690\n",
              "Legal_status              0\n",
              "Furniture                 0\n",
              "Project_name              0\n",
              "District                  0\n",
              "Distance                  0\n",
              "Price                     0\n",
              "dtype: int64"
            ]
          },
          "execution_count": 9,
          "metadata": {},
          "output_type": "execute_result"
        }
      ],
      "source": [
        "Data = Data.drop(labels=['Frontage','Street', 'Ward', 'Province', 'Width', 'Length', 'House_orientation', 'Balcony_orientation', 'Access_road', 'Posting_date', 'Expiry_date', 'Type_of_listing'], axis=1)\n",
        "\n",
        "Data.loc[Data[\"Property_type\"] == \"Chung cư\", \"Number_of_floors\"] = 1\n",
        "Data.loc[pd.isnull(Data[\"Project_name\"]), \"Project_name\"] = \"Other\"\n",
        "\n",
        "Data.isnull().sum()"
      ]
    },
    {
      "cell_type": "code",
      "execution_count": 10,
      "metadata": {},
      "outputs": [],
      "source": [
        "Data = Data.rename(columns={'Number_of_floors': 'Floors',\n",
        "                   'Number_of_bedrooms': 'Bedrooms', \n",
        "                   'Number_of_toilets': 'Toilets'})\n",
        "\n",
        "# Convert object value to numeric value\n",
        "Data['Toilets'] = Data['Toilets'].replace('Nhiều hơn 6 phòng', 7)\n",
        "Data['Toilets'] = pd.to_numeric(Data['Toilets'], errors='coerce')"
      ]
    },
    {
      "cell_type": "code",
      "execution_count": 11,
      "metadata": {},
      "outputs": [],
      "source": [
        "Data = Data.dropna()"
      ]
    },
    {
      "cell_type": "code",
      "execution_count": 12,
      "metadata": {
        "colab": {
          "base_uri": "https://localhost:8080/",
          "height": 858
        },
        "id": "9VOL7PWXJ72Q",
        "outputId": "c8e3efd8-1e0c-43df-d7a9-03487df2c9d6"
      },
      "outputs": [
        {
          "name": "stderr",
          "output_type": "stream",
          "text": [
            "/tmp/ipykernel_33583/2360245049.py:10: UserWarning: The figure layout has changed to tight\n",
            "  plt.tight_layout()\n"
          ]
        },
        {
          "data": {
            "image/png": "[encoded data removed]",
            "text/plain": [
              "<Figure size 1500x700 with 3 Axes>"
            ]
          },
          "metadata": {},
          "output_type": "display_data"
        }
      ],
      "source": [
        "#visualizing bedrooms, bathrooms, floors,grades\n",
        "fig = plt.figure(figsize=(15,7),constrained_layout=True)\n",
        "fig.add_subplot(3,1,1)\n",
        "sns.countplot(x='Bedrooms', hue='Bedrooms', data=Data,\n",
        "              palette='Greens_d', legend=True)\n",
        "fig.add_subplot(3,1,2)\n",
        "sns.countplot(x='Floors', hue='Floors', data=Data)\n",
        "fig.add_subplot(3,1,3)\n",
        "sns.countplot(x='Toilets', hue='Toilets', data=Data)\n",
        "plt.tight_layout()"
      ]
    },
    {
      "cell_type": "markdown",
      "metadata": {},
      "source": [
        "# Encoding the values"
      ]
    },
    {
      "cell_type": "code",
      "execution_count": 13,
      "metadata": {},
      "outputs": [
        {
          "name": "stdout",
          "output_type": "stream",
          "text": [
            "<class 'pandas.core.frame.DataFrame'>\n",
            "Index: 34410 entries, 0 to 47636\n",
            "Data columns (total 11 columns):\n",
            " #   Column         Non-Null Count  Dtype  \n",
            "---  ------         --------------  -----  \n",
            " 0   Property_type  34410 non-null  object \n",
            " 1   Area           34410 non-null  float64\n",
            " 2   Floors         34410 non-null  float64\n",
            " 3   Bedrooms       34410 non-null  float64\n",
            " 4   Toilets        34410 non-null  float64\n",
            " 5   Legal_status   34410 non-null  object \n",
            " 6   Furniture      34410 non-null  object \n",
            " 7   Project_name   34410 non-null  object \n",
            " 8   District       34410 non-null  object \n",
            " 9   Distance       34410 non-null  float64\n",
            " 10  Price          34410 non-null  float64\n",
            "dtypes: float64(6), object(5)\n",
            "memory usage: 3.2+ MB\n"
          ]
        },
        {
          "data": {
            "text/html": [
              "<div>\n",
              "<style scoped>\n",
              "    .dataframe tbody tr th:only-of-type {\n",
              "        vertical-align: middle;\n",
              "    }\n",
              "\n",
              "    .dataframe tbody tr th {\n",
              "        vertical-align: top;\n",
              "    }\n",
              "\n",
              "    .dataframe thead th {\n",
              "        text-align: right;\n",
              "    }\n",
              "</style>\n",
              "<table border=\"1\" class=\"dataframe\">\n",
              "  <thead>\n",
              "    <tr style=\"text-align: right;\">\n",
              "      <th></th>\n",
              "      <th>count</th>\n",
              "      <th>mean</th>\n",
              "      <th>std</th>\n",
              "      <th>min</th>\n",
              "      <th>25%</th>\n",
              "      <th>50%</th>\n",
              "      <th>75%</th>\n",
              "      <th>max</th>\n",
              "    </tr>\n",
              "  </thead>\n",
              "  <tbody>\n",
              "    <tr>\n",
              "      <th>Area</th>\n",
              "      <td>34410.0</td>\n",
              "      <td>73.076312</td>\n",
              "      <td>27.666187</td>\n",
              "      <td>7.000000</td>\n",
              "      <td>55.00000</td>\n",
              "      <td>70.000000</td>\n",
              "      <td>86.000000</td>\n",
              "      <td>161.000000</td>\n",
              "    </tr>\n",
              "    <tr>\n",
              "      <th>Floors</th>\n",
              "      <td>34410.0</td>\n",
              "      <td>2.007672</td>\n",
              "      <td>1.367598</td>\n",
              "      <td>1.000000</td>\n",
              "      <td>1.00000</td>\n",
              "      <td>1.000000</td>\n",
              "      <td>3.000000</td>\n",
              "      <td>9.000000</td>\n",
              "    </tr>\n",
              "    <tr>\n",
              "      <th>Bedrooms</th>\n",
              "      <td>34410.0</td>\n",
              "      <td>3.020750</td>\n",
              "      <td>2.125978</td>\n",
              "      <td>1.000000</td>\n",
              "      <td>2.00000</td>\n",
              "      <td>2.000000</td>\n",
              "      <td>4.000000</td>\n",
              "      <td>57.000000</td>\n",
              "    </tr>\n",
              "    <tr>\n",
              "      <th>Toilets</th>\n",
              "      <td>34410.0</td>\n",
              "      <td>2.711915</td>\n",
              "      <td>1.513549</td>\n",
              "      <td>1.000000</td>\n",
              "      <td>2.00000</td>\n",
              "      <td>2.000000</td>\n",
              "      <td>3.000000</td>\n",
              "      <td>7.000000</td>\n",
              "    </tr>\n",
              "    <tr>\n",
              "      <th>Distance</th>\n",
              "      <td>34410.0</td>\n",
              "      <td>7.397858</td>\n",
              "      <td>3.739400</td>\n",
              "      <td>0.449674</td>\n",
              "      <td>4.36009</td>\n",
              "      <td>6.950851</td>\n",
              "      <td>9.636417</td>\n",
              "      <td>49.613941</td>\n",
              "    </tr>\n",
              "    <tr>\n",
              "      <th>Price</th>\n",
              "      <td>34410.0</td>\n",
              "      <td>6.065347</td>\n",
              "      <td>5.539944</td>\n",
              "      <td>0.010000</td>\n",
              "      <td>2.45000</td>\n",
              "      <td>4.000000</td>\n",
              "      <td>7.600000</td>\n",
              "      <td>33.000000</td>\n",
              "    </tr>\n",
              "  </tbody>\n",
              "</table>\n",
              "</div>"
            ],
            "text/plain": [
              "            count       mean        std       min       25%        50%  \\\n",
              "Area      34410.0  73.076312  27.666187  7.000000  55.00000  70.000000   \n",
              "Floors    34410.0   2.007672   1.367598  1.000000   1.00000   1.000000   \n",
              "Bedrooms  34410.0   3.020750   2.125978  1.000000   2.00000   2.000000   \n",
              "Toilets   34410.0   2.711915   1.513549  1.000000   2.00000   2.000000   \n",
              "Distance  34410.0   7.397858   3.739400  0.449674   4.36009   6.950851   \n",
              "Price     34410.0   6.065347   5.539944  0.010000   2.45000   4.000000   \n",
              "\n",
              "                75%         max  \n",
              "Area      86.000000  161.000000  \n",
              "Floors     3.000000    9.000000  \n",
              "Bedrooms   4.000000   57.000000  \n",
              "Toilets    3.000000    7.000000  \n",
              "Distance   9.636417   49.613941  \n",
              "Price      7.600000   33.000000  "
            ]
          },
          "execution_count": 13,
          "metadata": {},
          "output_type": "execute_result"
        }
      ],
      "source": [
        "Data.info()\n",
        "Data.describe().transpose()"
      ]
    },
    {
      "cell_type": "code",
      "execution_count": 14,
      "metadata": {},
      "outputs": [
        {
          "data": {
            "text/html": [
              "<div>\n",
              "<style scoped>\n",
              "    .dataframe tbody tr th:only-of-type {\n",
              "        vertical-align: middle;\n",
              "    }\n",
              "\n",
              "    .dataframe tbody tr th {\n",
              "        vertical-align: top;\n",
              "    }\n",
              "\n",
              "    .dataframe thead th {\n",
              "        text-align: right;\n",
              "    }\n",
              "</style>\n",
              "<table border=\"1\" class=\"dataframe\">\n",
              "  <thead>\n",
              "    <tr style=\"text-align: right;\">\n",
              "      <th></th>\n",
              "      <th>Property_type</th>\n",
              "      <th>Area</th>\n",
              "      <th>Floors</th>\n",
              "      <th>Bedrooms</th>\n",
              "      <th>Toilets</th>\n",
              "      <th>Legal_status</th>\n",
              "      <th>Furniture</th>\n",
              "      <th>Project_name</th>\n",
              "      <th>District</th>\n",
              "      <th>Distance</th>\n",
              "      <th>Price</th>\n",
              "    </tr>\n",
              "  </thead>\n",
              "  <tbody>\n",
              "    <tr>\n",
              "      <th>0</th>\n",
              "      <td>1.0</td>\n",
              "      <td>80.0</td>\n",
              "      <td>3.0</td>\n",
              "      <td>4.0</td>\n",
              "      <td>3.0</td>\n",
              "      <td>3.0</td>\n",
              "      <td>1.0</td>\n",
              "      <td>428.0</td>\n",
              "      <td>0.0</td>\n",
              "      <td>9.623252</td>\n",
              "      <td>6.5</td>\n",
              "    </tr>\n",
              "    <tr>\n",
              "      <th>1</th>\n",
              "      <td>1.0</td>\n",
              "      <td>80.0</td>\n",
              "      <td>3.0</td>\n",
              "      <td>3.0</td>\n",
              "      <td>3.0</td>\n",
              "      <td>3.0</td>\n",
              "      <td>1.0</td>\n",
              "      <td>393.0</td>\n",
              "      <td>0.0</td>\n",
              "      <td>9.623252</td>\n",
              "      <td>7.9</td>\n",
              "    </tr>\n",
              "    <tr>\n",
              "      <th>2</th>\n",
              "      <td>1.0</td>\n",
              "      <td>136.5</td>\n",
              "      <td>3.0</td>\n",
              "      <td>4.0</td>\n",
              "      <td>4.0</td>\n",
              "      <td>3.0</td>\n",
              "      <td>1.0</td>\n",
              "      <td>385.0</td>\n",
              "      <td>0.0</td>\n",
              "      <td>9.623252</td>\n",
              "      <td>10.8</td>\n",
              "    </tr>\n",
              "    <tr>\n",
              "      <th>3</th>\n",
              "      <td>1.0</td>\n",
              "      <td>95.0</td>\n",
              "      <td>5.0</td>\n",
              "      <td>5.0</td>\n",
              "      <td>4.0</td>\n",
              "      <td>3.0</td>\n",
              "      <td>2.0</td>\n",
              "      <td>1063.0</td>\n",
              "      <td>0.0</td>\n",
              "      <td>14.245030</td>\n",
              "      <td>7.6</td>\n",
              "    </tr>\n",
              "    <tr>\n",
              "      <th>4</th>\n",
              "      <td>1.0</td>\n",
              "      <td>90.0</td>\n",
              "      <td>5.0</td>\n",
              "      <td>5.0</td>\n",
              "      <td>4.0</td>\n",
              "      <td>3.0</td>\n",
              "      <td>2.0</td>\n",
              "      <td>1063.0</td>\n",
              "      <td>0.0</td>\n",
              "      <td>14.245030</td>\n",
              "      <td>7.6</td>\n",
              "    </tr>\n",
              "  </tbody>\n",
              "</table>\n",
              "</div>"
            ],
            "text/plain": [
              "   Property_type   Area  Floors  Bedrooms  Toilets  Legal_status  Furniture  \\\n",
              "0            1.0   80.0     3.0       4.0      3.0           3.0        1.0   \n",
              "1            1.0   80.0     3.0       3.0      3.0           3.0        1.0   \n",
              "2            1.0  136.5     3.0       4.0      4.0           3.0        1.0   \n",
              "3            1.0   95.0     5.0       5.0      4.0           3.0        2.0   \n",
              "4            1.0   90.0     5.0       5.0      4.0           3.0        2.0   \n",
              "\n",
              "   Project_name  District   Distance  Price  \n",
              "0         428.0       0.0   9.623252    6.5  \n",
              "1         393.0       0.0   9.623252    7.9  \n",
              "2         385.0       0.0   9.623252   10.8  \n",
              "3        1063.0       0.0  14.245030    7.6  \n",
              "4        1063.0       0.0  14.245030    7.6  "
            ]
          },
          "execution_count": 14,
          "metadata": {},
          "output_type": "execute_result"
        }
      ],
      "source": [
        "from sklearn.preprocessing import OrdinalEncoder\n",
        "\n",
        "# Create an instance of OrdinalEncoder\n",
        "Encoder = OrdinalEncoder()\n",
        "Encoder.set_params(encoded_missing_value=-1)\n",
        "\n",
        "Categorical_columns = ['Property_type', 'Legal_status', 'Furniture', 'Project_name', 'District']\n",
        "\n",
        "# Fit the encoder to your data\n",
        "Encoder.fit(Data[Categorical_columns])\n",
        "\n",
        "# Transform your data using the encoder\n",
        "Data[Categorical_columns] = Encoder.transform(Data[Categorical_columns])\n",
        "\n",
        "# Print the encoded data\n",
        "Data.head(5)"
      ]
    },
    {
      "cell_type": "code",
      "execution_count": 15,
      "metadata": {},
      "outputs": [
        {
          "data": {
            "text/plain": [
              "Property_type    0\n",
              "Area             0\n",
              "Floors           0\n",
              "Bedrooms         0\n",
              "Toilets          0\n",
              "Legal_status     0\n",
              "Furniture        0\n",
              "Project_name     0\n",
              "District         0\n",
              "Distance         0\n",
              "Price            0\n",
              "dtype: int64"
            ]
          },
          "execution_count": 15,
          "metadata": {},
          "output_type": "execute_result"
        }
      ],
      "source": [
        "## Sử dụng model Machine Learning để dự đoán giá trị bị thiếu\n",
        "from sklearn.experimental import enable_iterative_imputer\n",
        "from sklearn.impute import IterativeImputer\n",
        "\n",
        "cols = ['Property_type', 'Area', 'Floors', 'Bedrooms', 'Toilets']\n",
        "impute_it = IterativeImputer()\n",
        "Data[cols] = impute_it.fit_transform(Data[cols])\n",
        "\n",
        "Data.isnull().sum()"
      ]
    },
    {
      "cell_type": "code",
      "execution_count": 16,
      "metadata": {},
      "outputs": [
        {
          "data": {
            "text/html": [
              "<div>\n",
              "<style scoped>\n",
              "    .dataframe tbody tr th:only-of-type {\n",
              "        vertical-align: middle;\n",
              "    }\n",
              "\n",
              "    .dataframe tbody tr th {\n",
              "        vertical-align: top;\n",
              "    }\n",
              "\n",
              "    .dataframe thead th {\n",
              "        text-align: right;\n",
              "    }\n",
              "</style>\n",
              "<table border=\"1\" class=\"dataframe\">\n",
              "  <thead>\n",
              "    <tr style=\"text-align: right;\">\n",
              "      <th></th>\n",
              "      <th>Property_type</th>\n",
              "      <th>Area</th>\n",
              "      <th>Floors</th>\n",
              "      <th>Bedrooms</th>\n",
              "      <th>Toilets</th>\n",
              "      <th>Legal_status</th>\n",
              "      <th>Furniture</th>\n",
              "      <th>Project_name</th>\n",
              "      <th>District</th>\n",
              "      <th>Distance</th>\n",
              "      <th>Price</th>\n",
              "    </tr>\n",
              "  </thead>\n",
              "  <tbody>\n",
              "    <tr>\n",
              "      <th>0</th>\n",
              "      <td>1.0</td>\n",
              "      <td>80.0</td>\n",
              "      <td>3.0</td>\n",
              "      <td>4.0</td>\n",
              "      <td>3.0</td>\n",
              "      <td>3.0</td>\n",
              "      <td>1.0</td>\n",
              "      <td>428.0</td>\n",
              "      <td>0.0</td>\n",
              "      <td>9.623252</td>\n",
              "      <td>6.5</td>\n",
              "    </tr>\n",
              "    <tr>\n",
              "      <th>1</th>\n",
              "      <td>1.0</td>\n",
              "      <td>80.0</td>\n",
              "      <td>3.0</td>\n",
              "      <td>3.0</td>\n",
              "      <td>3.0</td>\n",
              "      <td>3.0</td>\n",
              "      <td>1.0</td>\n",
              "      <td>393.0</td>\n",
              "      <td>0.0</td>\n",
              "      <td>9.623252</td>\n",
              "      <td>7.9</td>\n",
              "    </tr>\n",
              "    <tr>\n",
              "      <th>2</th>\n",
              "      <td>1.0</td>\n",
              "      <td>136.5</td>\n",
              "      <td>3.0</td>\n",
              "      <td>4.0</td>\n",
              "      <td>4.0</td>\n",
              "      <td>3.0</td>\n",
              "      <td>1.0</td>\n",
              "      <td>385.0</td>\n",
              "      <td>0.0</td>\n",
              "      <td>9.623252</td>\n",
              "      <td>10.8</td>\n",
              "    </tr>\n",
              "    <tr>\n",
              "      <th>3</th>\n",
              "      <td>1.0</td>\n",
              "      <td>95.0</td>\n",
              "      <td>5.0</td>\n",
              "      <td>5.0</td>\n",
              "      <td>4.0</td>\n",
              "      <td>3.0</td>\n",
              "      <td>2.0</td>\n",
              "      <td>1063.0</td>\n",
              "      <td>0.0</td>\n",
              "      <td>14.245030</td>\n",
              "      <td>7.6</td>\n",
              "    </tr>\n",
              "    <tr>\n",
              "      <th>4</th>\n",
              "      <td>1.0</td>\n",
              "      <td>90.0</td>\n",
              "      <td>5.0</td>\n",
              "      <td>5.0</td>\n",
              "      <td>4.0</td>\n",
              "      <td>3.0</td>\n",
              "      <td>2.0</td>\n",
              "      <td>1063.0</td>\n",
              "      <td>0.0</td>\n",
              "      <td>14.245030</td>\n",
              "      <td>7.6</td>\n",
              "    </tr>\n",
              "    <tr>\n",
              "      <th>6</th>\n",
              "      <td>1.0</td>\n",
              "      <td>80.0</td>\n",
              "      <td>3.0</td>\n",
              "      <td>4.0</td>\n",
              "      <td>3.0</td>\n",
              "      <td>3.0</td>\n",
              "      <td>1.0</td>\n",
              "      <td>428.0</td>\n",
              "      <td>0.0</td>\n",
              "      <td>9.623252</td>\n",
              "      <td>6.5</td>\n",
              "    </tr>\n",
              "    <tr>\n",
              "      <th>7</th>\n",
              "      <td>1.0</td>\n",
              "      <td>75.0</td>\n",
              "      <td>3.0</td>\n",
              "      <td>3.0</td>\n",
              "      <td>3.0</td>\n",
              "      <td>3.0</td>\n",
              "      <td>1.0</td>\n",
              "      <td>428.0</td>\n",
              "      <td>0.0</td>\n",
              "      <td>9.623252</td>\n",
              "      <td>5.5</td>\n",
              "    </tr>\n",
              "  </tbody>\n",
              "</table>\n",
              "</div>"
            ],
            "text/plain": [
              "   Property_type   Area  Floors  Bedrooms  Toilets  Legal_status  Furniture  \\\n",
              "0            1.0   80.0     3.0       4.0      3.0           3.0        1.0   \n",
              "1            1.0   80.0     3.0       3.0      3.0           3.0        1.0   \n",
              "2            1.0  136.5     3.0       4.0      4.0           3.0        1.0   \n",
              "3            1.0   95.0     5.0       5.0      4.0           3.0        2.0   \n",
              "4            1.0   90.0     5.0       5.0      4.0           3.0        2.0   \n",
              "6            1.0   80.0     3.0       4.0      3.0           3.0        1.0   \n",
              "7            1.0   75.0     3.0       3.0      3.0           3.0        1.0   \n",
              "\n",
              "   Project_name  District   Distance  Price  \n",
              "0         428.0       0.0   9.623252    6.5  \n",
              "1         393.0       0.0   9.623252    7.9  \n",
              "2         385.0       0.0   9.623252   10.8  \n",
              "3        1063.0       0.0  14.245030    7.6  \n",
              "4        1063.0       0.0  14.245030    7.6  \n",
              "6         428.0       0.0   9.623252    6.5  \n",
              "7         428.0       0.0   9.623252    5.5  "
            ]
          },
          "execution_count": 16,
          "metadata": {},
          "output_type": "execute_result"
        }
      ],
      "source": [
        "Data.head(7)"
      ]
    },
    {
      "cell_type": "markdown",
      "metadata": {
        "id": "gwtvoWMIJ72V"
      },
      "source": [
        "# Scaling and Train Test Split\n"
      ]
    },
    {
      "cell_type": "code",
      "execution_count": 17,
      "metadata": {
        "id": "GMSWlIzyJ72V"
      },
      "outputs": [
        {
          "name": "stdout",
          "output_type": "stream",
          "text": [
            "Train size:  (27528, 10)\n",
            "Test size:  (6882, 10)\n"
          ]
        }
      ],
      "source": [
        "X = Data.drop('Price',axis = 1).values\n",
        "y = Data['Price'].values\n",
        "\n",
        "#splitting Train and Test\n",
        "from sklearn.model_selection import train_test_split\n",
        "X_train, X_test, y_train, y_test = train_test_split(X, y, test_size=0.2, random_state=101)\n",
        "print(\"Train size: \", X_train.shape)\n",
        "print(\"Test size: \", X_test.shape)"
      ]
    },
    {
      "cell_type": "markdown",
      "metadata": {
        "id": "UGewduhgJ72V"
      },
      "source": [
        "# Feature Scalling"
      ]
    },
    {
      "cell_type": "code",
      "execution_count": 18,
      "metadata": {
        "id": "U_cckAwgJ72W"
      },
      "outputs": [],
      "source": [
        "#standardization scaler - fit&transform on train, fit only on test\n",
        "from sklearn.preprocessing import StandardScaler\n",
        "s_scaler = StandardScaler()\n",
        "X_train = s_scaler.fit_transform(X_train.astype(np.float64))\n",
        "X_test = s_scaler.transform(X_test.astype(np.float64))"
      ]
    },
    {
      "cell_type": "markdown",
      "metadata": {
        "id": "HyUwy3ITJ72W"
      },
      "source": [
        "# Method1: Multiple Linear Regression"
      ]
    },
    {
      "cell_type": "code",
      "execution_count": 19,
      "metadata": {
        "id": "BzJW94-KJ72W"
      },
      "outputs": [
        {
          "data": {
            "text/plain": [
              "array([ 0.42590134,  2.49594352,  2.64132312,  0.14723824,  0.33628463,\n",
              "       -0.19828434,  0.03035632, -0.14584957,  0.14835528, -1.17952465])"
            ]
          },
          "execution_count": 19,
          "metadata": {},
          "output_type": "execute_result"
        }
      ],
      "source": [
        "#Liner Regression\n",
        "from sklearn.linear_model import LinearRegression\n",
        "regressor = LinearRegression()\n",
        "regressor.fit(X_train, y_train)\n",
        "\n",
        "#evaluate the model (intercept and slope)\n",
        "regressor.intercept_\n",
        "regressor.coef_"
      ]
    },
    {
      "cell_type": "code",
      "execution_count": 20,
      "metadata": {
        "id": "6u4BKDgdJ72W"
      },
      "outputs": [],
      "source": [
        "#coeff_df = pd.DataFrame(regressor.coef_, Data.drop('price',axis =1).columns, columns=['Coefficient'])\n",
        "#coeff_df"
      ]
    },
    {
      "cell_type": "code",
      "execution_count": 21,
      "metadata": {
        "id": "q_n930IhJ72W"
      },
      "outputs": [
        {
          "data": {
            "text/html": [
              "<div>\n",
              "<style scoped>\n",
              "    .dataframe tbody tr th:only-of-type {\n",
              "        vertical-align: middle;\n",
              "    }\n",
              "\n",
              "    .dataframe tbody tr th {\n",
              "        vertical-align: top;\n",
              "    }\n",
              "\n",
              "    .dataframe thead th {\n",
              "        text-align: right;\n",
              "    }\n",
              "</style>\n",
              "<table border=\"1\" class=\"dataframe\">\n",
              "  <thead>\n",
              "    <tr style=\"text-align: right;\">\n",
              "      <th></th>\n",
              "      <th>Actual</th>\n",
              "      <th>Predicted</th>\n",
              "    </tr>\n",
              "  </thead>\n",
              "  <tbody>\n",
              "    <tr>\n",
              "      <th>0</th>\n",
              "      <td>17.20</td>\n",
              "      <td>20.503605</td>\n",
              "    </tr>\n",
              "    <tr>\n",
              "      <th>1</th>\n",
              "      <td>4.20</td>\n",
              "      <td>4.737803</td>\n",
              "    </tr>\n",
              "    <tr>\n",
              "      <th>2</th>\n",
              "      <td>2.49</td>\n",
              "      <td>5.327658</td>\n",
              "    </tr>\n",
              "    <tr>\n",
              "      <th>3</th>\n",
              "      <td>5.70</td>\n",
              "      <td>7.927197</td>\n",
              "    </tr>\n",
              "    <tr>\n",
              "      <th>4</th>\n",
              "      <td>1.70</td>\n",
              "      <td>2.089059</td>\n",
              "    </tr>\n",
              "    <tr>\n",
              "      <th>5</th>\n",
              "      <td>2.10</td>\n",
              "      <td>-2.371401</td>\n",
              "    </tr>\n",
              "    <tr>\n",
              "      <th>6</th>\n",
              "      <td>5.70</td>\n",
              "      <td>2.680525</td>\n",
              "    </tr>\n",
              "    <tr>\n",
              "      <th>7</th>\n",
              "      <td>0.42</td>\n",
              "      <td>3.815473</td>\n",
              "    </tr>\n",
              "    <tr>\n",
              "      <th>8</th>\n",
              "      <td>12.60</td>\n",
              "      <td>8.712755</td>\n",
              "    </tr>\n",
              "    <tr>\n",
              "      <th>9</th>\n",
              "      <td>11.30</td>\n",
              "      <td>12.855311</td>\n",
              "    </tr>\n",
              "  </tbody>\n",
              "</table>\n",
              "</div>"
            ],
            "text/plain": [
              "   Actual  Predicted\n",
              "0   17.20  20.503605\n",
              "1    4.20   4.737803\n",
              "2    2.49   5.327658\n",
              "3    5.70   7.927197\n",
              "4    1.70   2.089059\n",
              "5    2.10  -2.371401\n",
              "6    5.70   2.680525\n",
              "7    0.42   3.815473\n",
              "8   12.60   8.712755\n",
              "9   11.30  12.855311"
            ]
          },
          "execution_count": 21,
          "metadata": {},
          "output_type": "execute_result"
        }
      ],
      "source": [
        "y_pred = regressor.predict(X_test)\n",
        "df = pd.DataFrame({'Actual': y_test, 'Predicted': y_pred})\n",
        "df1 = df.head(10)\n",
        "df1"
      ]
    },
    {
      "cell_type": "code",
      "execution_count": 22,
      "metadata": {
        "id": "D12QQw-hJ72X"
      },
      "outputs": [
        {
          "name": "stderr",
          "output_type": "stream",
          "text": [
            "/tmp/ipykernel_33583/1598147501.py:3: UserWarning: \n",
            "\n",
            "`distplot` is a deprecated function and will be removed in seaborn v0.14.0.\n",
            "\n",
            "Please adapt your code to use either `displot` (a figure-level function with\n",
            "similar flexibility) or `histplot` (an axes-level function for histograms).\n",
            "\n",
            "For a guide to updating your code to use the new functions, please see\n",
            "https://gist.github.com/mwaskom/de44147ed2974457ad6372750bbe5751\n",
            "\n",
            "  sns.distplot(residuals)\n"
          ]
        },
        {
          "data": {
            "text/plain": [
              "<Axes: ylabel='Density'>"
            ]
          },
          "execution_count": 22,
          "metadata": {},
          "output_type": "execute_result"
        },
        {
          "data": {
            "image/png": "[encoded data removed]",
            "text/plain": [
              "<Figure size 1000x500 with 1 Axes>"
            ]
          },
          "metadata": {},
          "output_type": "display_data"
        }
      ],
      "source": [
        "fig = plt.figure(figsize=(10,5))\n",
        "residuals = (y_test - y_pred)\n",
        "sns.distplot(residuals)"
      ]
    },
    {
      "cell_type": "code",
      "execution_count": 23,
      "metadata": {
        "id": "ZmptDpxQJ72X"
      },
      "outputs": [
        {
          "name": "stdout",
          "output_type": "stream",
          "text": [
            "Mean Absolute Error: 2.22\n",
            "Mean Squared Error:10.97\n",
            "Root Mean Squared Error:3.31\n",
            "Variance score is: 0.64\n"
          ]
        }
      ],
      "source": [
        "from sklearn import metrics\n",
        "\n",
        "print('Mean Absolute Error: {:.2f}'.format(metrics.mean_absolute_error(y_test, y_pred)))\n",
        "print('Mean Squared Error:{:.2f}'.format(\n",
        "    metrics.mean_squared_error(y_test, y_pred)))\n",
        "print('Root Mean Squared Error:{:.2f}'.format(\n",
        "    np.sqrt(metrics.mean_squared_error(y_test, y_pred))))\n",
        "print('Variance score is: {:.2f}'.format(metrics.explained_variance_score(y_test, y_pred)))"
      ]
    },
    {
      "cell_type": "code",
      "execution_count": 24,
      "metadata": {
        "id": "3gbhyldMJ72X"
      },
      "outputs": [
        {
          "data": {
            "text/plain": [
              "6.065346992153443"
            ]
          },
          "execution_count": 24,
          "metadata": {},
          "output_type": "execute_result"
        }
      ],
      "source": [
        "# we are off about 20% (comparing mean absolut error and mean of price)\n",
        "Data['Price'].mean()"
      ]
    },
    {
      "cell_type": "code",
      "execution_count": 25,
      "metadata": {
        "id": "nNX4jmwyJ72Y"
      },
      "outputs": [
        {
          "name": "stdout",
          "output_type": "stream",
          "text": [
            "Linear Regression Model:\n",
            "Train Score 0.63\n",
            "Test Score 0.64\n"
          ]
        }
      ],
      "source": [
        "print('Linear Regression Model:')\n",
        "print(\"Train Score {:.2f}\".format(regressor.score(X_train,y_train)))\n",
        "print(\"Test Score {:.2f}\".format(regressor.score(X_test, y_test)))"
      ]
    },
    {
      "cell_type": "markdown",
      "metadata": {
        "id": "otRbX509J72Y"
      },
      "source": [
        "# Method2: Keras Regression"
      ]
    },
    {
      "cell_type": "code",
      "execution_count": 26,
      "metadata": {
        "id": "8x8YJx17J72Y"
      },
      "outputs": [
        {
          "ename": "NameError",
          "evalue": "name 'Sequential' is not defined",
          "output_type": "error",
          "traceback": [
            "\u001b[0;31m---------------------------------------------------------------------------\u001b[0m",
            "\u001b[0;31mNameError\u001b[0m                                 Traceback (most recent call last)",
            "Cell \u001b[0;32mIn[26], line 3\u001b[0m\n\u001b[1;32m      1\u001b[0m \u001b[38;5;66;03m# having 19 nueron is based on the number of available featurs\u001b[39;00m\n\u001b[0;32m----> 3\u001b[0m model \u001b[38;5;241m=\u001b[39m \u001b[43mSequential\u001b[49m()\n\u001b[1;32m      5\u001b[0m model\u001b[38;5;241m.\u001b[39madd(Dense(\u001b[38;5;241m19\u001b[39m,activation\u001b[38;5;241m=\u001b[39m\u001b[38;5;124m'\u001b[39m\u001b[38;5;124mrelu\u001b[39m\u001b[38;5;124m'\u001b[39m))\n\u001b[1;32m      6\u001b[0m model\u001b[38;5;241m.\u001b[39madd(Dense(\u001b[38;5;241m19\u001b[39m,activation\u001b[38;5;241m=\u001b[39m\u001b[38;5;124m'\u001b[39m\u001b[38;5;124mrelu\u001b[39m\u001b[38;5;124m'\u001b[39m))\n",
            "\u001b[0;31mNameError\u001b[0m: name 'Sequential' is not defined"
          ]
        }
      ],
      "source": [
        "# having 19 nueron is based on the number of available featurs\n",
        "\n",
        "model = Sequential()\n",
        "\n",
        "model.add(Dense(19,activation='relu'))\n",
        "model.add(Dense(19,activation='relu'))\n",
        "model.add(Dense(19,activation='relu'))\n",
        "model.add(Dense(19,activation='relu'))\n",
        "model.add(Dense(1))\n",
        "\n",
        "model.compile(optimizer='adam',loss='mse')"
      ]
    },
    {
      "cell_type": "markdown",
      "metadata": {
        "id": "KQsncvi2J72l"
      },
      "source": [
        "# Training the Model"
      ]
    },
    {
      "cell_type": "code",
      "execution_count": null,
      "metadata": {
        "id": "88hrA_MAJ72l"
      },
      "outputs": [],
      "source": [
        "model.fit(x=X_train,y=y_train,\n",
        "          validation_data=(X_test,y_test),\n",
        "          batch_size=128,epochs=400)"
      ]
    },
    {
      "cell_type": "code",
      "execution_count": null,
      "metadata": {
        "id": "Qm94aEw6J72m"
      },
      "outputs": [],
      "source": [
        "model.summary()"
      ]
    },
    {
      "cell_type": "code",
      "execution_count": null,
      "metadata": {
        "id": "fqcWrQQ7J72m"
      },
      "outputs": [],
      "source": [
        "loss_df = pd.DataFrame(model.history.history)\n",
        "loss_df.plot(figsize=(12,8))\n"
      ]
    },
    {
      "cell_type": "markdown",
      "metadata": {
        "id": "eOUsr4eFJ72m"
      },
      "source": [
        "# Evaluation on Test Data"
      ]
    },
    {
      "cell_type": "code",
      "execution_count": null,
      "metadata": {
        "id": "XNS2T4DpJ72m"
      },
      "outputs": [],
      "source": [
        "y_pred = model.predict(X_test)"
      ]
    },
    {
      "cell_type": "code",
      "execution_count": null,
      "metadata": {
        "id": "H5IVP0f_J72n"
      },
      "outputs": [],
      "source": [
        "# evaluation metrics\n",
        "# explained variance score: best possible score is 1 and lower values are worse\n",
        "from sklearn import metrics\n",
        "\n",
        "print('Mean Absolute Error: {:.2f}'.format(metrics.mean_absolute_error(y_test, y_pred)))\n",
        "print('Mean Squared Error: {:.2f}'.format(metrics.mean_squared_error(y_test, y_pred)))\n",
        "print('Root Mean Squared Error: {:.2f}'.format(np.sqrt(metrics.mean_squared_error(y_test, y_pred))))\n",
        "print('Variance score is: {:.2f}'.format(metrics.explained_variance_score(y_test,y_pred)))"
      ]
    },
    {
      "cell_type": "code",
      "execution_count": null,
      "metadata": {
        "id": "UW6WGiv4J72n"
      },
      "outputs": [],
      "source": [
        "# we are off about 20% (comparing mean absolut error and mean of price)\n",
        "Data['price'].mean()"
      ]
    },
    {
      "cell_type": "code",
      "execution_count": null,
      "metadata": {
        "id": "bm63QEi2J72n"
      },
      "outputs": [],
      "source": [
        "# Our predictions\n",
        "fig = plt.figure(figsize=(10,5))\n",
        "plt.scatter(y_test,y_pred)\n",
        "# Perfect predictions\n",
        "plt.plot(y_test,y_test,'r')"
      ]
    },
    {
      "cell_type": "code",
      "execution_count": null,
      "metadata": {
        "id": "yw3rb9ZLJ72n"
      },
      "outputs": [],
      "source": [
        "fig = plt.figure(figsize=(10,5))\n",
        "residuals = (y_test- y_pred)\n",
        "sns.distplot(residuals)"
      ]
    },
    {
      "cell_type": "markdown",
      "metadata": {
        "id": "joDLEOKQJ72n"
      },
      "source": [
        "# Hoe we can use the model!"
      ]
    },
    {
      "cell_type": "code",
      "execution_count": null,
      "metadata": {
        "id": "DY-Zp8wDJ72n"
      },
      "outputs": [],
      "source": [
        "# let's drop price and keep first line featurs, then put those featur inside the model and estimae the price!\n",
        "single_house = Data.drop('price',axis = 1).iloc[0]"
      ]
    },
    {
      "cell_type": "code",
      "execution_count": null,
      "metadata": {
        "id": "O51ClPC3J72o"
      },
      "outputs": [],
      "source": [
        "# need to apply featur scalling on those featurs\n",
        "single_house = s_scaler.transform(single_house.values.reshape(-1,19))"
      ]
    },
    {
      "cell_type": "code",
      "execution_count": null,
      "metadata": {
        "id": "2Qkl8VBJJ72o"
      },
      "outputs": [],
      "source": [
        "# apply model on those featurs\n",
        "model.predict(single_house)"
      ]
    },
    {
      "cell_type": "code",
      "execution_count": null,
      "metadata": {
        "id": "EhqH2W_4J72o"
      },
      "outputs": [],
      "source": [
        "# compare the prediction with real price for the first column\n",
        "Data['price'][0]"
      ]
    },
    {
      "cell_type": "markdown",
      "metadata": {
        "id": "O8Ev-gjEJ72o"
      },
      "source": [
        "# Multiple Linear Regression vs Keras Regression"
      ]
    },
    {
      "cell_type": "code",
      "execution_count": null,
      "metadata": {
        "id": "RokWf7SVJ72o"
      },
      "outputs": [],
      "source": [
        "\n",
        "print('Model: Keras Regression\\n')\n",
        "\n",
        "print('Mean Absolute Error(MAE): {:.2f}'.format(metrics.mean_absolute_error(y_test, y_pred)))\n",
        "print('Mean Squared Error(MSE): {:.2f}'.format(metrics.mean_squared_error(y_test, y_pred)))\n",
        "print('Root Mean Squared Error(RMSE): {:.2f}'.format(np.sqrt(metrics.mean_squared_error(y_test, y_pred))))\n",
        "print('Variance score: {:.2f}\\n'.format(metrics.explained_variance_score(y_test,y_pred)*100))\n",
        "print('*********************************\\n')\n",
        "print('Model: Multiple Linear Regression\\n')\n",
        "print('Mean Absolute Error(MAE): {:.2f}'.format(metrics.mean_absolute_error(y_test, y_predd)))\n",
        "print('Mean Squared Error(MSE):{:.2f}'.format(metrics.mean_squared_error(y_test, y_predd)))\n",
        "print('Root Mean Squared Error(RMSE):{:.2f}'.format(np.sqrt(metrics.mean_squared_error(y_test, y_predd))))\n",
        "print('Variance score: {:.2f}'.format(metrics.explained_variance_score(y_test,y_predd)*100))"
      ]
    },
    {
      "cell_type": "markdown",
      "metadata": {
        "id": "dyF9AUtkVHsC"
      },
      "source": [
        "### Lightning"
      ]
    },
    {
      "cell_type": "code",
      "execution_count": null,
      "metadata": {},
      "outputs": [],
      "source": [
        "%pip install lightning -U -q"
      ]
    },
    {
      "cell_type": "code",
      "execution_count": 27,
      "metadata": {
        "id": "oYfDNblga6Iq"
      },
      "outputs": [],
      "source": [
        "import torch\n",
        "import lightning as L\n",
        "#from sklearn import preprocessing\n",
        "from torch.utils.data import TensorDataset, DataLoader, random_split\n",
        "from sklearn.preprocessing import StandardScaler\n",
        "import torch.nn as nn\n",
        "import torch.nn.functional as F\n",
        "import torch.optim as optim\n",
        "from collections import OrderedDict\n",
        "from sklearn import metrics\n",
        "\n",
        "class LitDataModule(L.LightningDataModule):\n",
        "    def __init__(self, batch_size, num_workers, data):\n",
        "        super(LitDataModule, self).__init__()\n",
        "        self.batch_size = batch_size\n",
        "        self.num_workers = num_workers\n",
        "        self.data = data\n",
        "        X = data.drop('Price', axis=1).values\n",
        "        y = data['Price'].values\n",
        "\n",
        "    def setup(self, stage=None):\n",
        "        x = self.data.drop('Price', axis=1).values\n",
        "        y = self.data['Price'].values\n",
        "        \n",
        "        s_scaler = StandardScaler()\n",
        "        x = s_scaler.fit_transform(x.astype(np.float64))\n",
        "        \n",
        "        dataset = TensorDataset(\n",
        "            torch.tensor(x, dtype=torch.float), torch.tensor(y, dtype=torch.float))\n",
        "        \n",
        "        train_size = int(0.8 * len(dataset))\n",
        "        test_size = int(0.1 * len(dataset))\n",
        "        val_size = int(len(dataset) - train_size - test_size)\n",
        "        print('Train size: ', train_size)\n",
        "        print('Test size: ', test_size)\n",
        "        print('Validation size: ', val_size)\n",
        "        self.train_dataset, self.valid_dataset, self.test_dataset = random_split(dataset, [train_size, val_size, test_size])\n",
        "\n",
        "    def train_dataloader(self):\n",
        "        dataloader = DataLoader(self.train_dataset,\n",
        "                                batch_size=self.batch_size,\n",
        "                                shuffle=True,\n",
        "                                num_workers=self.num_workers,\n",
        "                                pin_memory=True,\n",
        "                                drop_last=True)\n",
        "        return dataloader\n",
        "\n",
        "    def val_dataloader(self):\n",
        "        dataloader = DataLoader(self.valid_dataset,\n",
        "                                batch_size=self.batch_size,\n",
        "                                num_workers=self.num_workers,\n",
        "                                pin_memory=True,\n",
        "                                drop_last=True)\n",
        "        return dataloader\n",
        "    \n",
        "    def test_dataloader(self):\n",
        "        dataloader = DataLoader(self.test_dataset,\n",
        "                                batch_size=self.batch_size,\n",
        "                                num_workers=self.num_workers,\n",
        "                                pin_memory=True,\n",
        "                                drop_last=False)\n",
        "        return dataloader"
      ]
    },
    {
      "cell_type": "code",
      "execution_count": 28,
      "metadata": {
        "id": "t81mytzRVHTJ"
      },
      "outputs": [],
      "source": [
        "class LitDNNModule(L.LightningModule):\n",
        "    def __init__(self, learning_rate = 0.02, batch=32):\n",
        "        super(LitDNNModule, self).__init__()\n",
        "        self.learning_rate = learning_rate\n",
        "        self.batch = batch\n",
        "        self.loss_fn = nn.L1Loss()\n",
        "        self.layers = nn.Sequential(OrderedDict(self.get_fclayer_list([10, 512, 256, 128, 64, 32, 16, 8, 4, 4, 2])))\n",
        "\n",
        "    # creates a list of hidden layers with given number of neuron in each layer and connects it to the output layer.\n",
        "    # Relu is used as the activation funtion. No activation function is applied for the last layer output\n",
        "    def get_fclayer_list(self, hidden_layers, outputs=1):\n",
        "        input_layers, output_layers = hidden_layers[:-1], hidden_layers[1:]\n",
        "        layers = []\n",
        "        for i, (l1, l2) in enumerate(zip(input_layers, output_layers)):\n",
        "            layers.append((f'fc{i}', nn.Linear(l1, l2)))\n",
        "            layers.append((f'leakyrelu{i}', nn.LeakyReLU()))\n",
        "        layers.append(('fc_out', nn.Linear(output_layers[-1], outputs)))\n",
        "        return layers\n",
        "    def forward(self, x):\n",
        "        x = self.layers(x)\n",
        "        return x\n",
        "\n",
        "    # def configure_optimizers(self):\n",
        "    #    return optim.AdamW(self.parameters(), lr=self.learning_rate)\n",
        "\n",
        "    def configure_optimizers(self):\n",
        "        optimizer = optim.AdamW(self.parameters(), lr=self.learning_rate)\n",
        "        scheduler = optim.lr_scheduler.ReduceLROnPlateau(\n",
        "            optimizer, mode='min', factor=0.1, patience=10, min_lr=1e-12)\n",
        "        # def lr_scheduler_step(self, scheduler, metric):\n",
        "        #     if metric is None:\n",
        "        #         scheduler.step()\n",
        "        #         last_lr = scheduler.get_last_lr()[0]\n",
        "        #         self.print(f\"Current learning rate: {last_lr}\")\n",
        "        #     else:\n",
        "        #         scheduler.step(metric)\n",
        "        #         last_lr = scheduler.get_last_lr()[0]\n",
        "        #         self.print(f\"Current learning rate: {last_lr}\")\n",
        "    \n",
        "        return {\"optimizer\": optimizer,\n",
        "                \"lr_scheduler\": {\n",
        "            \"scheduler\": scheduler,\n",
        "            \"monitor\": \"val_loss\",\n",
        "            \"frequency\": 1,\n",
        "            },\n",
        "        }\n",
        "\n",
        "    def shared_step(self, batch, batch_idx):\n",
        "        x, y = batch\n",
        "        y_pred = self.forward(x)\n",
        "        y = y.view(y.size(0), -1)\n",
        "        loss = self.loss_fn(y, y_pred)\n",
        "        return loss, y_pred\n",
        "    \n",
        "    # def on_validation_epoch_end(self):\n",
        "    #     last_lr = self.lr_schedulers.get_last_lr()[0]\n",
        "    #     # current_lr = lr_scheduler.optimizer.param_groups[0]['lr']\n",
        "    #     print(f\"Current learning rate: {last_lr}\")\n",
        "\n",
        "    def training_step(self, batch, batch_idx):\n",
        "        loss, y_pred = self.shared_step(batch, batch_idx)\n",
        "        self.log('train_loss', loss)\n",
        "        return loss\n",
        "\n",
        "    def validation_step(self, batch, batch_idx):\n",
        "        loss, y_pred = self.shared_step(batch, batch_idx)\n",
        "        self.log(\"val_loss\", loss)\n",
        "        return {\"val_loss\", loss}\n",
        "\n",
        "    def test_step(self, batch, batch_idx):\n",
        "        x, y = batch\n",
        "        y = y.to('cpu')\n",
        "        y = y.view(y.size(0), -1)\n",
        "        loss, y_pred = self.shared_step(batch, batch_idx)\n",
        "        y_pred = y_pred.to('cpu')\n",
        "        VarScore = metrics.explained_variance_score(y, y_pred)\n",
        "        self.log('Varian Score: ', VarScore)\n",
        "        return y_pred, VarScore"
      ]
    },
    {
      "cell_type": "code",
      "execution_count": 29,
      "metadata": {
        "colab": {
          "base_uri": "https://localhost:8080/"
        },
        "id": "GUEZzXXMbMXh",
        "outputId": "93970409-1e5f-4a94-9dac-e423c4017ecb"
      },
      "outputs": [
        {
          "name": "stdout",
          "output_type": "stream",
          "text": [
            "Epoch 0: 100%|██████████| 860/860 [00:05<00:00, 156.42it/s, v_num=8]"
          ]
        },
        {
          "name": "stderr",
          "output_type": "stream",
          "text": [
            "Metric val_loss improved. New best score: 1.882\n"
          ]
        },
        {
          "name": "stdout",
          "output_type": "stream",
          "text": [
            "Epoch 1: 100%|██████████| 860/860 [00:05<00:00, 164.58it/s, v_num=8]"
          ]
        },
        {
          "name": "stderr",
          "output_type": "stream",
          "text": [
            "Metric val_loss improved by 0.223 >= min_delta = 1e-07. New best score: 1.660\n"
          ]
        },
        {
          "name": "stdout",
          "output_type": "stream",
          "text": [
            "Epoch 3: 100%|██████████| 860/860 [00:04<00:00, 173.97it/s, v_num=8]"
          ]
        },
        {
          "name": "stderr",
          "output_type": "stream",
          "text": [
            "Metric val_loss improved by 0.009 >= min_delta = 1e-07. New best score: 1.651\n"
          ]
        },
        {
          "name": "stdout",
          "output_type": "stream",
          "text": [
            "Epoch 5: 100%|██████████| 860/860 [00:04<00:00, 174.03it/s, v_num=8]"
          ]
        },
        {
          "name": "stderr",
          "output_type": "stream",
          "text": [
            "Metric val_loss improved by 0.001 >= min_delta = 1e-07. New best score: 1.650\n"
          ]
        },
        {
          "name": "stdout",
          "output_type": "stream",
          "text": [
            "Epoch 6: 100%|██████████| 860/860 [00:04<00:00, 173.40it/s, v_num=8]"
          ]
        },
        {
          "name": "stderr",
          "output_type": "stream",
          "text": [
            "Metric val_loss improved by 0.046 >= min_delta = 1e-07. New best score: 1.603\n"
          ]
        },
        {
          "name": "stdout",
          "output_type": "stream",
          "text": [
            "Epoch 7: 100%|██████████| 860/860 [00:04<00:00, 174.76it/s, v_num=8]"
          ]
        },
        {
          "name": "stderr",
          "output_type": "stream",
          "text": [
            "Metric val_loss improved by 0.032 >= min_delta = 1e-07. New best score: 1.572\n"
          ]
        },
        {
          "name": "stdout",
          "output_type": "stream",
          "text": [
            "Epoch 8: 100%|██████████| 860/860 [00:04<00:00, 175.56it/s, v_num=8]"
          ]
        },
        {
          "name": "stderr",
          "output_type": "stream",
          "text": [
            "Metric val_loss improved by 0.040 >= min_delta = 1e-07. New best score: 1.532\n"
          ]
        },
        {
          "name": "stdout",
          "output_type": "stream",
          "text": [
            "Epoch 14: 100%|██████████| 860/860 [00:04<00:00, 174.45it/s, v_num=8]"
          ]
        },
        {
          "name": "stderr",
          "output_type": "stream",
          "text": [
            "Metric val_loss improved by 0.013 >= min_delta = 1e-07. New best score: 1.518\n"
          ]
        },
        {
          "name": "stdout",
          "output_type": "stream",
          "text": [
            "Epoch 15: 100%|██████████| 860/860 [00:04<00:00, 174.70it/s, v_num=8]"
          ]
        },
        {
          "name": "stderr",
          "output_type": "stream",
          "text": [
            "Metric val_loss improved by 0.027 >= min_delta = 1e-07. New best score: 1.491\n"
          ]
        },
        {
          "name": "stdout",
          "output_type": "stream",
          "text": [
            "Epoch 18: 100%|██████████| 860/860 [00:04<00:00, 175.23it/s, v_num=8]"
          ]
        },
        {
          "name": "stderr",
          "output_type": "stream",
          "text": [
            "Metric val_loss improved by 0.003 >= min_delta = 1e-07. New best score: 1.488\n"
          ]
        },
        {
          "name": "stdout",
          "output_type": "stream",
          "text": [
            "Epoch 22: 100%|██████████| 860/860 [00:04<00:00, 174.07it/s, v_num=8]"
          ]
        },
        {
          "name": "stderr",
          "output_type": "stream",
          "text": [
            "Metric val_loss improved by 0.012 >= min_delta = 1e-07. New best score: 1.476\n"
          ]
        },
        {
          "name": "stdout",
          "output_type": "stream",
          "text": [
            "Epoch 27: 100%|██████████| 860/860 [00:04<00:00, 174.65it/s, v_num=8]"
          ]
        },
        {
          "name": "stderr",
          "output_type": "stream",
          "text": [
            "Metric val_loss improved by 0.017 >= min_delta = 1e-07. New best score: 1.458\n"
          ]
        },
        {
          "name": "stdout",
          "output_type": "stream",
          "text": [
            "Epoch 39: 100%|██████████| 860/860 [00:04<00:00, 174.80it/s, v_num=8]"
          ]
        },
        {
          "name": "stderr",
          "output_type": "stream",
          "text": [
            "Metric val_loss improved by 0.047 >= min_delta = 1e-07. New best score: 1.411\n"
          ]
        },
        {
          "name": "stdout",
          "output_type": "stream",
          "text": [
            "Epoch 40: 100%|██████████| 860/860 [00:04<00:00, 175.84it/s, v_num=8]"
          ]
        },
        {
          "name": "stderr",
          "output_type": "stream",
          "text": [
            "Metric val_loss improved by 0.006 >= min_delta = 1e-07. New best score: 1.405\n"
          ]
        },
        {
          "name": "stdout",
          "output_type": "stream",
          "text": [
            "Epoch 41: 100%|██████████| 860/860 [00:04<00:00, 174.26it/s, v_num=8]"
          ]
        },
        {
          "name": "stderr",
          "output_type": "stream",
          "text": [
            "Metric val_loss improved by 0.012 >= min_delta = 1e-07. New best score: 1.393\n"
          ]
        },
        {
          "name": "stdout",
          "output_type": "stream",
          "text": [
            "Epoch 42: 100%|██████████| 860/860 [00:04<00:00, 173.11it/s, v_num=8]"
          ]
        },
        {
          "name": "stderr",
          "output_type": "stream",
          "text": [
            "Metric val_loss improved by 0.002 >= min_delta = 1e-07. New best score: 1.391\n"
          ]
        },
        {
          "name": "stdout",
          "output_type": "stream",
          "text": [
            "Epoch 43: 100%|██████████| 860/860 [00:04<00:00, 173.67it/s, v_num=8]"
          ]
        },
        {
          "name": "stderr",
          "output_type": "stream",
          "text": [
            "Metric val_loss improved by 0.002 >= min_delta = 1e-07. New best score: 1.389\n"
          ]
        },
        {
          "name": "stdout",
          "output_type": "stream",
          "text": [
            "Epoch 44: 100%|██████████| 860/860 [00:04<00:00, 174.81it/s, v_num=8]"
          ]
        },
        {
          "name": "stderr",
          "output_type": "stream",
          "text": [
            "Metric val_loss improved by 0.005 >= min_delta = 1e-07. New best score: 1.384\n"
          ]
        },
        {
          "name": "stdout",
          "output_type": "stream",
          "text": [
            "Epoch 47: 100%|██████████| 860/860 [00:04<00:00, 173.11it/s, v_num=8]"
          ]
        },
        {
          "name": "stderr",
          "output_type": "stream",
          "text": [
            "Metric val_loss improved by 0.006 >= min_delta = 1e-07. New best score: 1.378\n"
          ]
        },
        {
          "name": "stdout",
          "output_type": "stream",
          "text": [
            "Epoch 48: 100%|██████████| 860/860 [00:04<00:00, 174.38it/s, v_num=8]"
          ]
        },
        {
          "name": "stderr",
          "output_type": "stream",
          "text": [
            "Metric val_loss improved by 0.003 >= min_delta = 1e-07. New best score: 1.375\n"
          ]
        },
        {
          "name": "stdout",
          "output_type": "stream",
          "text": [
            "Epoch 52: 100%|██████████| 860/860 [00:04<00:00, 174.31it/s, v_num=8]"
          ]
        },
        {
          "name": "stderr",
          "output_type": "stream",
          "text": [
            "Metric val_loss improved by 0.001 >= min_delta = 1e-07. New best score: 1.374\n"
          ]
        },
        {
          "name": "stdout",
          "output_type": "stream",
          "text": [
            "Epoch 53: 100%|██████████| 860/860 [00:04<00:00, 176.82it/s, v_num=8]"
          ]
        },
        {
          "name": "stderr",
          "output_type": "stream",
          "text": [
            "Metric val_loss improved by 0.010 >= min_delta = 1e-07. New best score: 1.365\n"
          ]
        },
        {
          "name": "stdout",
          "output_type": "stream",
          "text": [
            "Epoch 56: 100%|██████████| 860/860 [00:05<00:00, 168.77it/s, v_num=8]"
          ]
        },
        {
          "name": "stderr",
          "output_type": "stream",
          "text": [
            "Metric val_loss improved by 0.005 >= min_delta = 1e-07. New best score: 1.359\n"
          ]
        },
        {
          "name": "stdout",
          "output_type": "stream",
          "text": [
            "Epoch 61: 100%|██████████| 860/860 [00:06<00:00, 139.42it/s, v_num=8]"
          ]
        },
        {
          "name": "stderr",
          "output_type": "stream",
          "text": [
            "Metric val_loss improved by 0.001 >= min_delta = 1e-07. New best score: 1.359\n"
          ]
        },
        {
          "name": "stdout",
          "output_type": "stream",
          "text": [
            "Epoch 63: 100%|██████████| 860/860 [00:05<00:00, 160.29it/s, v_num=8]"
          ]
        },
        {
          "name": "stderr",
          "output_type": "stream",
          "text": [
            "Metric val_loss improved by 0.001 >= min_delta = 1e-07. New best score: 1.358\n"
          ]
        },
        {
          "name": "stdout",
          "output_type": "stream",
          "text": [
            "Epoch 69: 100%|██████████| 860/860 [00:05<00:00, 157.99it/s, v_num=8]"
          ]
        },
        {
          "name": "stderr",
          "output_type": "stream",
          "text": [
            "Metric val_loss improved by 0.003 >= min_delta = 1e-07. New best score: 1.355\n"
          ]
        },
        {
          "name": "stdout",
          "output_type": "stream",
          "text": [
            "Epoch 75: 100%|██████████| 860/860 [00:05<00:00, 169.59it/s, v_num=8]"
          ]
        },
        {
          "name": "stderr",
          "output_type": "stream",
          "text": [
            "Metric val_loss improved by 0.005 >= min_delta = 1e-07. New best score: 1.350\n"
          ]
        },
        {
          "name": "stdout",
          "output_type": "stream",
          "text": [
            "Epoch 80: 100%|██████████| 860/860 [00:05<00:00, 157.13it/s, v_num=8]"
          ]
        },
        {
          "name": "stderr",
          "output_type": "stream",
          "text": [
            "Metric val_loss improved by 0.001 >= min_delta = 1e-07. New best score: 1.349\n"
          ]
        },
        {
          "name": "stdout",
          "output_type": "stream",
          "text": [
            "Epoch 87: 100%|██████████| 860/860 [00:05<00:00, 167.27it/s, v_num=8]"
          ]
        },
        {
          "name": "stderr",
          "output_type": "stream",
          "text": [
            "Metric val_loss improved by 0.003 >= min_delta = 1e-07. New best score: 1.347\n"
          ]
        },
        {
          "name": "stdout",
          "output_type": "stream",
          "text": [
            "Epoch 88: 100%|██████████| 860/860 [00:05<00:00, 170.37it/s, v_num=8]"
          ]
        },
        {
          "name": "stderr",
          "output_type": "stream",
          "text": [
            "Metric val_loss improved by 0.001 >= min_delta = 1e-07. New best score: 1.346\n"
          ]
        },
        {
          "name": "stdout",
          "output_type": "stream",
          "text": [
            "Epoch 89: 100%|██████████| 860/860 [00:05<00:00, 171.17it/s, v_num=8]"
          ]
        },
        {
          "name": "stderr",
          "output_type": "stream",
          "text": [
            "Metric val_loss improved by 0.002 >= min_delta = 1e-07. New best score: 1.343\n"
          ]
        },
        {
          "name": "stdout",
          "output_type": "stream",
          "text": [
            "Epoch 93: 100%|██████████| 860/860 [00:05<00:00, 167.98it/s, v_num=8]"
          ]
        },
        {
          "name": "stderr",
          "output_type": "stream",
          "text": [
            "Metric val_loss improved by 0.009 >= min_delta = 1e-07. New best score: 1.335\n"
          ]
        },
        {
          "name": "stdout",
          "output_type": "stream",
          "text": [
            "Epoch 105: 100%|██████████| 860/860 [00:05<00:00, 158.29it/s, v_num=8]"
          ]
        },
        {
          "name": "stderr",
          "output_type": "stream",
          "text": [
            "Metric val_loss improved by 0.015 >= min_delta = 1e-07. New best score: 1.319\n"
          ]
        },
        {
          "name": "stdout",
          "output_type": "stream",
          "text": [
            "Epoch 107: 100%|██████████| 860/860 [00:05<00:00, 155.54it/s, v_num=8]"
          ]
        },
        {
          "name": "stderr",
          "output_type": "stream",
          "text": [
            "Metric val_loss improved by 0.001 >= min_delta = 1e-07. New best score: 1.319\n"
          ]
        },
        {
          "name": "stdout",
          "output_type": "stream",
          "text": [
            "Epoch 108: 100%|██████████| 860/860 [00:05<00:00, 157.79it/s, v_num=8]"
          ]
        },
        {
          "name": "stderr",
          "output_type": "stream",
          "text": [
            "Metric val_loss improved by 0.001 >= min_delta = 1e-07. New best score: 1.318\n"
          ]
        },
        {
          "name": "stdout",
          "output_type": "stream",
          "text": [
            "Epoch 110: 100%|██████████| 860/860 [00:05<00:00, 164.00it/s, v_num=8]"
          ]
        },
        {
          "name": "stderr",
          "output_type": "stream",
          "text": [
            "Metric val_loss improved by 0.003 >= min_delta = 1e-07. New best score: 1.314\n"
          ]
        },
        {
          "name": "stdout",
          "output_type": "stream",
          "text": [
            "Epoch 190: 100%|██████████| 860/860 [00:05<00:00, 157.19it/s, v_num=8]"
          ]
        },
        {
          "name": "stderr",
          "output_type": "stream",
          "text": [
            "Monitored metric val_loss did not improve in the last 80 records. Best score: 1.314. Signaling Trainer to stop.\n"
          ]
        },
        {
          "name": "stdout",
          "output_type": "stream",
          "text": [
            "Epoch 190: 100%|██████████| 860/860 [00:05<00:00, 156.65it/s, v_num=8]\n"
          ]
        }
      ],
      "source": [
        "from argparse import Namespace\n",
        "import torch\n",
        "from lightning import seed_everything\n",
        "from lightning.pytorch.callbacks.early_stopping import EarlyStopping\n",
        "from lightning.pytorch.callbacks import LearningRateMonitor\n",
        "from lightning.pytorch.tuner import Tuner\n",
        "\n",
        "# Define hparams\n",
        "hparams = Namespace(\n",
        "    checkpoint_name='./checkpoint/final.ckpt',\n",
        "    data_folder='./content',\n",
        "    test_input='test.csv',\n",
        "    test_output='test_pred.csv',\n",
        "    default_root_dir='./logs',\n",
        "    max_epochs=450,\n",
        "    gpus=(-1 if torch.cuda.is_available() else 0),\n",
        "    auto_select_gpus=True,\n",
        "    deterministic=True,\n",
        "    batch_size=128,\n",
        "    num_workers=6,\n",
        "    learning_rate=0.02,\n",
        "    fast_dev_run=False\n",
        ")\n",
        "\n",
        "lr_monitor = LearningRateMonitor(logging_interval='epoch')\n",
        "early_stop_callback = EarlyStopping(monitor='val_loss', min_delta=1e-7, patience=80, verbose=True, mode='min', log_rank_zero_only=True)\n",
        "seed_everything(77)\n",
        "\n",
        "ml_module = LitDNNModule(learning_rate=0.01, batch=32)\n",
        "data_module = LitDataModule(batch_size=32, num_workers=6, data=Data)\n",
        "# data_module.setup()\n",
        "model_trainer = L.Trainer(\n",
        "    accelerator=\"gpu\", default_root_dir='./logs', callbacks=[early_stop_callback, lr_monitor], max_epochs=1000)\n",
        "model_trainer.logger = L.pytorch.loggers.TensorBoardLogger('logs/', name='exp')\n",
        "\n",
        "# tuner = Tuner(model_trainer)\n",
        "# lr_finder = tuner.lr_find(ml_module, datamodule=data_module)\n",
        "# print(lr_finder.results)\n",
        "\n",
        "def train_model(hparams):\n",
        "    #model_trainer = pl.Trainer.from_argparse_args(hparams)\n",
        "\n",
        "    model_trainer.fit(ml_module, datamodule=data_module)\n",
        "    model_trainer.save_checkpoint(hparams.checkpoint_name)\n",
        "\n",
        "\n",
        "def test_model(hparams):\n",
        "    model = LitDNNModule.load_from_checkpoint(hparams.checkpoint_name)\n",
        "    model_trainer.test(model, datamodule=data_module)\n",
        "\n",
        "# Call train_model() with hparams\n",
        "train_model(hparams=hparams)\n",
        "#test_model(hparams=hparams)"
      ]
    },
    {
      "cell_type": "code",
      "execution_count": 30,
      "metadata": {},
      "outputs": [
        {
          "name": "stderr",
          "output_type": "stream",
          "text": [
            "LOCAL_RANK: 0 - CUDA_VISIBLE_DEVICES: [0]\n"
          ]
        },
        {
          "name": "stdout",
          "output_type": "stream",
          "text": [
            "Train size:  27528\n",
            "Test size:  3441\n",
            "Validation size:  3441\n",
            "Testing DataLoader 0: 100%|██████████| 108/108 [00:00<00:00, 342.52it/s]\n",
            "────────────────────────────────────────────────────────────────────────────────────────────────────────────────────────\n",
            "       Test metric             DataLoader 0\n",
            "────────────────────────────────────────────────────────────────────────────────────────────────────────────────────────\n",
            "     Varian Score:          0.8813626170158386\n",
            "────────────────────────────────────────────────────────────────────────────────────────────────────────────────────────\n"
          ]
        }
      ],
      "source": [
        "test_model(hparams=hparams)"
      ]
    },
    {
      "cell_type": "code",
      "execution_count": 31,
      "metadata": {},
      "outputs": [
        {
          "ename": "SyntaxError",
          "evalue": "invalid syntax (3523962848.py, line 1)",
          "output_type": "error",
          "traceback": [
            "\u001b[0;36m  Cell \u001b[0;32mIn[31], line 1\u001b[0;36m\u001b[0m\n\u001b[0;31m    7.358 7.449 7.081\u001b[0m\n\u001b[0m          ^\u001b[0m\n\u001b[0;31mSyntaxError\u001b[0m\u001b[0;31m:\u001b[0m invalid syntax\n"
          ]
        }
      ],
      "source": [
        "7.358 7.449 7.081"
      ]
    }
  ],
  "metadata": {
    "accelerator": "GPU",
    "colab": {
      "gpuType": "T4",
      "include_colab_link": true,
      "provenance": []
    },
    "kernelspec": {
      "display_name": "Python 3",
      "name": "python3"
    },
    "language_info": {
      "codemirror_mode": {
        "name": "ipython",
        "version": 3
      },
      "file_extension": ".py",
      "mimetype": "text/x-python",
      "name": "python",
      "nbconvert_exporter": "python",
      "pygments_lexer": "ipython3",
      "version": "3.8.19"
    }
  },
  "nbformat": 4,
  "nbformat_minor": 0
}
